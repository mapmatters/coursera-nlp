{
  "nbformat": 4,
  "nbformat_minor": 0,
  "metadata": {
    "colab": {
      "name": "nlp class 1 - Week3 - nb04 - assignment",
      "provenance": [],
      "authorship_tag": "ABX9TyPal/x1RoAEKf4DLIt4To7z",
      "include_colab_link": true
    },
    "kernelspec": {
      "name": "python3",
      "display_name": "Python 3"
    }
  },
  "cells": [
    {
      "cell_type": "markdown",
      "metadata": {
        "id": "view-in-github",
        "colab_type": "text"
      },
      "source": [
        "<a href=\"https://colab.research.google.com/github/mapmatters/coursera-nlp/blob/main/nlp_class_1_Week3_nb04_assignment.ipynb\" target=\"_parent\"><img src=\"https://colab.research.google.com/assets/colab-badge.svg\" alt=\"Open In Colab\"/></a>"
      ]
    },
    {
      "cell_type": "code",
      "metadata": {
        "colab": {
          "base_uri": "https://localhost:8080/"
        },
        "id": "JSQJ9JMfpRaG",
        "outputId": "14bfa32b-fa98-4c8e-d4cc-85875b3ec6e6"
      },
      "source": [
        "from google.colab import drive\n",
        "drive.mount('/content/drive')\n",
        "import os\n",
        "os.chdir('/content/drive/MyDrive/coursera/nlp')\n",
        "!ls"
      ],
      "execution_count": 24,
      "outputs": [
        {
          "output_type": "stream",
          "text": [
            "Drive already mounted at /content/drive; to attempt to forcibly remount, call drive.mount(\"/content/drive\", force_remount=True).\n",
            " data\n",
            "'nlp class 1 - Week1 - nb01'\n",
            "'nlp class 1 - Week1 - nb02'\n",
            "'nlp class 1 - Week1 - nb03'\n",
            "'nlp class 1 - Week1 - nb04 - assignment'\n",
            "'nlp class 1 - Week2 - nb01'\n",
            "'nlp class 1 - Week2 - nb02 - assignment'\n",
            "'nlp class 1 - Week3 - nb01 - linear algebra'\n",
            "'nlp class 1 - Week3 - nb02- manipulating word embedding'\n",
            "'nlp class 1 - Week3 - nb03- PCA.ipynb'\n",
            "'nlp class 1 - Week3 - nb04 - assignment'\n",
            " py\n",
            " __pycache__\n"
          ],
          "name": "stdout"
        }
      ]
    },
    {
      "cell_type": "markdown",
      "metadata": {
        "id": "H-widT1Uvq6b"
      },
      "source": [
        "## Import data"
      ]
    },
    {
      "cell_type": "code",
      "metadata": {
        "id": "hSnEHCuxvgqE"
      },
      "source": [
        "# Run this cell to import packages.\n",
        "import pickle\n",
        "import numpy as np\n",
        "import pandas as pd\n",
        "import matplotlib.pyplot as plt\n",
        "\n",
        "# from utils import get_vectors"
      ],
      "execution_count": 25,
      "outputs": []
    },
    {
      "cell_type": "code",
      "metadata": {
        "id": "S12WXVD1vuV-"
      },
      "source": [
        "def get_vectors(embeddings, words):\n",
        "    \"\"\"\n",
        "    Input:\n",
        "        embeddings: a word \n",
        "        fr_embeddings:\n",
        "        words: a list of words\n",
        "    Output: \n",
        "        X: a matrix where the rows are the embeddings corresponding to the rows on the list\n",
        "        \n",
        "    \"\"\"\n",
        "    m = len(words)\n",
        "    X = np.zeros((1, 300))\n",
        "    for word in words:\n",
        "        english = word\n",
        "        eng_emb = embeddings[english]\n",
        "        X = np.row_stack((X, eng_emb))\n",
        "    X = X[1:,:]\n",
        "    return X"
      ],
      "execution_count": 26,
      "outputs": []
    },
    {
      "cell_type": "code",
      "metadata": {
        "colab": {
          "base_uri": "https://localhost:8080/",
          "height": 204
        },
        "id": "00ZUPZeIv4hy",
        "outputId": "ee6172c0-cbf6-4be8-aa8a-44010b36c021"
      },
      "source": [
        "data = pd.read_csv('data/capital.csv', delimiter=',')\n",
        "data.columns = ['num','city1', 'country1', 'city2', 'country2']\n",
        "data = data[['city1', 'country1', 'city2', 'country2']]\n",
        "\n",
        "# print first five elements in the DataFrame\n",
        "data.head(5)"
      ],
      "execution_count": 27,
      "outputs": [
        {
          "output_type": "execute_result",
          "data": {
            "text/html": [
              "<div>\n",
              "<style scoped>\n",
              "    .dataframe tbody tr th:only-of-type {\n",
              "        vertical-align: middle;\n",
              "    }\n",
              "\n",
              "    .dataframe tbody tr th {\n",
              "        vertical-align: top;\n",
              "    }\n",
              "\n",
              "    .dataframe thead th {\n",
              "        text-align: right;\n",
              "    }\n",
              "</style>\n",
              "<table border=\"1\" class=\"dataframe\">\n",
              "  <thead>\n",
              "    <tr style=\"text-align: right;\">\n",
              "      <th></th>\n",
              "      <th>city1</th>\n",
              "      <th>country1</th>\n",
              "      <th>city2</th>\n",
              "      <th>country2</th>\n",
              "    </tr>\n",
              "  </thead>\n",
              "  <tbody>\n",
              "    <tr>\n",
              "      <th>0</th>\n",
              "      <td>Athens</td>\n",
              "      <td>Greece</td>\n",
              "      <td>Bangkok</td>\n",
              "      <td>Thailand</td>\n",
              "    </tr>\n",
              "    <tr>\n",
              "      <th>1</th>\n",
              "      <td>Athens</td>\n",
              "      <td>Greece</td>\n",
              "      <td>Beijing</td>\n",
              "      <td>China</td>\n",
              "    </tr>\n",
              "    <tr>\n",
              "      <th>2</th>\n",
              "      <td>Athens</td>\n",
              "      <td>Greece</td>\n",
              "      <td>Berlin</td>\n",
              "      <td>Germany</td>\n",
              "    </tr>\n",
              "    <tr>\n",
              "      <th>3</th>\n",
              "      <td>Athens</td>\n",
              "      <td>Greece</td>\n",
              "      <td>Bern</td>\n",
              "      <td>Switzerland</td>\n",
              "    </tr>\n",
              "    <tr>\n",
              "      <th>4</th>\n",
              "      <td>Athens</td>\n",
              "      <td>Greece</td>\n",
              "      <td>Cairo</td>\n",
              "      <td>Egypt</td>\n",
              "    </tr>\n",
              "  </tbody>\n",
              "</table>\n",
              "</div>"
            ],
            "text/plain": [
              "    city1 country1    city2     country2\n",
              "0  Athens   Greece  Bangkok     Thailand\n",
              "1  Athens   Greece  Beijing        China\n",
              "2  Athens   Greece   Berlin      Germany\n",
              "3  Athens   Greece     Bern  Switzerland\n",
              "4  Athens   Greece    Cairo        Egypt"
            ]
          },
          "metadata": {
            "tags": []
          },
          "execution_count": 27
        }
      ]
    },
    {
      "cell_type": "markdown",
      "metadata": {
        "id": "GqFKqnRo4ipZ"
      },
      "source": [
        "### To Run This Code On Your Own Machine:\n",
        "Note that because the original google news word embedding dataset is about 3.64 gigabytes,\n",
        "the workspace is not able to handle the full file set.  So we've downloaded the full dataset,\n",
        "extracted a sample of the words that we're going to analyze in this assignment, and saved\n",
        "it in a pickle file called `word_embeddings_capitals.p`\n",
        "\n",
        "If you want to download the full dataset on your own and choose your own set of word embeddings,\n",
        "please see the instructions and some helper code.\n",
        "\n",
        "- Download the dataset from this [page](https://code.google.com/archive/p/word2vec/).\n",
        "- Search in the page for 'GoogleNews-vectors-negative300.bin.gz' and click the link to download.\n",
        "\n",
        "```python\n",
        "import nltk\n",
        "from gensim.models import KeyedVectors\n",
        "\n",
        "\n",
        "# embeddings = KeyedVectors.load_word2vec_format('data/GoogleNews-vectors-negative300_shortcut.bin.gz', binary = True)\n",
        "embeddings = KeyedVectors.load_word2vec_format('data/GoogleNews-vectors-negative300.bin.gz', binary = True)\n",
        "f = open('data/capital.csv', 'r').read()\n",
        "set_words = set(nltk.word_tokenize(f))\n",
        "select_words = words = ['king', 'queen', 'oil', 'gas', 'happy', 'sad', 'city', 'town', 'village', 'country', 'continent', 'petroleum', 'joyful']\n",
        "for w in select_words:\n",
        "    set_words.add(w)\n",
        "\n",
        "def get_word_embeddings(embeddings):\n",
        "\n",
        "    word_embeddings = {}\n",
        "    for word in embeddings.vocab:\n",
        "        if word in set_words:\n",
        "            word_embeddings[word] = embeddings[word]\n",
        "    return word_embeddings\n",
        "\n",
        "\n",
        "# Testing your function\n",
        "word_embeddings = get_word_embeddings(embeddings)\n",
        "print(len(word_embeddings))\n",
        "pickle.dump( word_embeddings, open( \"data/word_embeddings_subset.p\", \"wb\" ) )\n",
        "```"
      ]
    },
    {
      "cell_type": "code",
      "metadata": {
        "colab": {
          "base_uri": "https://localhost:8080/"
        },
        "id": "pyNqzyBrv8m_",
        "outputId": "d32c0e6c-a9f0-4e1d-82b1-765f3e0f8f8d"
      },
      "source": [
        "word_embeddings = pickle.load(open(\"data/word_embeddings_subset.p\", \"rb\"))\n",
        "len(word_embeddings)  # there should be 243 words that will be used in this assignment"
      ],
      "execution_count": 32,
      "outputs": [
        {
          "output_type": "execute_result",
          "data": {
            "text/plain": [
              "243"
            ]
          },
          "metadata": {
            "tags": []
          },
          "execution_count": 32
        }
      ]
    },
    {
      "cell_type": "code",
      "metadata": {
        "colab": {
          "base_uri": "https://localhost:8080/"
        },
        "id": "mmq1WcjSwYer",
        "outputId": "b1aaec50-8d9f-4763-94d7-a65164818d6e"
      },
      "source": [
        "print(\"dimension: {}\".format(word_embeddings['Spain'].shape[0]))"
      ],
      "execution_count": 33,
      "outputs": [
        {
          "output_type": "stream",
          "text": [
            "dimension: 300\n"
          ],
          "name": "stdout"
        }
      ]
    },
    {
      "cell_type": "markdown",
      "metadata": {
        "id": "3NiZtMGx5ccw"
      },
      "source": [
        "# predict relationship - cosine similarity"
      ]
    },
    {
      "cell_type": "code",
      "metadata": {
        "id": "ejM_mALE5U_I"
      },
      "source": [
        "def cosine_similarity(A, B):\n",
        "  '''\n",
        "  input \n",
        "    A: numpy array corresponds to a word vector\n",
        "    B: numpy array corresponds to a word vector\n",
        "  output\n",
        "    cos: numerical number... cosine similarity\n",
        "  '''\n",
        "\n",
        "  dot = np.dot(A, B)\n",
        "  norma = np.linalg.norm(A)\n",
        "  normb = np.linalg.norm(B)\n",
        "  cos = dot/(norma*normb)\n",
        "  \n",
        "  return cos"
      ],
      "execution_count": 34,
      "outputs": []
    },
    {
      "cell_type": "code",
      "metadata": {
        "colab": {
          "base_uri": "https://localhost:8080/"
        },
        "id": "unLNeF9l6Bwm",
        "outputId": "df565af7-e574-4185-934b-2194eed3a898"
      },
      "source": [
        "king = word_embeddings['king']\n",
        "queen = word_embeddings['queen']\n",
        "cosine_similarity(king, queen)"
      ],
      "execution_count": 35,
      "outputs": [
        {
          "output_type": "execute_result",
          "data": {
            "text/plain": [
              "0.6510956"
            ]
          },
          "metadata": {
            "tags": []
          },
          "execution_count": 35
        }
      ]
    },
    {
      "cell_type": "code",
      "metadata": {
        "id": "Fles_ZYt6bhG"
      },
      "source": [
        ""
      ],
      "execution_count": 35,
      "outputs": []
    },
    {
      "cell_type": "markdown",
      "metadata": {
        "id": "JAJRzcWY6dMh"
      },
      "source": [
        "# Euclidean distance"
      ]
    },
    {
      "cell_type": "code",
      "metadata": {
        "id": "gEwDlJN_6fgr"
      },
      "source": [
        "def euclidean(A, B):\n",
        "  d = np.sum((A-B)**2)**(1/2)\n",
        "  return d"
      ],
      "execution_count": 18,
      "outputs": []
    },
    {
      "cell_type": "code",
      "metadata": {
        "colab": {
          "base_uri": "https://localhost:8080/"
        },
        "id": "fSB2kTBW68-K",
        "outputId": "de5f3a3b-9bc1-4146-a541-9398255bc574"
      },
      "source": [
        "euclidean(king, queen)"
      ],
      "execution_count": 19,
      "outputs": [
        {
          "output_type": "execute_result",
          "data": {
            "text/plain": [
              "2.479692376654192"
            ]
          },
          "metadata": {
            "tags": []
          },
          "execution_count": 19
        }
      ]
    },
    {
      "cell_type": "markdown",
      "metadata": {
        "id": "-TQDVLtu7EMf"
      },
      "source": [
        "# Finding the country of each capital\n",
        "1. Athens\n",
        "2. Greece\n",
        "3. Baghdad\n",
        "task = predict 'Iraq'"
      ]
    },
    {
      "cell_type": "code",
      "metadata": {
        "id": "SYwKAkzb7ARG"
      },
      "source": [
        "def get_country(city1, country1, city2, embeddings):\n",
        "  '''\n",
        "  input:\n",
        "    city1\n",
        "    country1\n",
        "    city2 \n",
        "    embeddings\n",
        "  output:\n",
        "    countries\n",
        "  '''\n",
        "  # store the city1, country1, city2 in a set called group\n",
        "  group = set((city1, country1, city2))\n",
        "\n",
        "  # get embeddings \n",
        "  city1_emb = embeddings[city1]\n",
        "  country1_emb = embeddings[country1]\n",
        "  city2_emb = embeddings[city2]\n",
        "\n",
        "  # get embedding of country 2\n",
        "  vec = country1_emb - city1_emb + city2_emb\n",
        "\n",
        "  similarity = -1\n",
        "  country = ''\n",
        "\n",
        "  # loop through all words in the embeddings dict\n",
        "  for word in embeddings.keys():\n",
        "    if word not in group:\n",
        "      word_emb = embeddings[word]\n",
        "      cur_similarity = cosine_similarity(word_emb, vec)\n",
        "      if cur_similarity > similarity:\n",
        "        similarity = cur_similarity\n",
        "        country = (word, cur_similarity)\n",
        "\n",
        "  return country\n"
      ],
      "execution_count": 22,
      "outputs": []
    },
    {
      "cell_type": "code",
      "metadata": {
        "colab": {
          "base_uri": "https://localhost:8080/"
        },
        "id": "yCKZeCxs9NZl",
        "outputId": "782fb1ed-2724-4426-98ee-c63d5c39df3f"
      },
      "source": [
        "get_country('Athens', 'Greece', 'Cairo', word_embeddings)"
      ],
      "execution_count": 23,
      "outputs": [
        {
          "output_type": "execute_result",
          "data": {
            "text/plain": [
              "('Egypt', 0.7626821)"
            ]
          },
          "metadata": {
            "tags": []
          },
          "execution_count": 23
        }
      ]
    },
    {
      "cell_type": "markdown",
      "metadata": {
        "id": "kNzufCxQMb3w"
      },
      "source": [
        "# Accuracy"
      ]
    },
    {
      "cell_type": "code",
      "metadata": {
        "colab": {
          "base_uri": "https://localhost:8080/",
          "height": 419
        },
        "id": "ja0GrkthMydi",
        "outputId": "47237dd5-7248-462f-f9b0-9909f6a6cb84"
      },
      "source": [
        "data"
      ],
      "execution_count": 36,
      "outputs": [
        {
          "output_type": "execute_result",
          "data": {
            "text/html": [
              "<div>\n",
              "<style scoped>\n",
              "    .dataframe tbody tr th:only-of-type {\n",
              "        vertical-align: middle;\n",
              "    }\n",
              "\n",
              "    .dataframe tbody tr th {\n",
              "        vertical-align: top;\n",
              "    }\n",
              "\n",
              "    .dataframe thead th {\n",
              "        text-align: right;\n",
              "    }\n",
              "</style>\n",
              "<table border=\"1\" class=\"dataframe\">\n",
              "  <thead>\n",
              "    <tr style=\"text-align: right;\">\n",
              "      <th></th>\n",
              "      <th>city1</th>\n",
              "      <th>country1</th>\n",
              "      <th>city2</th>\n",
              "      <th>country2</th>\n",
              "    </tr>\n",
              "  </thead>\n",
              "  <tbody>\n",
              "    <tr>\n",
              "      <th>0</th>\n",
              "      <td>Athens</td>\n",
              "      <td>Greece</td>\n",
              "      <td>Bangkok</td>\n",
              "      <td>Thailand</td>\n",
              "    </tr>\n",
              "    <tr>\n",
              "      <th>1</th>\n",
              "      <td>Athens</td>\n",
              "      <td>Greece</td>\n",
              "      <td>Beijing</td>\n",
              "      <td>China</td>\n",
              "    </tr>\n",
              "    <tr>\n",
              "      <th>2</th>\n",
              "      <td>Athens</td>\n",
              "      <td>Greece</td>\n",
              "      <td>Berlin</td>\n",
              "      <td>Germany</td>\n",
              "    </tr>\n",
              "    <tr>\n",
              "      <th>3</th>\n",
              "      <td>Athens</td>\n",
              "      <td>Greece</td>\n",
              "      <td>Bern</td>\n",
              "      <td>Switzerland</td>\n",
              "    </tr>\n",
              "    <tr>\n",
              "      <th>4</th>\n",
              "      <td>Athens</td>\n",
              "      <td>Greece</td>\n",
              "      <td>Cairo</td>\n",
              "      <td>Egypt</td>\n",
              "    </tr>\n",
              "    <tr>\n",
              "      <th>...</th>\n",
              "      <td>...</td>\n",
              "      <td>...</td>\n",
              "      <td>...</td>\n",
              "      <td>...</td>\n",
              "    </tr>\n",
              "    <tr>\n",
              "      <th>4946</th>\n",
              "      <td>Zagreb</td>\n",
              "      <td>Croatia</td>\n",
              "      <td>Dakar</td>\n",
              "      <td>Senegal</td>\n",
              "    </tr>\n",
              "    <tr>\n",
              "      <th>4947</th>\n",
              "      <td>Zagreb</td>\n",
              "      <td>Croatia</td>\n",
              "      <td>Damascus</td>\n",
              "      <td>Syria</td>\n",
              "    </tr>\n",
              "    <tr>\n",
              "      <th>4948</th>\n",
              "      <td>Zagreb</td>\n",
              "      <td>Croatia</td>\n",
              "      <td>Dhaka</td>\n",
              "      <td>Bangladesh</td>\n",
              "    </tr>\n",
              "    <tr>\n",
              "      <th>4949</th>\n",
              "      <td>Zagreb</td>\n",
              "      <td>Croatia</td>\n",
              "      <td>Doha</td>\n",
              "      <td>Qatar</td>\n",
              "    </tr>\n",
              "    <tr>\n",
              "      <th>4950</th>\n",
              "      <td>Zagreb</td>\n",
              "      <td>Croatia</td>\n",
              "      <td>Dublin</td>\n",
              "      <td>Ireland</td>\n",
              "    </tr>\n",
              "  </tbody>\n",
              "</table>\n",
              "<p>4951 rows × 4 columns</p>\n",
              "</div>"
            ],
            "text/plain": [
              "       city1 country1     city2     country2\n",
              "0     Athens   Greece   Bangkok     Thailand\n",
              "1     Athens   Greece   Beijing        China\n",
              "2     Athens   Greece    Berlin      Germany\n",
              "3     Athens   Greece      Bern  Switzerland\n",
              "4     Athens   Greece     Cairo        Egypt\n",
              "...      ...      ...       ...          ...\n",
              "4946  Zagreb  Croatia     Dakar      Senegal\n",
              "4947  Zagreb  Croatia  Damascus        Syria\n",
              "4948  Zagreb  Croatia     Dhaka   Bangladesh\n",
              "4949  Zagreb  Croatia      Doha        Qatar\n",
              "4950  Zagreb  Croatia    Dublin      Ireland\n",
              "\n",
              "[4951 rows x 4 columns]"
            ]
          },
          "metadata": {
            "tags": []
          },
          "execution_count": 36
        }
      ]
    },
    {
      "cell_type": "code",
      "metadata": {
        "colab": {
          "base_uri": "https://localhost:8080/",
          "height": 35
        },
        "id": "3XJn94akM5G0",
        "outputId": "301b8256-4509-4317-9732-949d53829046"
      },
      "source": [
        "for i, row in data.iterrows():\n",
        "  # print(i)\n",
        "  # print(row)\n",
        "  a = row['city1']\n",
        "  # print(type(row))\n",
        "  if i > 0:\n",
        "    # return a  \n",
        "    break;\n",
        "a\n"
      ],
      "execution_count": 54,
      "outputs": [
        {
          "output_type": "execute_result",
          "data": {
            "application/vnd.google.colaboratory.intrinsic+json": {
              "type": "string"
            },
            "text/plain": [
              "'Athens'"
            ]
          },
          "metadata": {
            "tags": []
          },
          "execution_count": 54
        }
      ]
    },
    {
      "cell_type": "code",
      "metadata": {
        "id": "s3pSGeqr9SxN"
      },
      "source": [
        "def get_accuracy(word_embeddings, data):\n",
        "  '''\n",
        "  input\n",
        "    word_embeddings\n",
        "    data: pandas dataframe\n",
        "  output\n",
        "    accuracy\n",
        "  '''\n",
        "\n",
        "  num_correct = 0\n",
        "  for i, row in data.iterrows():\n",
        "    city1 = row['city1']\n",
        "    country1 = row['country1']\n",
        "    \n",
        "    city2 = row['city2']\n",
        "    country2 = row['country2']\n",
        "\n",
        "    predicted_country2, _ = get_country(city1, country1, city2, word_embeddings)\n",
        "\n",
        "    if predicted_country2 == country2:\n",
        "      num_correct += 1\n",
        "  m = len(data)\n",
        "\n",
        "  accuracy = num_correct / m\n",
        "  return accuracy\n"
      ],
      "execution_count": 55,
      "outputs": []
    },
    {
      "cell_type": "code",
      "metadata": {
        "colab": {
          "base_uri": "https://localhost:8080/"
        },
        "id": "Ns8gqYNzP8Gm",
        "outputId": "311873e3-429f-4fd0-cb84-d46925dcaeab"
      },
      "source": [
        "accuracy = get_accuracy(word_embeddings, data)\n",
        "print(f\"Accuracy is {accuracy:.2f}\")"
      ],
      "execution_count": 56,
      "outputs": [
        {
          "output_type": "stream",
          "text": [
            "Accuracy is 0.92\n"
          ],
          "name": "stdout"
        }
      ]
    },
    {
      "cell_type": "markdown",
      "metadata": {
        "id": "TtUzywDDQYtU"
      },
      "source": [
        "# Plotting the vectors using PCA\n",
        "\n",
        "- mean normalize the data\n",
        "- compute the covariance matrix of your data\n",
        "- compute the eigenvectors and the eigenvalues of your covariance matrix\n",
        "- multiply the first K eigenvectors by your normalized data"
      ]
    },
    {
      "cell_type": "markdown",
      "metadata": {
        "id": "jYODYpR8uesf"
      },
      "source": [
        "**Instructions**: \n",
        "\n",
        "You will write a program that takes in a data set where each row corresponds to a word vector. \n",
        "* The word vectors are of dimension 300. \n",
        "* Use PCA to change the 300 dimensions to `n_components` dimensions. \n",
        "* The new matrix should be of dimension `m, n_componentns`. \n",
        "\n",
        "* First de-mean the data\n",
        "* Get the eigenvalues using `linalg.eigh`.  Use `eigh` rather than `eig` since R is symmetric.  The performance gain when using `eigh` instead of `eig` is substantial.\n",
        "* Sort the eigenvectors and eigenvalues by decreasing order of the eigenvalues.\n",
        "* Get a subset of the eigenvectors (choose how many principle components you want to use using `n_components`).\n",
        "* Return the new transformation of the data by multiplying the eigenvectors with the original data."
      ]
    },
    {
      "cell_type": "code",
      "metadata": {
        "id": "Mt2SI8pvP9YJ"
      },
      "source": [
        "# UNQ_C5 (UNIQUE CELL IDENTIFIER, DO NOT EDIT)\n",
        "def compute_pca(X, n_components=2):\n",
        "    \"\"\"\n",
        "    Input:\n",
        "        X: of dimension (m,n) where each row corresponds to a word vector\n",
        "        n_components: Number of components you want to keep.\n",
        "    Output:\n",
        "        X_reduced: data transformed in 2 dims/columns + regenerated original data\n",
        "    \"\"\"\n",
        "\n",
        "    ### START CODE HERE (REPLACE INSTANCES OF 'None' with your code) ###\n",
        "    # mean center the data\n",
        "    X_demeaned = X - np.mean(X, axis=0)\n",
        "\n",
        "    # calculate the covariance matrix\n",
        "    covariance_matrix = np.cov(X_demeaned, rowvar=False)\n",
        "\n",
        "    # calculate eigenvectors & eigenvalues of the covariance matrix\n",
        "    eigen_vals, eigen_vecs = np.linalg.eigh(covariance_matrix, UPLO='L')\n",
        "    # eigen_vals, eigen_vecs = np.linalg.eig(covariance_matrix)\n",
        "    print(eigen_vals)\n",
        "    # sort eigenvalue in increasing order (get the indices from the sort)\n",
        "    idx_sorted = np.argsort(eigen_vals)\n",
        "    print(idx_sorted)\n",
        "    \n",
        "    # reverse the order so that it's from highest to lowest.\n",
        "    idx_sorted_decreasing =  idx_sorted[::-1]\n",
        "\n",
        "    # sort the eigen values by idx_sorted_decreasing\n",
        "    eigen_vals_sorted = eigen_vals[idx_sorted_decreasing] \n",
        "\n",
        "    # sort eigenvectors using the idx_sorted_decreasing indices\n",
        "    eigen_vecs_sorted = eigen_vecs[:,idx_sorted_decreasing] \n",
        "\n",
        "    # select the first n eigenvectors (n is desired dimension\n",
        "    # of rescaled data array, or dims_rescaled_data)\n",
        "    eigen_vecs_subset = eigen_vecs_sorted[:,:n_components] \n",
        "\n",
        "    # transform the data by multiplying the transpose of the eigenvectors \n",
        "    # with the transpose of the de-meaned data\n",
        "    # Then take the transpose of that product.\n",
        "    X_reduced = np.dot(X_demeaned, eigen_vecs_subset)\n",
        "\n",
        "    ### END CODE HERE ###\n",
        "\n",
        "    return X_reduced\n"
      ],
      "execution_count": 203,
      "outputs": []
    },
    {
      "cell_type": "code",
      "metadata": {
        "colab": {
          "base_uri": "https://localhost:8080/"
        },
        "id": "Uy06yW-vKP3S",
        "outputId": "8a89ff08-4bb9-4411-8474-06a08a9e54dc"
      },
      "source": [
        "# Testing your function\n",
        "np.random.seed(1)\n",
        "X = np.random.rand(3, 10)\n",
        "X_reduced = compute_pca(X, n_components=2)\n",
        "print(\"Your original matrix was \" + str(X.shape) + \" and it became:\")\n",
        "print(X_reduced)"
      ],
      "execution_count": 204,
      "outputs": [
        {
          "output_type": "stream",
          "text": [
            "[-6.64396319e-17 -1.55854519e-17 -9.21522981e-18 -2.56689420e-18\n",
            "  3.86692031e-19  4.43319142e-18  4.53021184e-17  7.57775903e-17\n",
            "  2.50881048e-01  5.48501886e-01]\n",
            "[0 1 2 3 4 5 6 7 8 9]\n",
            "Your original matrix was (3, 10) and it became:\n",
            "[[ 0.43437323  0.49820384]\n",
            " [ 0.42077249 -0.50351448]\n",
            " [-0.85514571  0.00531064]]\n"
          ],
          "name": "stdout"
        }
      ]
    },
    {
      "cell_type": "code",
      "metadata": {
        "colab": {
          "base_uri": "https://localhost:8080/"
        },
        "id": "Ho9zb8pLu3Kh",
        "outputId": "c4ae1508-31b0-463e-e6bd-5b7f698b6465"
      },
      "source": [
        "words = ['oil', 'gas', 'happy', 'sad', 'city', 'town',\n",
        "         'village', 'country', 'continent', 'petroleum', 'joyful']\n",
        "\n",
        "# given a list of words and the embeddings, it returns a matrix with all the embeddings\n",
        "XX = get_vectors(word_embeddings, words)\n",
        "\n",
        "print('You have 11 words each of 300 dimensions thus X.shape is:', XX.shape)\n",
        "# We have done the plotting for you. Just run this cell.\n",
        "result = compute_pca(XX, 2)"
      ],
      "execution_count": 206,
      "outputs": [
        {
          "output_type": "stream",
          "text": [
            "You have 11 words each of 300 dimensions thus X.shape is: (11, 300)\n",
            "[-5.30275932e-16 -4.69531692e-16 -4.57848709e-16 -4.06120894e-16\n",
            " -3.86511589e-16 -3.11487715e-16 -3.02782930e-16 -2.74735293e-16\n",
            " -2.72411405e-16 -2.36254435e-16 -2.08075202e-16 -2.06084037e-16\n",
            " -1.61328320e-16 -1.49676975e-16 -1.41329634e-16 -1.33813522e-16\n",
            " -1.28462136e-16 -1.18182255e-16 -1.15738601e-16 -1.08024492e-16\n",
            " -1.02406602e-16 -9.74456173e-17 -9.36685152e-17 -9.20054161e-17\n",
            " -8.81362459e-17 -8.61478180e-17 -8.17165513e-17 -7.73963116e-17\n",
            " -7.51889501e-17 -7.34089198e-17 -6.49890197e-17 -6.27489803e-17\n",
            " -6.18020545e-17 -5.61717209e-17 -5.26973351e-17 -5.20239581e-17\n",
            " -5.04943235e-17 -4.90660320e-17 -4.79262196e-17 -4.66486734e-17\n",
            " -4.64767626e-17 -4.62610768e-17 -4.50308879e-17 -4.24177436e-17\n",
            " -4.20180112e-17 -4.11916144e-17 -4.09656289e-17 -4.02005642e-17\n",
            " -3.91412909e-17 -3.75915941e-17 -3.72428579e-17 -3.71197013e-17\n",
            " -3.63135501e-17 -3.58214990e-17 -3.57029091e-17 -3.38124892e-17\n",
            " -3.18752993e-17 -3.15200987e-17 -3.13184018e-17 -3.04746595e-17\n",
            " -3.03177033e-17 -3.00403020e-17 -2.94708839e-17 -2.92856598e-17\n",
            " -2.86215812e-17 -2.81294146e-17 -2.80168004e-17 -2.78726081e-17\n",
            " -2.77491318e-17 -2.77019847e-17 -2.73972179e-17 -2.63249424e-17\n",
            " -2.53039510e-17 -2.42740963e-17 -2.41002595e-17 -2.36536724e-17\n",
            " -2.32508033e-17 -2.32200887e-17 -2.28126934e-17 -2.15219257e-17\n",
            " -2.11155307e-17 -2.01639272e-17 -1.94916835e-17 -1.94553152e-17\n",
            " -1.87008936e-17 -1.86295281e-17 -1.86032178e-17 -1.81389575e-17\n",
            " -1.79469001e-17 -1.73675980e-17 -1.68337032e-17 -1.63346041e-17\n",
            " -1.63309770e-17 -1.62406770e-17 -1.55020439e-17 -1.52432109e-17\n",
            " -1.50618234e-17 -1.45391348e-17 -1.38933689e-17 -1.30968410e-17\n",
            " -1.27562392e-17 -1.25414316e-17 -1.25026180e-17 -1.24916581e-17\n",
            " -1.18306064e-17 -1.17182034e-17 -1.16530295e-17 -1.13736083e-17\n",
            " -1.11081632e-17 -1.09938799e-17 -1.06564892e-17 -1.05300053e-17\n",
            " -1.04082016e-17 -9.24052298e-18 -9.22714543e-18 -9.14734982e-18\n",
            " -9.07344879e-18 -8.73613784e-18 -8.72726613e-18 -7.98003849e-18\n",
            " -7.82141477e-18 -7.56768015e-18 -7.43632593e-18 -6.70051163e-18\n",
            " -6.68068031e-18 -6.25775445e-18 -6.22674370e-18 -6.02074819e-18\n",
            " -5.87387974e-18 -5.47480744e-18 -4.91572900e-18 -4.69427230e-18\n",
            " -4.23593679e-18 -3.94992132e-18 -3.85416529e-18 -3.71531564e-18\n",
            " -3.67455675e-18 -3.55866019e-18 -2.77107388e-18 -2.33819359e-18\n",
            " -2.29698406e-18 -2.27812669e-18 -2.23767079e-18 -2.00873253e-18\n",
            " -1.95090244e-18 -1.79841140e-18 -1.60663414e-18 -1.53967295e-18\n",
            " -1.25790413e-18 -1.15450825e-18 -9.89212958e-19 -3.91905695e-19\n",
            "  5.21114728e-20  4.79217900e-19  5.99591987e-19  7.59301113e-19\n",
            "  7.85161303e-19  1.52480491e-18  1.81085488e-18  2.03391342e-18\n",
            "  2.05714373e-18  2.19931412e-18  2.23994897e-18  2.33888900e-18\n",
            "  2.44061985e-18  3.16381788e-18  3.39780950e-18  3.46009475e-18\n",
            "  3.63563945e-18  3.92502723e-18  4.25807116e-18  4.37395715e-18\n",
            "  4.62139269e-18  4.65307228e-18  4.78414481e-18  4.83785067e-18\n",
            "  5.11560162e-18  5.33043016e-18  5.94642785e-18  6.11435682e-18\n",
            "  6.79183994e-18  6.88119497e-18  6.91338359e-18  7.02964675e-18\n",
            "  7.25537975e-18  7.42089377e-18  7.59845712e-18  7.80280878e-18\n",
            "  8.26167798e-18  8.49524150e-18  8.49905105e-18  9.34107845e-18\n",
            "  9.54051141e-18  9.70492628e-18  9.87922982e-18  9.95311128e-18\n",
            "  1.00779563e-17  1.04356299e-17  1.08836587e-17  1.13914443e-17\n",
            "  1.14691165e-17  1.23642095e-17  1.24987990e-17  1.28673023e-17\n",
            "  1.36489609e-17  1.42680128e-17  1.50478020e-17  1.50827178e-17\n",
            "  1.52429989e-17  1.55253852e-17  1.57592764e-17  1.66272434e-17\n",
            "  1.66655328e-17  1.77312035e-17  1.78888097e-17  1.81125264e-17\n",
            "  1.92801060e-17  1.96554693e-17  2.02811061e-17  2.02933927e-17\n",
            "  2.09878381e-17  2.10563881e-17  2.19699137e-17  2.21167297e-17\n",
            "  2.25269242e-17  2.31063021e-17  2.31406441e-17  2.34517736e-17\n",
            "  2.35925130e-17  2.48136109e-17  2.48895677e-17  2.57778288e-17\n",
            "  2.62476617e-17  2.67103439e-17  2.78146325e-17  2.84840672e-17\n",
            "  2.86718615e-17  2.90925137e-17  2.92229665e-17  3.16062849e-17\n",
            "  3.16883978e-17  3.23174142e-17  3.31467978e-17  3.34199841e-17\n",
            "  3.46461772e-17  3.54286090e-17  3.61530842e-17  3.74528256e-17\n",
            "  3.85161703e-17  3.96723284e-17  4.03032279e-17  4.36100267e-17\n",
            "  4.47013403e-17  4.49633174e-17  4.53407853e-17  4.62915138e-17\n",
            "  4.79330034e-17  4.82066455e-17  4.95044606e-17  5.03970510e-17\n",
            "  5.18859335e-17  5.44295887e-17  5.98026998e-17  5.99770021e-17\n",
            "  6.11987695e-17  6.69965613e-17  7.07819295e-17  7.39685314e-17\n",
            "  7.81080727e-17  8.30704043e-17  9.32071416e-17  9.59499230e-17\n",
            "  1.05488512e-16  1.16584011e-16  1.17981777e-16  1.30835926e-16\n",
            "  1.33568816e-16  1.44357820e-16  1.48995485e-16  1.66135207e-16\n",
            "  1.68878260e-16  1.84343464e-16  1.85932695e-16  2.35037954e-16\n",
            "  2.69961644e-16  2.88256097e-16  3.52429533e-16  3.90963021e-16\n",
            "  4.82982843e-16  5.03262475e-16  1.19695375e-01  1.77232603e-01\n",
            "  2.03349311e-01  2.89881553e-01  3.31062612e-01  3.51318522e-01\n",
            "  4.86985005e-01  9.07874536e-01  1.27912943e+00  1.88209230e+00]\n",
            "[  0   1   2   3   4   5   6   7   8   9  10  11  12  13  14  15  16  17\n",
            "  18  19  20  21  22  23  24  25  26  27  28  29  30  31  32  33  34  35\n",
            "  36  37  38  39  40  41  42  43  44  45  46  47  48  49  50  51  52  53\n",
            "  54  55  56  57  58  59  60  61  62  63  64  65  66  67  68  69  70  71\n",
            "  72  73  74  75  76  77  78  79  80  81  82  83  84  85  86  87  88  89\n",
            "  90  91  92  93  94  95  96  97  98  99 100 101 102 103 104 105 106 107\n",
            " 108 109 110 111 112 113 114 115 116 117 118 119 120 121 122 123 124 125\n",
            " 126 127 128 129 130 131 132 133 134 135 136 137 138 139 140 141 142 143\n",
            " 144 145 146 147 148 149 150 151 152 153 154 155 156 157 158 159 160 161\n",
            " 162 163 164 165 166 167 168 169 170 171 172 173 174 175 176 177 178 179\n",
            " 180 181 182 183 184 185 186 187 188 189 190 191 192 193 194 195 196 197\n",
            " 198 199 200 201 202 203 204 205 206 207 208 209 210 211 212 213 214 215\n",
            " 216 217 218 219 220 221 222 223 224 225 226 227 228 229 230 231 232 233\n",
            " 234 235 236 237 238 239 240 241 242 243 244 245 246 247 248 249 250 251\n",
            " 252 253 254 255 256 257 258 259 260 261 262 263 264 265 266 267 268 269\n",
            " 270 271 272 273 274 275 276 277 278 279 280 281 282 283 284 285 286 287\n",
            " 288 289 290 291 292 293 294 295 296 297 298 299]\n"
          ],
          "name": "stdout"
        }
      ]
    },
    {
      "cell_type": "code",
      "metadata": {
        "colab": {
          "base_uri": "https://localhost:8080/",
          "height": 269
        },
        "id": "jY5i2wTUPEXc",
        "outputId": "66131357-193d-459c-820a-2c870429d6f4"
      },
      "source": [
        "plt.scatter(result[:, 0], result[:, 1])\n",
        "for i, word in enumerate(words):\n",
        "    plt.annotate(word, xy=(result[i, 0] - 0.05, result[i, 1] + 0.1))\n",
        "plt.show()"
      ],
      "execution_count": 207,
      "outputs": [
        {
          "output_type": "display_data",
          "data": {
            "image/png": "[encoded data removed]",
            "text/plain": [
              "<Figure size 432x288 with 1 Axes>"
            ]
          },
          "metadata": {
            "tags": [],
            "needs_background": "light"
          }
        }
      ]
    },
    {
      "cell_type": "code",
      "metadata": {
        "colab": {
          "base_uri": "https://localhost:8080/"
        },
        "id": "jNXSS-O6M4yn",
        "outputId": "f9172715-2f9b-456a-b9a8-cdc33b45789d"
      },
      "source": [
        "np.random.seed(125555)\n",
        "X = np.random.rand(11, 300)\n",
        "n_components=2\n",
        "\n",
        "X_demeaned = X - np.mean(X, axis=0)\n",
        "\n",
        "# calculate the covariance matrix\n",
        "covariance_matrix = np.cov(X_demeaned, rowvar=False)\n",
        "\n",
        "# calculate eigenvectors & eigenvalues of the covariance matrix\n",
        "eigen_vals, eigen_vecs = np.linalg.eigh(covariance_matrix)\n",
        "print(eigen_vals)\n",
        "# sort eigenvalue in increasing order (get the indices from the sort)\n",
        "idx_sorted = np.argsort(eigen_vals)\n",
        "print(idx_sorted)\n",
        "\n",
        "# reverse the order so that it's from highest to lowest.\n",
        "idx_sorted_decreasing = idx_sorted[::-1]\n",
        "print(idx_sorted_decreasing)\n",
        "\n",
        "# sort the eigen values by idx_sorted_decreasing\n",
        "eigen_vals_sorted = eigen_vals[idx_sorted_decreasing] \n",
        "print(eigen_vals_sorted)\n",
        "\n",
        "# sort eigenvectors using the idx_sorted_decreasing indices\n",
        "eigen_vecs_sorted = eigen_vecs[:,idx_sorted_decreasing] \n",
        "# print(eigen_vecs_sorted)\n",
        "\n",
        "# select the first n eigenvectors (n is desired dimension\n",
        "# of rescaled data array, or dims_rescaled_data)\n",
        "eigen_vecs_subset = eigen_vecs_sorted[:,:n_components] \n",
        "print(eigen_vecs_subset)\n",
        "\n",
        "# transform the data by multiplying the transpose of the eigenvectors \n",
        "# with the transpose of the de-meaned data\n",
        "# Then take the transpose of that product.\n",
        "X_reduced = np.dot(eigen_vecs_subset.T, X_demeaned.T).T\n",
        "X_reduced"
      ],
      "execution_count": 208,
      "outputs": [
        {
          "output_type": "stream",
          "text": [
            "[-1.70018151e-15 -1.40496086e-15 -1.15045052e-15 -1.06095175e-15\n",
            " -1.03254944e-15 -8.95636519e-16 -7.67803411e-16 -7.59489894e-16\n",
            " -6.58354566e-16 -5.93040148e-16 -5.79308372e-16 -5.15734577e-16\n",
            " -4.60922118e-16 -4.18864242e-16 -4.09312081e-16 -3.98507584e-16\n",
            " -3.71358314e-16 -3.43631792e-16 -3.30130404e-16 -3.17034551e-16\n",
            " -2.88447976e-16 -2.81320420e-16 -2.73302198e-16 -2.71816769e-16\n",
            " -2.53301519e-16 -2.44919813e-16 -2.18315764e-16 -2.12077583e-16\n",
            " -2.06384041e-16 -2.00382671e-16 -1.85303229e-16 -1.74889560e-16\n",
            " -1.72216993e-16 -1.70407159e-16 -1.64376804e-16 -1.55154366e-16\n",
            " -1.49801535e-16 -1.47530597e-16 -1.47342070e-16 -1.45171183e-16\n",
            " -1.44971497e-16 -1.43723581e-16 -1.42847858e-16 -1.38102392e-16\n",
            " -1.33146460e-16 -1.31841325e-16 -1.30480387e-16 -1.27551849e-16\n",
            " -1.26738183e-16 -1.25822948e-16 -1.20920606e-16 -1.20740696e-16\n",
            " -1.17374510e-16 -1.15716600e-16 -1.13769604e-16 -1.13738063e-16\n",
            " -1.11360059e-16 -1.11160834e-16 -1.09025411e-16 -1.08923016e-16\n",
            " -1.08170690e-16 -1.04934714e-16 -1.04060995e-16 -1.02214227e-16\n",
            " -9.91720005e-17 -9.90984976e-17 -9.71374568e-17 -9.32862601e-17\n",
            " -9.29219331e-17 -9.05647743e-17 -9.03368349e-17 -8.99670849e-17\n",
            " -8.81224039e-17 -8.64379594e-17 -8.45561433e-17 -8.35921886e-17\n",
            " -8.35676998e-17 -8.12895927e-17 -8.02125406e-17 -7.85891383e-17\n",
            " -7.81081227e-17 -7.80840928e-17 -7.73991042e-17 -7.59528961e-17\n",
            " -7.39379156e-17 -7.38579464e-17 -7.13250779e-17 -6.99859103e-17\n",
            " -6.87590079e-17 -6.72344969e-17 -6.63994938e-17 -6.59682595e-17\n",
            " -6.35882231e-17 -6.23007627e-17 -6.13794625e-17 -6.13457062e-17\n",
            " -6.04813609e-17 -5.80879146e-17 -5.56471080e-17 -5.53950962e-17\n",
            " -5.45492166e-17 -5.32320162e-17 -5.28103225e-17 -5.27808211e-17\n",
            " -4.97084792e-17 -4.91665203e-17 -4.85680243e-17 -4.65510981e-17\n",
            " -4.58467871e-17 -4.45290990e-17 -4.27187223e-17 -4.04483177e-17\n",
            " -3.98530579e-17 -3.92469987e-17 -3.81605383e-17 -3.64877535e-17\n",
            " -3.64567097e-17 -3.62285557e-17 -3.58002357e-17 -3.49202187e-17\n",
            " -3.42008272e-17 -3.28810284e-17 -3.23381664e-17 -3.22019106e-17\n",
            " -2.80431567e-17 -2.64551136e-17 -2.59934735e-17 -2.56460672e-17\n",
            " -2.56446639e-17 -2.52331867e-17 -2.25416311e-17 -2.07703778e-17\n",
            " -1.98310892e-17 -1.94720734e-17 -1.90298528e-17 -1.89701292e-17\n",
            " -1.70606976e-17 -1.50057506e-17 -1.42674540e-17 -1.40754809e-17\n",
            " -1.35410853e-17 -1.18813730e-17 -1.12310255e-17 -1.10675627e-17\n",
            " -1.03744490e-17 -9.93920256e-18 -8.86073520e-18 -7.37092985e-18\n",
            " -6.76421015e-18 -4.16784908e-18 -3.28060345e-18 -3.03654340e-18\n",
            " -1.60579623e-18  2.10674092e-18  2.12126623e-18  3.36918136e-18\n",
            "  3.78539680e-18  4.37554838e-18  6.24758417e-18  6.43039028e-18\n",
            "  7.11975260e-18  7.25243843e-18  7.44694493e-18  1.02521254e-17\n",
            "  1.04838639e-17  1.12103574e-17  1.33284342e-17  1.33675447e-17\n",
            "  1.49519643e-17  1.76640510e-17  1.88576517e-17  1.90516821e-17\n",
            "  1.97827634e-17  2.06490258e-17  2.20364453e-17  2.28768617e-17\n",
            "  2.33443244e-17  2.35772785e-17  2.38876177e-17  2.52409138e-17\n",
            "  2.57759785e-17  2.63932136e-17  2.72237022e-17  2.80254534e-17\n",
            "  2.93913251e-17  3.36057374e-17  3.45119570e-17  3.54481644e-17\n",
            "  3.59909379e-17  3.69608328e-17  3.85783155e-17  3.88519499e-17\n",
            "  4.02597644e-17  4.20705105e-17  4.21522208e-17  4.32341755e-17\n",
            "  4.55956336e-17  4.64079741e-17  4.65014016e-17  4.69479327e-17\n",
            "  4.81976987e-17  4.86056863e-17  4.98754735e-17  5.18250697e-17\n",
            "  5.57676634e-17  5.58480007e-17  5.76708662e-17  5.92451287e-17\n",
            "  5.95284302e-17  6.04968709e-17  6.18782387e-17  6.25002793e-17\n",
            "  6.29978498e-17  6.63476815e-17  6.76179325e-17  7.01293034e-17\n",
            "  7.15928968e-17  7.17331801e-17  7.23639257e-17  7.23711957e-17\n",
            "  7.26369103e-17  7.42469317e-17  7.78061081e-17  7.82620389e-17\n",
            "  7.95955568e-17  8.12898515e-17  8.14340793e-17  8.85506032e-17\n",
            "  8.89719726e-17  8.95046848e-17  8.99810930e-17  9.38452145e-17\n",
            "  9.50536146e-17  9.52434101e-17  9.60799444e-17  9.77382918e-17\n",
            "  9.87025950e-17  1.00378163e-16  1.01035190e-16  1.01175682e-16\n",
            "  1.02343593e-16  1.06199355e-16  1.06294860e-16  1.07590074e-16\n",
            "  1.13770587e-16  1.14163729e-16  1.14606810e-16  1.21704447e-16\n",
            "  1.25577990e-16  1.26980821e-16  1.27621851e-16  1.30551384e-16\n",
            "  1.34260325e-16  1.35516813e-16  1.35987593e-16  1.38001015e-16\n",
            "  1.39994945e-16  1.45635537e-16  1.49525639e-16  1.57051814e-16\n",
            "  1.66172160e-16  1.71708682e-16  1.78603898e-16  1.98180863e-16\n",
            "  1.99020325e-16  2.18344188e-16  2.36422621e-16  2.36447643e-16\n",
            "  2.62035438e-16  2.78674121e-16  2.86651094e-16  3.08848635e-16\n",
            "  3.32268217e-16  3.59287573e-16  3.75651909e-16  3.89019721e-16\n",
            "  4.08743632e-16  4.46656904e-16  5.07548337e-16  5.20000115e-16\n",
            "  5.24114950e-16  5.72109621e-16  6.80074205e-16  7.19886542e-16\n",
            "  8.29429562e-16  9.81924705e-16  1.05246541e-15  1.09096000e-15\n",
            "  1.19789039e-15  1.42286121e-15  1.70621915e+00  2.05052175e+00\n",
            "  2.11012442e+00  2.18015723e+00  2.40855521e+00  2.67933127e+00\n",
            "  2.70376557e+00  2.83458504e+00  3.12029453e+00  3.41996526e+00]\n",
            "[  0   1   2   3   4   5   6   7   8   9  10  11  12  13  14  15  16  17\n",
            "  18  19  20  21  22  23  24  25  26  27  28  29  30  31  32  33  34  35\n",
            "  36  37  38  39  40  41  42  43  44  45  46  47  48  49  50  51  52  53\n",
            "  54  55  56  57  58  59  60  61  62  63  64  65  66  67  68  69  70  71\n",
            "  72  73  74  75  76  77  78  79  80  81  82  83  84  85  86  87  88  89\n",
            "  90  91  92  93  94  95  96  97  98  99 100 101 102 103 104 105 106 107\n",
            " 108 109 110 111 112 113 114 115 116 117 118 119 120 121 122 123 124 125\n",
            " 126 127 128 129 130 131 132 133 134 135 136 137 138 139 140 141 142 143\n",
            " 144 145 146 147 148 149 150 151 152 153 154 155 156 157 158 159 160 161\n",
            " 162 163 164 165 166 167 168 169 170 171 172 173 174 175 176 177 178 179\n",
            " 180 181 182 183 184 185 186 187 188 189 190 191 192 193 194 195 196 197\n",
            " 198 199 200 201 202 203 204 205 206 207 208 209 210 211 212 213 214 215\n",
            " 216 217 218 219 220 221 222 223 224 225 226 227 228 229 230 231 232 233\n",
            " 234 235 236 237 238 239 240 241 242 243 244 245 246 247 248 249 250 251\n",
            " 252 253 254 255 256 257 258 259 260 261 262 263 264 265 266 267 268 269\n",
            " 270 271 272 273 274 275 276 277 278 279 280 281 282 283 284 285 286 287\n",
            " 288 289 290 291 292 293 294 295 296 297 298 299]\n",
            "[299 298 297 296 295 294 293 292 291 290 289 288 287 286 285 284 283 282\n",
            " 281 280 279 278 277 276 275 274 273 272 271 270 269 268 267 266 265 264\n",
            " 263 262 261 260 259 258 257 256 255 254 253 252 251 250 249 248 247 246\n",
            " 245 244 243 242 241 240 239 238 237 236 235 234 233 232 231 230 229 228\n",
            " 227 226 225 224 223 222 221 220 219 218 217 216 215 214 213 212 211 210\n",
            " 209 208 207 206 205 204 203 202 201 200 199 198 197 196 195 194 193 192\n",
            " 191 190 189 188 187 186 185 184 183 182 181 180 179 178 177 176 175 174\n",
            " 173 172 171 170 169 168 167 166 165 164 163 162 161 160 159 158 157 156\n",
            " 155 154 153 152 151 150 149 148 147 146 145 144 143 142 141 140 139 138\n",
            " 137 136 135 134 133 132 131 130 129 128 127 126 125 124 123 122 121 120\n",
            " 119 118 117 116 115 114 113 112 111 110 109 108 107 106 105 104 103 102\n",
            " 101 100  99  98  97  96  95  94  93  92  91  90  89  88  87  86  85  84\n",
            "  83  82  81  80  79  78  77  76  75  74  73  72  71  70  69  68  67  66\n",
            "  65  64  63  62  61  60  59  58  57  56  55  54  53  52  51  50  49  48\n",
            "  47  46  45  44  43  42  41  40  39  38  37  36  35  34  33  32  31  30\n",
            "  29  28  27  26  25  24  23  22  21  20  19  18  17  16  15  14  13  12\n",
            "  11  10   9   8   7   6   5   4   3   2   1   0]\n",
            "[ 3.41996526e+00  3.12029453e+00  2.83458504e+00  2.70376557e+00\n",
            "  2.67933127e+00  2.40855521e+00  2.18015723e+00  2.11012442e+00\n",
            "  2.05052175e+00  1.70621915e+00  1.42286121e-15  1.19789039e-15\n",
            "  1.09096000e-15  1.05246541e-15  9.81924705e-16  8.29429562e-16\n",
            "  7.19886542e-16  6.80074205e-16  5.72109621e-16  5.24114950e-16\n",
            "  5.20000115e-16  5.07548337e-16  4.46656904e-16  4.08743632e-16\n",
            "  3.89019721e-16  3.75651909e-16  3.59287573e-16  3.32268217e-16\n",
            "  3.08848635e-16  2.86651094e-16  2.78674121e-16  2.62035438e-16\n",
            "  2.36447643e-16  2.36422621e-16  2.18344188e-16  1.99020325e-16\n",
            "  1.98180863e-16  1.78603898e-16  1.71708682e-16  1.66172160e-16\n",
            "  1.57051814e-16  1.49525639e-16  1.45635537e-16  1.39994945e-16\n",
            "  1.38001015e-16  1.35987593e-16  1.35516813e-16  1.34260325e-16\n",
            "  1.30551384e-16  1.27621851e-16  1.26980821e-16  1.25577990e-16\n",
            "  1.21704447e-16  1.14606810e-16  1.14163729e-16  1.13770587e-16\n",
            "  1.07590074e-16  1.06294860e-16  1.06199355e-16  1.02343593e-16\n",
            "  1.01175682e-16  1.01035190e-16  1.00378163e-16  9.87025950e-17\n",
            "  9.77382918e-17  9.60799444e-17  9.52434101e-17  9.50536146e-17\n",
            "  9.38452145e-17  8.99810930e-17  8.95046848e-17  8.89719726e-17\n",
            "  8.85506032e-17  8.14340793e-17  8.12898515e-17  7.95955568e-17\n",
            "  7.82620389e-17  7.78061081e-17  7.42469317e-17  7.26369103e-17\n",
            "  7.23711957e-17  7.23639257e-17  7.17331801e-17  7.15928968e-17\n",
            "  7.01293034e-17  6.76179325e-17  6.63476815e-17  6.29978498e-17\n",
            "  6.25002793e-17  6.18782387e-17  6.04968709e-17  5.95284302e-17\n",
            "  5.92451287e-17  5.76708662e-17  5.58480007e-17  5.57676634e-17\n",
            "  5.18250697e-17  4.98754735e-17  4.86056863e-17  4.81976987e-17\n",
            "  4.69479327e-17  4.65014016e-17  4.64079741e-17  4.55956336e-17\n",
            "  4.32341755e-17  4.21522208e-17  4.20705105e-17  4.02597644e-17\n",
            "  3.88519499e-17  3.85783155e-17  3.69608328e-17  3.59909379e-17\n",
            "  3.54481644e-17  3.45119570e-17  3.36057374e-17  2.93913251e-17\n",
            "  2.80254534e-17  2.72237022e-17  2.63932136e-17  2.57759785e-17\n",
            "  2.52409138e-17  2.38876177e-17  2.35772785e-17  2.33443244e-17\n",
            "  2.28768617e-17  2.20364453e-17  2.06490258e-17  1.97827634e-17\n",
            "  1.90516821e-17  1.88576517e-17  1.76640510e-17  1.49519643e-17\n",
            "  1.33675447e-17  1.33284342e-17  1.12103574e-17  1.04838639e-17\n",
            "  1.02521254e-17  7.44694493e-18  7.25243843e-18  7.11975260e-18\n",
            "  6.43039028e-18  6.24758417e-18  4.37554838e-18  3.78539680e-18\n",
            "  3.36918136e-18  2.12126623e-18  2.10674092e-18 -1.60579623e-18\n",
            " -3.03654340e-18 -3.28060345e-18 -4.16784908e-18 -6.76421015e-18\n",
            " -7.37092985e-18 -8.86073520e-18 -9.93920256e-18 -1.03744490e-17\n",
            " -1.10675627e-17 -1.12310255e-17 -1.18813730e-17 -1.35410853e-17\n",
            " -1.40754809e-17 -1.42674540e-17 -1.50057506e-17 -1.70606976e-17\n",
            " -1.89701292e-17 -1.90298528e-17 -1.94720734e-17 -1.98310892e-17\n",
            " -2.07703778e-17 -2.25416311e-17 -2.52331867e-17 -2.56446639e-17\n",
            " -2.56460672e-17 -2.59934735e-17 -2.64551136e-17 -2.80431567e-17\n",
            " -3.22019106e-17 -3.23381664e-17 -3.28810284e-17 -3.42008272e-17\n",
            " -3.49202187e-17 -3.58002357e-17 -3.62285557e-17 -3.64567097e-17\n",
            " -3.64877535e-17 -3.81605383e-17 -3.92469987e-17 -3.98530579e-17\n",
            " -4.04483177e-17 -4.27187223e-17 -4.45290990e-17 -4.58467871e-17\n",
            " -4.65510981e-17 -4.85680243e-17 -4.91665203e-17 -4.97084792e-17\n",
            " -5.27808211e-17 -5.28103225e-17 -5.32320162e-17 -5.45492166e-17\n",
            " -5.53950962e-17 -5.56471080e-17 -5.80879146e-17 -6.04813609e-17\n",
            " -6.13457062e-17 -6.13794625e-17 -6.23007627e-17 -6.35882231e-17\n",
            " -6.59682595e-17 -6.63994938e-17 -6.72344969e-17 -6.87590079e-17\n",
            " -6.99859103e-17 -7.13250779e-17 -7.38579464e-17 -7.39379156e-17\n",
            " -7.59528961e-17 -7.73991042e-17 -7.80840928e-17 -7.81081227e-17\n",
            " -7.85891383e-17 -8.02125406e-17 -8.12895927e-17 -8.35676998e-17\n",
            " -8.35921886e-17 -8.45561433e-17 -8.64379594e-17 -8.81224039e-17\n",
            " -8.99670849e-17 -9.03368349e-17 -9.05647743e-17 -9.29219331e-17\n",
            " -9.32862601e-17 -9.71374568e-17 -9.90984976e-17 -9.91720005e-17\n",
            " -1.02214227e-16 -1.04060995e-16 -1.04934714e-16 -1.08170690e-16\n",
            " -1.08923016e-16 -1.09025411e-16 -1.11160834e-16 -1.11360059e-16\n",
            " -1.13738063e-16 -1.13769604e-16 -1.15716600e-16 -1.17374510e-16\n",
            " -1.20740696e-16 -1.20920606e-16 -1.25822948e-16 -1.26738183e-16\n",
            " -1.27551849e-16 -1.30480387e-16 -1.31841325e-16 -1.33146460e-16\n",
            " -1.38102392e-16 -1.42847858e-16 -1.43723581e-16 -1.44971497e-16\n",
            " -1.45171183e-16 -1.47342070e-16 -1.47530597e-16 -1.49801535e-16\n",
            " -1.55154366e-16 -1.64376804e-16 -1.70407159e-16 -1.72216993e-16\n",
            " -1.74889560e-16 -1.85303229e-16 -2.00382671e-16 -2.06384041e-16\n",
            " -2.12077583e-16 -2.18315764e-16 -2.44919813e-16 -2.53301519e-16\n",
            " -2.71816769e-16 -2.73302198e-16 -2.81320420e-16 -2.88447976e-16\n",
            " -3.17034551e-16 -3.30130404e-16 -3.43631792e-16 -3.71358314e-16\n",
            " -3.98507584e-16 -4.09312081e-16 -4.18864242e-16 -4.60922118e-16\n",
            " -5.15734577e-16 -5.79308372e-16 -5.93040148e-16 -6.58354566e-16\n",
            " -7.59489894e-16 -7.67803411e-16 -8.95636519e-16 -1.03254944e-15\n",
            " -1.06095175e-15 -1.15045052e-15 -1.40496086e-15 -1.70018151e-15]\n",
            "[[-1.25528750e-01  2.99697322e-02]\n",
            " [-5.04471963e-02  1.54178304e-02]\n",
            " [-1.46614622e-02 -3.86356559e-02]\n",
            " [ 5.01369868e-02 -2.80758350e-02]\n",
            " [-4.79345951e-02  4.61125686e-02]\n",
            " [-1.06735365e-01 -3.68505476e-02]\n",
            " [-2.81416482e-02  3.33831788e-02]\n",
            " [-2.95195901e-02  2.56731185e-02]\n",
            " [ 2.13629535e-02 -1.06194484e-04]\n",
            " [-7.49155467e-02 -3.25347834e-02]\n",
            " [ 3.65437881e-03 -1.61137251e-01]\n",
            " [ 1.07434567e-01  7.69133932e-02]\n",
            " [-3.20983294e-02 -2.08108783e-03]\n",
            " [ 4.13610341e-02 -2.17458942e-03]\n",
            " [ 7.56589290e-02  9.81022714e-02]\n",
            " [-4.28617591e-02  2.06325649e-02]\n",
            " [-4.21390930e-02  1.84895843e-02]\n",
            " [-5.86430938e-02  2.92466376e-02]\n",
            " [-1.57092068e-02  1.59907193e-02]\n",
            " [ 2.26292723e-02 -2.07395105e-02]\n",
            " [-4.84834370e-02 -9.10138571e-02]\n",
            " [-5.05779380e-02 -1.86798332e-02]\n",
            " [-2.87966954e-02  2.64545505e-02]\n",
            " [-4.78703437e-02 -1.23415033e-01]\n",
            " [-7.68379831e-02  7.60710666e-02]\n",
            " [ 4.63981771e-02  6.81782064e-02]\n",
            " [ 9.74085912e-04  9.98783498e-02]\n",
            " [-6.34934102e-02 -6.99018291e-02]\n",
            " [ 1.45886774e-02  3.11050703e-02]\n",
            " [ 7.91555519e-03 -9.97403405e-02]\n",
            " [ 7.78889249e-02  2.54331308e-02]\n",
            " [ 3.04200041e-02 -1.51030650e-02]\n",
            " [-4.69909319e-02 -1.06226815e-01]\n",
            " [ 2.06751849e-02  1.04797351e-01]\n",
            " [ 7.14285318e-02  8.65276906e-02]\n",
            " [-7.20147021e-02  9.39182499e-02]\n",
            " [ 6.15063386e-02 -3.51085723e-03]\n",
            " [ 4.09263638e-02 -1.43150667e-02]\n",
            " [ 5.15233138e-03  1.36851999e-02]\n",
            " [-9.74199326e-02  5.01138866e-02]\n",
            " [ 4.43572945e-02 -3.74274697e-02]\n",
            " [-7.92640274e-02 -4.48289005e-02]\n",
            " [-2.34223759e-02 -3.89606790e-02]\n",
            " [ 7.36259013e-02 -2.07665505e-02]\n",
            " [-8.11695638e-02 -2.22096828e-02]\n",
            " [-3.42199200e-02 -6.57490539e-02]\n",
            " [ 1.50000562e-02  1.04811766e-01]\n",
            " [-3.17522222e-02  5.44703930e-02]\n",
            " [-3.71562575e-02  7.76229246e-02]\n",
            " [-8.57309920e-02 -4.51967544e-02]\n",
            " [-4.66842560e-02 -1.06642570e-02]\n",
            " [-1.80823061e-02 -7.47790515e-02]\n",
            " [ 1.92949445e-02  3.56433814e-02]\n",
            " [-7.85640620e-02 -6.80034470e-02]\n",
            " [-1.94005467e-02  6.81309158e-02]\n",
            " [-5.95309158e-02 -5.67988712e-03]\n",
            " [ 1.43860338e-01 -2.62990182e-02]\n",
            " [ 7.93793168e-03 -2.34087894e-02]\n",
            " [ 5.12920946e-02 -5.64813207e-02]\n",
            " [ 7.66095199e-02  1.19951021e-01]\n",
            " [ 1.04036816e-01 -2.83263333e-02]\n",
            " [ 3.13836448e-02  7.06823368e-02]\n",
            " [-6.51704373e-02 -3.93458130e-02]\n",
            " [ 2.36432264e-02  3.91512626e-03]\n",
            " [-1.40104693e-02  4.26137179e-02]\n",
            " [-7.83510562e-02  3.23314219e-02]\n",
            " [-6.89646479e-03  2.99504435e-03]\n",
            " [ 8.60219304e-02  1.06261204e-01]\n",
            " [ 2.31385950e-02  9.33855898e-02]\n",
            " [-4.47227259e-02 -2.35523192e-02]\n",
            " [ 5.43307438e-02 -7.46977021e-03]\n",
            " [-1.02943023e-01 -2.21875156e-02]\n",
            " [-6.39974714e-02  7.27464948e-02]\n",
            " [ 1.10487413e-02 -4.82871652e-03]\n",
            " [-8.80017375e-03  4.11231024e-02]\n",
            " [ 6.31371826e-03 -2.95103495e-02]\n",
            " [-4.02618520e-02 -3.71523686e-02]\n",
            " [ 1.08445150e-01 -6.74279937e-02]\n",
            " [-8.80718247e-03 -1.02328366e-01]\n",
            " [ 5.00790558e-02  1.30602231e-02]\n",
            " [-1.07893062e-01 -1.15903038e-02]\n",
            " [ 2.31157483e-02  5.08420140e-02]\n",
            " [ 1.89248949e-02 -3.77366852e-03]\n",
            " [-1.63676110e-02 -1.92713730e-02]\n",
            " [ 6.27084394e-02  6.75475506e-02]\n",
            " [ 7.67538838e-02  7.38779642e-02]\n",
            " [-4.27119907e-02  6.51187121e-02]\n",
            " [-8.33934175e-02 -6.67569873e-02]\n",
            " [-1.50699464e-02  2.33267075e-03]\n",
            " [-2.29334409e-02  9.61987169e-02]\n",
            " [-5.76513102e-02  8.73775273e-02]\n",
            " [-9.78401081e-02 -4.05143795e-02]\n",
            " [ 2.25279362e-02 -9.19928453e-02]\n",
            " [ 2.11003232e-02 -8.50350934e-02]\n",
            " [-8.58042597e-02 -6.05088043e-02]\n",
            " [ 1.37729342e-01 -3.17252857e-02]\n",
            " [ 5.54738341e-02 -5.75641510e-03]\n",
            " [-3.16557182e-02 -2.32895626e-02]\n",
            " [-8.19244977e-02  4.24768159e-03]\n",
            " [ 7.36188811e-02  3.18109362e-02]\n",
            " [-1.18779079e-02  3.79029344e-02]\n",
            " [-7.65410105e-02  5.88564976e-02]\n",
            " [ 1.85324009e-02  5.28575230e-03]\n",
            " [-3.99596143e-02 -8.03649074e-03]\n",
            " [ 1.28408345e-02  5.11964952e-02]\n",
            " [-1.82785106e-02  5.69789707e-02]\n",
            " [-8.81864797e-02  5.97207245e-02]\n",
            " [ 1.01051232e-01  2.65323150e-02]\n",
            " [ 7.35607451e-02  4.50168357e-02]\n",
            " [ 4.53789714e-03  4.43953036e-02]\n",
            " [-9.20932785e-02  1.63362348e-02]\n",
            " [-8.70125584e-02 -2.50676322e-02]\n",
            " [-1.23229199e-01  6.95693911e-02]\n",
            " [ 7.54673367e-02  9.75434411e-03]\n",
            " [-2.69387748e-02  1.39148145e-01]\n",
            " [-4.86534862e-03  1.02566398e-02]\n",
            " [ 4.87240218e-02  2.63571319e-03]\n",
            " [ 5.29150879e-02 -1.49067325e-02]\n",
            " [-7.46893692e-03 -4.46336999e-03]\n",
            " [-2.77202494e-02 -2.16052887e-02]\n",
            " [-1.56892348e-02  8.69183011e-02]\n",
            " [ 1.62073081e-02 -3.59030739e-02]\n",
            " [ 2.07048864e-02 -5.76857284e-02]\n",
            " [-2.42128458e-02 -2.45511528e-02]\n",
            " [ 2.52756751e-04 -3.76192927e-02]\n",
            " [-2.50752018e-02  1.65915221e-02]\n",
            " [ 7.72905448e-02  4.53989886e-02]\n",
            " [ 4.90575789e-02  7.45256537e-02]\n",
            " [-8.57104512e-03  3.09464093e-02]\n",
            " [ 4.61564212e-02  1.25191790e-02]\n",
            " [ 5.08922962e-02 -8.76511984e-02]\n",
            " [-9.87688878e-02 -4.38563469e-02]\n",
            " [ 9.34505499e-02 -4.11683229e-02]\n",
            " [ 9.01213781e-02 -4.80945360e-02]\n",
            " [-6.56001946e-02  2.59673196e-02]\n",
            " [ 4.04817294e-02  7.76070575e-02]\n",
            " [ 7.45033703e-02 -1.23450875e-01]\n",
            " [ 6.77349682e-02  1.76817604e-02]\n",
            " [ 7.54317667e-02 -4.79571976e-02]\n",
            " [-1.04987669e-02 -2.40429677e-02]\n",
            " [-3.94822690e-02  8.72318432e-02]\n",
            " [-3.81902271e-02 -2.15871536e-02]\n",
            " [-8.25415491e-02  5.99160058e-02]\n",
            " [ 4.84103086e-03 -2.17452276e-03]\n",
            " [ 3.15805174e-02 -6.62548624e-02]\n",
            " [ 1.05455296e-01 -8.92628202e-02]\n",
            " [ 2.87215491e-02  3.95240483e-02]\n",
            " [ 5.10289855e-02 -8.88476872e-02]\n",
            " [-9.33436161e-03 -2.51242528e-02]\n",
            " [ 9.02514584e-02 -3.43990962e-02]\n",
            " [ 1.47591010e-02 -9.52577215e-02]\n",
            " [ 4.55825860e-02  5.89811398e-02]\n",
            " [ 7.46667542e-02  4.43879501e-02]\n",
            " [ 1.59206445e-02 -4.03394926e-02]\n",
            " [-3.90232516e-02  1.92427884e-02]\n",
            " [ 3.63658595e-02 -6.19410411e-02]\n",
            " [ 4.04171311e-02 -3.50402814e-02]\n",
            " [-5.66488342e-02  3.49950535e-02]\n",
            " [-3.13281414e-02  7.48438836e-02]\n",
            " [-3.31890382e-02  3.10082695e-02]\n",
            " [-7.48743062e-03  8.51818381e-02]\n",
            " [ 5.55368364e-02 -3.48589447e-02]\n",
            " [ 2.58251422e-02  9.97944360e-02]\n",
            " [ 4.02795168e-02 -3.41633755e-02]\n",
            " [ 5.66111007e-02 -4.51796924e-02]\n",
            " [-3.22848776e-02 -2.05560967e-02]\n",
            " [-3.72039143e-03 -8.58438297e-02]\n",
            " [ 1.45319969e-02  1.35875666e-01]\n",
            " [ 9.63164049e-03 -2.38875807e-02]\n",
            " [ 1.76643112e-02  4.59936616e-02]\n",
            " [ 1.14502142e-01  6.31932075e-02]\n",
            " [ 5.00991197e-02 -1.03721480e-01]\n",
            " [ 3.84092693e-02  1.30566642e-02]\n",
            " [ 2.47479847e-02 -1.21620635e-02]\n",
            " [ 5.68610664e-02 -8.76949826e-02]\n",
            " [-2.31576433e-02  1.27025816e-02]\n",
            " [-6.94473457e-02 -4.31539153e-02]\n",
            " [ 6.40377104e-03 -7.46595651e-02]\n",
            " [ 2.01837523e-03 -8.76833928e-02]\n",
            " [-8.91353159e-02 -4.49294438e-02]\n",
            " [-4.66782252e-02  5.79126631e-02]\n",
            " [-1.20843160e-01 -2.48131222e-02]\n",
            " [ 2.82969217e-02  2.33638648e-02]\n",
            " [ 8.63768725e-02  1.69881201e-03]\n",
            " [ 4.79599731e-02 -7.82943397e-02]\n",
            " [ 6.18249544e-02  1.58514822e-02]\n",
            " [ 2.82976898e-02  2.09892517e-02]\n",
            " [-1.08770886e-01  1.48291986e-02]\n",
            " [ 4.46544108e-02  9.84572900e-02]\n",
            " [-5.42177893e-02  1.47745853e-02]\n",
            " [ 2.41850659e-02  7.90470283e-02]\n",
            " [ 5.47945463e-02 -1.15485928e-01]\n",
            " [ 4.89517752e-02  3.06597970e-02]\n",
            " [ 9.55720386e-02 -5.08111641e-02]\n",
            " [-5.14868836e-02  9.71562394e-02]\n",
            " [ 3.83634715e-02  1.56862180e-02]\n",
            " [-6.39525556e-02 -5.58503292e-02]\n",
            " [-7.24121333e-02  5.11659430e-02]\n",
            " [-2.97961890e-02  5.34132459e-02]\n",
            " [ 6.14803140e-02  6.98917405e-02]\n",
            " [ 1.63946557e-02  2.97694681e-02]\n",
            " [ 1.11882313e-02  2.32347246e-02]\n",
            " [-2.49927975e-02  2.81903976e-02]\n",
            " [ 1.57588231e-02 -3.34108953e-02]\n",
            " [ 1.98765442e-02  1.57170254e-02]\n",
            " [ 4.32377799e-02 -8.70519920e-03]\n",
            " [ 3.80104699e-03 -4.70611712e-02]\n",
            " [-2.97747272e-02  7.00081990e-02]\n",
            " [ 8.49898359e-02 -6.10838309e-02]\n",
            " [ 3.49997204e-02  1.66699023e-01]\n",
            " [-3.07283678e-02  1.02182863e-01]\n",
            " [-1.77999753e-02  2.96154419e-02]\n",
            " [ 6.19129416e-02  3.38445181e-02]\n",
            " [-4.29918606e-02  8.46805111e-02]\n",
            " [-1.26541186e-01  2.20909680e-03]\n",
            " [-3.26510062e-02  5.53836850e-02]\n",
            " [-6.63646656e-02 -5.97233137e-02]\n",
            " [-2.90347793e-02 -4.36450325e-02]\n",
            " [-6.93285364e-02  6.18058958e-02]\n",
            " [-7.41605371e-02  8.97624046e-03]\n",
            " [ 3.02044848e-02  2.55589036e-04]\n",
            " [-5.19120164e-02  1.13533666e-02]\n",
            " [ 1.14593647e-01 -4.66828224e-02]\n",
            " [ 9.99722196e-02  1.13476790e-02]\n",
            " [ 7.20821729e-02 -8.69516432e-02]\n",
            " [-3.90494557e-02 -1.90804768e-03]\n",
            " [ 6.55429694e-02  3.07879781e-02]\n",
            " [-1.11346407e-02  1.38320475e-02]\n",
            " [ 4.49461883e-02 -4.30937705e-02]\n",
            " [ 7.24617831e-02  3.21006935e-02]\n",
            " [-1.76495321e-02  4.47006390e-02]\n",
            " [-1.94343881e-02  5.39522446e-02]\n",
            " [ 9.80303892e-02  1.21888446e-02]\n",
            " [ 3.75005658e-02  2.16975884e-03]\n",
            " [ 6.54118815e-03  5.05171565e-02]\n",
            " [ 9.50542945e-03  4.00030188e-02]\n",
            " [ 3.55890209e-02 -3.99279399e-02]\n",
            " [-4.30266098e-02 -9.01727005e-02]\n",
            " [-3.99404660e-02  1.00420104e-01]\n",
            " [-3.13181974e-02  3.84638130e-02]\n",
            " [ 6.28831892e-02 -2.87477689e-02]\n",
            " [ 3.24932777e-02  9.19227770e-02]\n",
            " [-1.55393070e-02 -3.61880178e-02]\n",
            " [-3.52792446e-02  4.75255232e-02]\n",
            " [-8.81891038e-02 -6.16255993e-03]\n",
            " [-7.56306129e-02  6.46622970e-02]\n",
            " [ 9.83172549e-02 -5.14175122e-02]\n",
            " [ 1.84314060e-02 -6.85239159e-03]\n",
            " [-1.95894466e-03  1.02624608e-01]\n",
            " [ 1.00429395e-02 -8.91553515e-02]\n",
            " [-3.04246117e-02  4.11311963e-02]\n",
            " [-8.09960949e-02 -5.96285603e-02]\n",
            " [-4.39121022e-02  3.93121209e-02]\n",
            " [-1.17615605e-01 -4.28135645e-02]\n",
            " [ 3.54917095e-03 -2.84387476e-02]\n",
            " [-3.98704568e-02  4.34873159e-02]\n",
            " [-4.54122690e-02 -8.43129724e-02]\n",
            " [-3.05047593e-02 -2.61203862e-02]\n",
            " [ 3.31539573e-02 -7.65375040e-03]\n",
            " [-1.13087241e-02  1.29170062e-01]\n",
            " [-1.08517939e-01  3.28436894e-02]\n",
            " [-6.07574088e-02  1.00129233e-02]\n",
            " [ 2.73782605e-02 -4.30975919e-02]\n",
            " [ 8.11188827e-02 -7.91610987e-03]\n",
            " [-1.49709365e-02  3.36315753e-02]\n",
            " [ 1.83215555e-02 -1.97398095e-02]\n",
            " [ 3.52389422e-02 -1.60501508e-02]\n",
            " [ 8.46145041e-02 -2.50370394e-02]\n",
            " [ 2.57776994e-02 -1.28798621e-01]\n",
            " [ 1.02246245e-01  4.84871324e-02]\n",
            " [ 1.02923327e-02 -9.39455297e-02]\n",
            " [ 5.36821824e-02  6.41211135e-02]\n",
            " [-3.75892050e-02  2.93622272e-03]\n",
            " [-1.80782586e-02 -7.81572154e-02]\n",
            " [-7.48501219e-02 -4.53038123e-03]\n",
            " [ 1.10248265e-01  4.98386438e-02]\n",
            " [ 1.15045396e-01  7.48981284e-02]\n",
            " [-9.69909759e-02 -2.85332214e-02]\n",
            " [-1.76971141e-02  1.07877921e-01]\n",
            " [ 3.56478944e-03 -8.25022252e-02]\n",
            " [-3.11044674e-03  1.09920649e-02]\n",
            " [-1.05850672e-01 -3.04196151e-03]\n",
            " [ 3.48521856e-02 -1.36756064e-02]\n",
            " [-1.50847326e-02 -9.76739968e-02]\n",
            " [ 5.27119970e-02 -5.68497181e-02]\n",
            " [ 6.57270023e-02  9.55961082e-03]\n",
            " [-3.27840105e-02 -8.17708210e-02]\n",
            " [ 3.93531018e-02  4.74076726e-02]\n",
            " [-4.44920187e-02 -5.27076986e-02]\n",
            " [ 8.47921930e-02  2.99764819e-04]\n",
            " [ 7.22566784e-02  9.18053689e-02]\n",
            " [-4.32035374e-02 -1.44912443e-02]\n",
            " [ 3.52053180e-02  1.55015165e-02]\n",
            " [ 7.96174158e-02  6.98146827e-02]\n",
            " [ 6.53488566e-02  9.35389790e-04]\n",
            " [-6.14351699e-02 -9.60573290e-02]\n",
            " [ 7.06993303e-02 -4.10690181e-03]\n",
            " [ 5.63004106e-02  8.32738412e-02]\n",
            " [ 3.22439995e-02 -7.93120308e-02]\n",
            " [ 3.69361905e-02 -5.26744865e-02]]\n"
          ],
          "name": "stdout"
        },
        {
          "output_type": "execute_result",
          "data": {
            "text/plain": [
              "array([[ 0.77667254,  1.05650981],\n",
              "       [ 2.62479981, -2.16008091],\n",
              "       [ 0.43558648,  1.94220672],\n",
              "       [-1.51696174, -1.3455817 ],\n",
              "       [-0.3751596 , -0.36431917],\n",
              "       [-2.47475854, -2.69334136],\n",
              "       [ 1.88128122, -2.0310489 ],\n",
              "       [ 1.17755703,  2.00001287],\n",
              "       [-3.5342847 ,  1.2864359 ],\n",
              "       [ 0.38333176,  1.10529175],\n",
              "       [ 0.62193574,  1.20391498]])"
            ]
          },
          "metadata": {
            "tags": []
          },
          "execution_count": 208
        }
      ]
    },
    {
      "cell_type": "code",
      "metadata": {
        "colab": {
          "base_uri": "https://localhost:8080/"
        },
        "id": "lOwhy63IORl4",
        "outputId": "d514e696-d42f-48fc-bad3-5cc392931728"
      },
      "source": [
        "eigen_vecs.shape\n",
        "print(eigen_vecs_subset.shape)"
      ],
      "execution_count": 209,
      "outputs": [
        {
          "output_type": "stream",
          "text": [
            "(300, 2)\n"
          ],
          "name": "stdout"
        }
      ]
    },
    {
      "cell_type": "code",
      "metadata": {
        "colab": {
          "base_uri": "https://localhost:8080/"
        },
        "id": "tyzDbK8TOSiK",
        "outputId": "b815b0c1-3188-4612-8cf4-734b85215e7f"
      },
      "source": [
        "X_reduced"
      ],
      "execution_count": 152,
      "outputs": [
        {
          "output_type": "execute_result",
          "data": {
            "text/plain": [
              "array([[-3.08780779e-16,  6.17561557e-16],\n",
              "       [ 1.14491749e-16,  0.00000000e+00],\n",
              "       [ 4.99600361e-16, -1.66533454e-16],\n",
              "       [ 4.92661467e-16, -9.71445147e-17],\n",
              "       [ 3.46944695e-16, -4.99600361e-16],\n",
              "       [ 2.77555756e-17, -2.22044605e-16],\n",
              "       [ 8.32667268e-17,  6.07153217e-17],\n",
              "       [-8.32667268e-17,  4.71844785e-16],\n",
              "       [-9.71445147e-17, -4.37150316e-16],\n",
              "       [ 9.02056208e-17,  4.44089210e-16],\n",
              "       [-9.71445147e-17,  2.77555756e-17]])"
            ]
          },
          "metadata": {
            "tags": []
          },
          "execution_count": 152
        }
      ]
    },
    {
      "cell_type": "code",
      "metadata": {
        "id": "XYSW13P7OpdF"
      },
      "source": [
        ""
      ],
      "execution_count": null,
      "outputs": []
    }
  ]
}