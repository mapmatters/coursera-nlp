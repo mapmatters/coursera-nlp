{
  "nbformat": 4,
  "nbformat_minor": 0,
  "metadata": {
    "colab": {
      "name": "nlp class 1 - Week3 - nb04 - assignment",
      "provenance": [],
      "authorship_tag": "ABX9TyMLYhc/yvNSm2GRw4GxmDju",
      "include_colab_link": true
    },
    "kernelspec": {
      "name": "python3",
      "display_name": "Python 3"
    }
  },
  "cells": [
    {
      "cell_type": "markdown",
      "metadata": {
        "id": "view-in-github",
        "colab_type": "text"
      },
      "source": [
        "<a href=\"https://colab.research.google.com/github/mapmatters/coursera-nlp/blob/main/nlp_class_1_Week3_nb04_assignment.ipynb\" target=\"_parent\"><img src=\"https://colab.research.google.com/assets/colab-badge.svg\" alt=\"Open In Colab\"/></a>"
      ]
    },
    {
      "cell_type": "code",
      "metadata": {
        "colab": {
          "base_uri": "https://localhost:8080/"
        },
        "id": "JSQJ9JMfpRaG",
        "outputId": "14bfa32b-fa98-4c8e-d4cc-85875b3ec6e6"
      },
      "source": [
        "from google.colab import drive\n",
        "drive.mount('/content/drive')\n",
        "import os\n",
        "os.chdir('/content/drive/MyDrive/coursera/nlp')\n",
        "!ls"
      ],
      "execution_count": 24,
      "outputs": [
        {
          "output_type": "stream",
          "text": [
            "Drive already mounted at /content/drive; to attempt to forcibly remount, call drive.mount(\"/content/drive\", force_remount=True).\n",
            " data\n",
            "'nlp class 1 - Week1 - nb01'\n",
            "'nlp class 1 - Week1 - nb02'\n",
            "'nlp class 1 - Week1 - nb03'\n",
            "'nlp class 1 - Week1 - nb04 - assignment'\n",
            "'nlp class 1 - Week2 - nb01'\n",
            "'nlp class 1 - Week2 - nb02 - assignment'\n",
            "'nlp class 1 - Week3 - nb01 - linear algebra'\n",
            "'nlp class 1 - Week3 - nb02- manipulating word embedding'\n",
            "'nlp class 1 - Week3 - nb03- PCA.ipynb'\n",
            "'nlp class 1 - Week3 - nb04 - assignment'\n",
            " py\n",
            " __pycache__\n"
          ],
          "name": "stdout"
        }
      ]
    },
    {
      "cell_type": "markdown",
      "metadata": {
        "id": "H-widT1Uvq6b"
      },
      "source": [
        "## Import data"
      ]
    },
    {
      "cell_type": "code",
      "metadata": {
        "id": "hSnEHCuxvgqE"
      },
      "source": [
        "# Run this cell to import packages.\n",
        "import pickle\n",
        "import numpy as np\n",
        "import pandas as pd\n",
        "import matplotlib.pyplot as plt\n",
        "\n",
        "# from utils import get_vectors"
      ],
      "execution_count": 25,
      "outputs": []
    },
    {
      "cell_type": "code",
      "metadata": {
        "id": "S12WXVD1vuV-"
      },
      "source": [
        "def get_vectors(embeddings, words):\n",
        "    \"\"\"\n",
        "    Input:\n",
        "        embeddings: a word \n",
        "        fr_embeddings:\n",
        "        words: a list of words\n",
        "    Output: \n",
        "        X: a matrix where the rows are the embeddings corresponding to the rows on the list\n",
        "        \n",
        "    \"\"\"\n",
        "    m = len(words)\n",
        "    X = np.zeros((1, 300))\n",
        "    for word in words:\n",
        "        english = word\n",
        "        eng_emb = embeddings[english]\n",
        "        X = np.row_stack((X, eng_emb))\n",
        "    X = X[1:,:]\n",
        "    return X"
      ],
      "execution_count": 26,
      "outputs": []
    },
    {
      "cell_type": "code",
      "metadata": {
        "colab": {
          "base_uri": "https://localhost:8080/",
          "height": 204
        },
        "id": "00ZUPZeIv4hy",
        "outputId": "ee6172c0-cbf6-4be8-aa8a-44010b36c021"
      },
      "source": [
        "data = pd.read_csv('data/capital.csv', delimiter=',')\n",
        "data.columns = ['num','city1', 'country1', 'city2', 'country2']\n",
        "data = data[['city1', 'country1', 'city2', 'country2']]\n",
        "\n",
        "# print first five elements in the DataFrame\n",
        "data.head(5)"
      ],
      "execution_count": 27,
      "outputs": [
        {
          "output_type": "execute_result",
          "data": {
            "text/html": [
              "<div>\n",
              "<style scoped>\n",
              "    .dataframe tbody tr th:only-of-type {\n",
              "        vertical-align: middle;\n",
              "    }\n",
              "\n",
              "    .dataframe tbody tr th {\n",
              "        vertical-align: top;\n",
              "    }\n",
              "\n",
              "    .dataframe thead th {\n",
              "        text-align: right;\n",
              "    }\n",
              "</style>\n",
              "<table border=\"1\" class=\"dataframe\">\n",
              "  <thead>\n",
              "    <tr style=\"text-align: right;\">\n",
              "      <th></th>\n",
              "      <th>city1</th>\n",
              "      <th>country1</th>\n",
              "      <th>city2</th>\n",
              "      <th>country2</th>\n",
              "    </tr>\n",
              "  </thead>\n",
              "  <tbody>\n",
              "    <tr>\n",
              "      <th>0</th>\n",
              "      <td>Athens</td>\n",
              "      <td>Greece</td>\n",
              "      <td>Bangkok</td>\n",
              "      <td>Thailand</td>\n",
              "    </tr>\n",
              "    <tr>\n",
              "      <th>1</th>\n",
              "      <td>Athens</td>\n",
              "      <td>Greece</td>\n",
              "      <td>Beijing</td>\n",
              "      <td>China</td>\n",
              "    </tr>\n",
              "    <tr>\n",
              "      <th>2</th>\n",
              "      <td>Athens</td>\n",
              "      <td>Greece</td>\n",
              "      <td>Berlin</td>\n",
              "      <td>Germany</td>\n",
              "    </tr>\n",
              "    <tr>\n",
              "      <th>3</th>\n",
              "      <td>Athens</td>\n",
              "      <td>Greece</td>\n",
              "      <td>Bern</td>\n",
              "      <td>Switzerland</td>\n",
              "    </tr>\n",
              "    <tr>\n",
              "      <th>4</th>\n",
              "      <td>Athens</td>\n",
              "      <td>Greece</td>\n",
              "      <td>Cairo</td>\n",
              "      <td>Egypt</td>\n",
              "    </tr>\n",
              "  </tbody>\n",
              "</table>\n",
              "</div>"
            ],
            "text/plain": [
              "    city1 country1    city2     country2\n",
              "0  Athens   Greece  Bangkok     Thailand\n",
              "1  Athens   Greece  Beijing        China\n",
              "2  Athens   Greece   Berlin      Germany\n",
              "3  Athens   Greece     Bern  Switzerland\n",
              "4  Athens   Greece    Cairo        Egypt"
            ]
          },
          "metadata": {
            "tags": []
          },
          "execution_count": 27
        }
      ]
    },
    {
      "cell_type": "markdown",
      "metadata": {
        "id": "GqFKqnRo4ipZ"
      },
      "source": [
        "### To Run This Code On Your Own Machine:\n",
        "Note that because the original google news word embedding dataset is about 3.64 gigabytes,\n",
        "the workspace is not able to handle the full file set.  So we've downloaded the full dataset,\n",
        "extracted a sample of the words that we're going to analyze in this assignment, and saved\n",
        "it in a pickle file called `word_embeddings_capitals.p`\n",
        "\n",
        "If you want to download the full dataset on your own and choose your own set of word embeddings,\n",
        "please see the instructions and some helper code.\n",
        "\n",
        "- Download the dataset from this [page](https://code.google.com/archive/p/word2vec/).\n",
        "- Search in the page for 'GoogleNews-vectors-negative300.bin.gz' and click the link to download.\n",
        "\n",
        "```python\n",
        "import nltk\n",
        "from gensim.models import KeyedVectors\n",
        "\n",
        "\n",
        "# embeddings = KeyedVectors.load_word2vec_format('data/GoogleNews-vectors-negative300_shortcut.bin.gz', binary = True)\n",
        "embeddings = KeyedVectors.load_word2vec_format('data/GoogleNews-vectors-negative300.bin.gz', binary = True)\n",
        "f = open('data/capital.csv', 'r').read()\n",
        "set_words = set(nltk.word_tokenize(f))\n",
        "select_words = words = ['king', 'queen', 'oil', 'gas', 'happy', 'sad', 'city', 'town', 'village', 'country', 'continent', 'petroleum', 'joyful']\n",
        "for w in select_words:\n",
        "    set_words.add(w)\n",
        "\n",
        "def get_word_embeddings(embeddings):\n",
        "\n",
        "    word_embeddings = {}\n",
        "    for word in embeddings.vocab:\n",
        "        if word in set_words:\n",
        "            word_embeddings[word] = embeddings[word]\n",
        "    return word_embeddings\n",
        "\n",
        "\n",
        "# Testing your function\n",
        "word_embeddings = get_word_embeddings(embeddings)\n",
        "print(len(word_embeddings))\n",
        "pickle.dump( word_embeddings, open( \"data/word_embeddings_subset.p\", \"wb\" ) )\n",
        "```"
      ]
    },
    {
      "cell_type": "code",
      "metadata": {
        "colab": {
          "base_uri": "https://localhost:8080/"
        },
        "id": "pyNqzyBrv8m_",
        "outputId": "d32c0e6c-a9f0-4e1d-82b1-765f3e0f8f8d"
      },
      "source": [
        "word_embeddings = pickle.load(open(\"data/word_embeddings_subset.p\", \"rb\"))\n",
        "len(word_embeddings)  # there should be 243 words that will be used in this assignment"
      ],
      "execution_count": 32,
      "outputs": [
        {
          "output_type": "execute_result",
          "data": {
            "text/plain": [
              "243"
            ]
          },
          "metadata": {
            "tags": []
          },
          "execution_count": 32
        }
      ]
    },
    {
      "cell_type": "code",
      "metadata": {
        "colab": {
          "base_uri": "https://localhost:8080/"
        },
        "id": "mmq1WcjSwYer",
        "outputId": "b1aaec50-8d9f-4763-94d7-a65164818d6e"
      },
      "source": [
        "print(\"dimension: {}\".format(word_embeddings['Spain'].shape[0]))"
      ],
      "execution_count": 33,
      "outputs": [
        {
          "output_type": "stream",
          "text": [
            "dimension: 300\n"
          ],
          "name": "stdout"
        }
      ]
    },
    {
      "cell_type": "markdown",
      "metadata": {
        "id": "3NiZtMGx5ccw"
      },
      "source": [
        "# predict relationship - cosine similarity"
      ]
    },
    {
      "cell_type": "code",
      "metadata": {
        "id": "ejM_mALE5U_I"
      },
      "source": [
        "def cosine_similarity(A, B):\n",
        "  '''\n",
        "  input \n",
        "    A: numpy array corresponds to a word vector\n",
        "    B: numpy array corresponds to a word vector\n",
        "  output\n",
        "    cos: numerical number... cosine similarity\n",
        "  '''\n",
        "\n",
        "  dot = np.dot(A, B)\n",
        "  norma = np.linalg.norm(A)\n",
        "  normb = np.linalg.norm(B)\n",
        "  cos = dot/(norma*normb)\n",
        "  \n",
        "  return cos"
      ],
      "execution_count": 34,
      "outputs": []
    },
    {
      "cell_type": "code",
      "metadata": {
        "colab": {
          "base_uri": "https://localhost:8080/"
        },
        "id": "unLNeF9l6Bwm",
        "outputId": "df565af7-e574-4185-934b-2194eed3a898"
      },
      "source": [
        "king = word_embeddings['king']\n",
        "queen = word_embeddings['queen']\n",
        "cosine_similarity(king, queen)"
      ],
      "execution_count": 35,
      "outputs": [
        {
          "output_type": "execute_result",
          "data": {
            "text/plain": [
              "0.6510956"
            ]
          },
          "metadata": {
            "tags": []
          },
          "execution_count": 35
        }
      ]
    },
    {
      "cell_type": "code",
      "metadata": {
        "id": "Fles_ZYt6bhG"
      },
      "source": [
        ""
      ],
      "execution_count": 35,
      "outputs": []
    },
    {
      "cell_type": "markdown",
      "metadata": {
        "id": "JAJRzcWY6dMh"
      },
      "source": [
        "# Euclidean distance"
      ]
    },
    {
      "cell_type": "code",
      "metadata": {
        "id": "gEwDlJN_6fgr"
      },
      "source": [
        "def euclidean(A, B):\n",
        "  d = np.sum((A-B)**2)**(1/2)\n",
        "  return d"
      ],
      "execution_count": 18,
      "outputs": []
    },
    {
      "cell_type": "code",
      "metadata": {
        "colab": {
          "base_uri": "https://localhost:8080/"
        },
        "id": "fSB2kTBW68-K",
        "outputId": "de5f3a3b-9bc1-4146-a541-9398255bc574"
      },
      "source": [
        "euclidean(king, queen)"
      ],
      "execution_count": 19,
      "outputs": [
        {
          "output_type": "execute_result",
          "data": {
            "text/plain": [
              "2.479692376654192"
            ]
          },
          "metadata": {
            "tags": []
          },
          "execution_count": 19
        }
      ]
    },
    {
      "cell_type": "markdown",
      "metadata": {
        "id": "-TQDVLtu7EMf"
      },
      "source": [
        "# Finding the country of each capital\n",
        "1. Athens\n",
        "2. Greece\n",
        "3. Baghdad\n",
        "task = predict 'Iraq'"
      ]
    },
    {
      "cell_type": "code",
      "metadata": {
        "id": "SYwKAkzb7ARG"
      },
      "source": [
        "def get_country(city1, country1, city2, embeddings):\n",
        "  '''\n",
        "  input:\n",
        "    city1\n",
        "    country1\n",
        "    city2 \n",
        "    embeddings\n",
        "  output:\n",
        "    countries\n",
        "  '''\n",
        "  # store the city1, country1, city2 in a set called group\n",
        "  group = set((city1, country1, city2))\n",
        "\n",
        "  # get embeddings \n",
        "  city1_emb = embeddings[city1]\n",
        "  country1_emb = embeddings[country1]\n",
        "  city2_emb = embeddings[city2]\n",
        "\n",
        "  # get embedding of country 2\n",
        "  vec = country1_emb - city1_emb + city2_emb\n",
        "\n",
        "  similarity = -1\n",
        "  country = ''\n",
        "\n",
        "  # loop through all words in the embeddings dict\n",
        "  for word in embeddings.keys():\n",
        "    if word not in group:\n",
        "      word_emb = embeddings[word]\n",
        "      cur_similarity = cosine_similarity(word_emb, vec)\n",
        "      if cur_similarity > similarity:\n",
        "        similarity = cur_similarity\n",
        "        country = (word, cur_similarity)\n",
        "\n",
        "  return country\n"
      ],
      "execution_count": 22,
      "outputs": []
    },
    {
      "cell_type": "code",
      "metadata": {
        "colab": {
          "base_uri": "https://localhost:8080/"
        },
        "id": "yCKZeCxs9NZl",
        "outputId": "782fb1ed-2724-4426-98ee-c63d5c39df3f"
      },
      "source": [
        "get_country('Athens', 'Greece', 'Cairo', word_embeddings)"
      ],
      "execution_count": 23,
      "outputs": [
        {
          "output_type": "execute_result",
          "data": {
            "text/plain": [
              "('Egypt', 0.7626821)"
            ]
          },
          "metadata": {
            "tags": []
          },
          "execution_count": 23
        }
      ]
    },
    {
      "cell_type": "markdown",
      "metadata": {
        "id": "kNzufCxQMb3w"
      },
      "source": [
        "# Accuracy"
      ]
    },
    {
      "cell_type": "code",
      "metadata": {
        "colab": {
          "base_uri": "https://localhost:8080/",
          "height": 419
        },
        "id": "ja0GrkthMydi",
        "outputId": "47237dd5-7248-462f-f9b0-9909f6a6cb84"
      },
      "source": [
        "data"
      ],
      "execution_count": 36,
      "outputs": [
        {
          "output_type": "execute_result",
          "data": {
            "text/html": [
              "<div>\n",
              "<style scoped>\n",
              "    .dataframe tbody tr th:only-of-type {\n",
              "        vertical-align: middle;\n",
              "    }\n",
              "\n",
              "    .dataframe tbody tr th {\n",
              "        vertical-align: top;\n",
              "    }\n",
              "\n",
              "    .dataframe thead th {\n",
              "        text-align: right;\n",
              "    }\n",
              "</style>\n",
              "<table border=\"1\" class=\"dataframe\">\n",
              "  <thead>\n",
              "    <tr style=\"text-align: right;\">\n",
              "      <th></th>\n",
              "      <th>city1</th>\n",
              "      <th>country1</th>\n",
              "      <th>city2</th>\n",
              "      <th>country2</th>\n",
              "    </tr>\n",
              "  </thead>\n",
              "  <tbody>\n",
              "    <tr>\n",
              "      <th>0</th>\n",
              "      <td>Athens</td>\n",
              "      <td>Greece</td>\n",
              "      <td>Bangkok</td>\n",
              "      <td>Thailand</td>\n",
              "    </tr>\n",
              "    <tr>\n",
              "      <th>1</th>\n",
              "      <td>Athens</td>\n",
              "      <td>Greece</td>\n",
              "      <td>Beijing</td>\n",
              "      <td>China</td>\n",
              "    </tr>\n",
              "    <tr>\n",
              "      <th>2</th>\n",
              "      <td>Athens</td>\n",
              "      <td>Greece</td>\n",
              "      <td>Berlin</td>\n",
              "      <td>Germany</td>\n",
              "    </tr>\n",
              "    <tr>\n",
              "      <th>3</th>\n",
              "      <td>Athens</td>\n",
              "      <td>Greece</td>\n",
              "      <td>Bern</td>\n",
              "      <td>Switzerland</td>\n",
              "    </tr>\n",
              "    <tr>\n",
              "      <th>4</th>\n",
              "      <td>Athens</td>\n",
              "      <td>Greece</td>\n",
              "      <td>Cairo</td>\n",
              "      <td>Egypt</td>\n",
              "    </tr>\n",
              "    <tr>\n",
              "      <th>...</th>\n",
              "      <td>...</td>\n",
              "      <td>...</td>\n",
              "      <td>...</td>\n",
              "      <td>...</td>\n",
              "    </tr>\n",
              "    <tr>\n",
              "      <th>4946</th>\n",
              "      <td>Zagreb</td>\n",
              "      <td>Croatia</td>\n",
              "      <td>Dakar</td>\n",
              "      <td>Senegal</td>\n",
              "    </tr>\n",
              "    <tr>\n",
              "      <th>4947</th>\n",
              "      <td>Zagreb</td>\n",
              "      <td>Croatia</td>\n",
              "      <td>Damascus</td>\n",
              "      <td>Syria</td>\n",
              "    </tr>\n",
              "    <tr>\n",
              "      <th>4948</th>\n",
              "      <td>Zagreb</td>\n",
              "      <td>Croatia</td>\n",
              "      <td>Dhaka</td>\n",
              "      <td>Bangladesh</td>\n",
              "    </tr>\n",
              "    <tr>\n",
              "      <th>4949</th>\n",
              "      <td>Zagreb</td>\n",
              "      <td>Croatia</td>\n",
              "      <td>Doha</td>\n",
              "      <td>Qatar</td>\n",
              "    </tr>\n",
              "    <tr>\n",
              "      <th>4950</th>\n",
              "      <td>Zagreb</td>\n",
              "      <td>Croatia</td>\n",
              "      <td>Dublin</td>\n",
              "      <td>Ireland</td>\n",
              "    </tr>\n",
              "  </tbody>\n",
              "</table>\n",
              "<p>4951 rows × 4 columns</p>\n",
              "</div>"
            ],
            "text/plain": [
              "       city1 country1     city2     country2\n",
              "0     Athens   Greece   Bangkok     Thailand\n",
              "1     Athens   Greece   Beijing        China\n",
              "2     Athens   Greece    Berlin      Germany\n",
              "3     Athens   Greece      Bern  Switzerland\n",
              "4     Athens   Greece     Cairo        Egypt\n",
              "...      ...      ...       ...          ...\n",
              "4946  Zagreb  Croatia     Dakar      Senegal\n",
              "4947  Zagreb  Croatia  Damascus        Syria\n",
              "4948  Zagreb  Croatia     Dhaka   Bangladesh\n",
              "4949  Zagreb  Croatia      Doha        Qatar\n",
              "4950  Zagreb  Croatia    Dublin      Ireland\n",
              "\n",
              "[4951 rows x 4 columns]"
            ]
          },
          "metadata": {
            "tags": []
          },
          "execution_count": 36
        }
      ]
    },
    {
      "cell_type": "code",
      "metadata": {
        "colab": {
          "base_uri": "https://localhost:8080/",
          "height": 35
        },
        "id": "3XJn94akM5G0",
        "outputId": "301b8256-4509-4317-9732-949d53829046"
      },
      "source": [
        "for i, row in data.iterrows():\n",
        "  # print(i)\n",
        "  # print(row)\n",
        "  a = row['city1']\n",
        "  # print(type(row))\n",
        "  if i > 0:\n",
        "    # return a  \n",
        "    break;\n",
        "a\n"
      ],
      "execution_count": 54,
      "outputs": [
        {
          "output_type": "execute_result",
          "data": {
            "application/vnd.google.colaboratory.intrinsic+json": {
              "type": "string"
            },
            "text/plain": [
              "'Athens'"
            ]
          },
          "metadata": {
            "tags": []
          },
          "execution_count": 54
        }
      ]
    },
    {
      "cell_type": "code",
      "metadata": {
        "id": "s3pSGeqr9SxN"
      },
      "source": [
        "def get_accuracy(word_embeddings, data):\n",
        "  '''\n",
        "  input\n",
        "    word_embeddings\n",
        "    data: pandas dataframe\n",
        "  output\n",
        "    accuracy\n",
        "  '''\n",
        "\n",
        "  num_correct = 0\n",
        "  for i, row in data.iterrows():\n",
        "    city1 = row['city1']\n",
        "    country1 = row['country1']\n",
        "    \n",
        "    city2 = row['city2']\n",
        "    country2 = row['country2']\n",
        "\n",
        "    predicted_country2, _ = get_country(city1, country1, city2, word_embeddings)\n",
        "\n",
        "    if predicted_country2 == country2:\n",
        "      num_correct += 1\n",
        "  m = len(data)\n",
        "\n",
        "  accuracy = num_correct / m\n",
        "  return accuracy\n"
      ],
      "execution_count": 55,
      "outputs": []
    },
    {
      "cell_type": "code",
      "metadata": {
        "colab": {
          "base_uri": "https://localhost:8080/"
        },
        "id": "Ns8gqYNzP8Gm",
        "outputId": "311873e3-429f-4fd0-cb84-d46925dcaeab"
      },
      "source": [
        "accuracy = get_accuracy(word_embeddings, data)\n",
        "print(f\"Accuracy is {accuracy:.2f}\")"
      ],
      "execution_count": 56,
      "outputs": [
        {
          "output_type": "stream",
          "text": [
            "Accuracy is 0.92\n"
          ],
          "name": "stdout"
        }
      ]
    },
    {
      "cell_type": "markdown",
      "metadata": {
        "id": "TtUzywDDQYtU"
      },
      "source": [
        "# Plotting the vectors using PCA\n",
        "\n",
        "- mean normalize the data\n",
        "- compute the covariance matrix of your data\n",
        "- compute the eigenvectors and the eigenvalues of your covariance matrix\n",
        "- multiply the first K eigenvectors by your normalized data"
      ]
    },
    {
      "cell_type": "markdown",
      "metadata": {
        "id": "jYODYpR8uesf"
      },
      "source": [
        "**Instructions**: \n",
        "\n",
        "You will write a program that takes in a data set where each row corresponds to a word vector. \n",
        "* The word vectors are of dimension 300. \n",
        "* Use PCA to change the 300 dimensions to `n_components` dimensions. \n",
        "* The new matrix should be of dimension `m, n_componentns`. \n",
        "\n",
        "* First de-mean the data\n",
        "* Get the eigenvalues using `linalg.eigh`.  Use `eigh` rather than `eig` since R is symmetric.  The performance gain when using `eigh` instead of `eig` is substantial.\n",
        "* Sort the eigenvectors and eigenvalues by decreasing order of the eigenvalues.\n",
        "* Get a subset of the eigenvectors (choose how many principle components you want to use using `n_components`).\n",
        "* Return the new transformation of the data by multiplying the eigenvectors with the original data."
      ]
    },
    {
      "cell_type": "code",
      "metadata": {
        "id": "Mt2SI8pvP9YJ"
      },
      "source": [
        "# UNQ_C5 (UNIQUE CELL IDENTIFIER, DO NOT EDIT)\n",
        "def compute_pca(X, n_components=2):\n",
        "    \"\"\"\n",
        "    Input:\n",
        "        X: of dimension (m,n) where each row corresponds to a word vector\n",
        "        n_components: Number of components you want to keep.\n",
        "    Output:\n",
        "        X_reduced: data transformed in 2 dims/columns + regenerated original data\n",
        "    \"\"\"\n",
        "\n",
        "    ### START CODE HERE (REPLACE INSTANCES OF 'None' with your code) ###\n",
        "    # mean center the data\n",
        "    X_demeaned = X - np.mean(X, axis=0)\n",
        "\n",
        "    # calculate the covariance matrix\n",
        "    covariance_matrix = np.cov(X_demeaned, rowvar=False)\n",
        "\n",
        "    # calculate eigenvectors & eigenvalues of the covariance matrix\n",
        "    # eigen_vals, eigen_vecs = np.linalg.eigh(covariance_matrix, UPLO='L')\n",
        "    eigen_vals, eigen_vecs = np.linalg.eig(covariance_matrix)\n",
        "    print(eigen_vals)\n",
        "    # sort eigenvalue in increasing order (get the indices from the sort)\n",
        "    idx_sorted = np.argsort(eigen_vals)\n",
        "    print(idx_sorted)\n",
        "    \n",
        "    # reverse the order so that it's from highest to lowest.\n",
        "    idx_sorted_decreasing =  idx_sorted[::-1]\n",
        "\n",
        "    # sort the eigen values by idx_sorted_decreasing\n",
        "    eigen_vals_sorted = eigen_vals[idx_sorted_decreasing] \n",
        "\n",
        "    # sort eigenvectors using the idx_sorted_decreasing indices\n",
        "    eigen_vecs_sorted = eigen_vecs[:,idx_sorted_decreasing] \n",
        "\n",
        "    # select the first n eigenvectors (n is desired dimension\n",
        "    # of rescaled data array, or dims_rescaled_data)\n",
        "    eigen_vecs_subset = eigen_vecs[:,:n_components] \n",
        "\n",
        "    # transform the data by multiplying the transpose of the eigenvectors \n",
        "    # with the transpose of the de-meaned data\n",
        "    # Then take the transpose of that product.\n",
        "    X_reduced = np.dot(X_demeaned, eigen_vecs_subset)\n",
        "\n",
        "    ### END CODE HERE ###\n",
        "\n",
        "    return X_reduced\n"
      ],
      "execution_count": 198,
      "outputs": []
    },
    {
      "cell_type": "code",
      "metadata": {
        "colab": {
          "base_uri": "https://localhost:8080/"
        },
        "id": "Uy06yW-vKP3S",
        "outputId": "73581355-0116-46fc-f54f-cf2aee3b9e20"
      },
      "source": [
        "# Testing your function\n",
        "np.random.seed(1)\n",
        "X = np.random.rand(3, 10)\n",
        "X_reduced = compute_pca(X, n_components=2)\n",
        "print(\"Your original matrix was \" + str(X.shape) + \" and it became:\")\n",
        "print(X_reduced)"
      ],
      "execution_count": 199,
      "outputs": [
        {
          "output_type": "stream",
          "text": [
            "[-5.55111512e-17+0.00000000e+00j  5.48501886e-01+0.00000000e+00j\n",
            "  2.50881048e-01+0.00000000e+00j  9.46121262e-18+9.80802571e-18j\n",
            "  9.46121262e-18-9.80802571e-18j -1.64753721e-17+0.00000000e+00j\n",
            " -1.30203103e-17+0.00000000e+00j  4.74160172e-20+0.00000000e+00j\n",
            "  4.05469093e-18+8.97819333e-19j  4.05469093e-18-8.97819333e-19j]\n",
            "[0 5 6 7 9 8 4 3 2 1]\n",
            "Your original matrix was (3, 10) and it became:\n",
            "[[ 1.42782957e-16+0.j -4.34373226e-01+0.j]\n",
            " [ 1.62095314e-16+0.j -4.20772485e-01+0.j]\n",
            " [-2.51341079e-16+0.j  8.55145712e-01+0.j]]\n"
          ],
          "name": "stdout"
        }
      ]
    },
    {
      "cell_type": "code",
      "metadata": {
        "colab": {
          "base_uri": "https://localhost:8080/"
        },
        "id": "Ho9zb8pLu3Kh",
        "outputId": "bcfbbd1d-2dda-4aa5-e41b-0645d384c930"
      },
      "source": [
        "words = ['oil', 'gas', 'happy', 'sad', 'city', 'town',\n",
        "         'village', 'country', 'continent', 'petroleum', 'joyful']\n",
        "\n",
        "# given a list of words and the embeddings, it returns a matrix with all the embeddings\n",
        "XX = get_vectors(word_embeddings, words)\n",
        "\n",
        "print('You have 11 words each of 300 dimensions thus X.shape is:', XX.shape)\n",
        "XX"
      ],
      "execution_count": 200,
      "outputs": [
        {
          "output_type": "stream",
          "text": [
            "You have 11 words each of 300 dimensions thus X.shape is: (11, 300)\n"
          ],
          "name": "stdout"
        },
        {
          "output_type": "execute_result",
          "data": {
            "text/plain": [
              "array([[-0.13964844,  0.06225586, -0.27929688, ...,  0.20410156,\n",
              "         0.23535156, -0.05102539],\n",
              "       [-0.16113281,  0.10546875, -0.13867188, ...,  0.25585938,\n",
              "         0.20214844, -0.01928711],\n",
              "       [-0.0005188 ,  0.16015625,  0.0016098 , ..., -0.03540039,\n",
              "         0.08886719, -0.30273438],\n",
              "       ...,\n",
              "       [ 0.02978516,  0.25585938,  0.23925781, ..., -0.06030273,\n",
              "         0.19726562, -0.2734375 ],\n",
              "       [-0.11865234,  0.19921875, -0.22265625, ...,  0.09960938,\n",
              "         0.20605469, -0.09912109],\n",
              "       [ 0.18066406, -0.0090332 ,  0.12988281, ..., -0.33984375,\n",
              "         0.2734375 ,  0.04492188]])"
            ]
          },
          "metadata": {
            "tags": []
          },
          "execution_count": 200
        }
      ]
    },
    {
      "cell_type": "code",
      "metadata": {
        "colab": {
          "base_uri": "https://localhost:8080/"
        },
        "id": "bo_bql5EIs6S",
        "outputId": "e41ec455-f525-49cb-d933-565341418a7f"
      },
      "source": [
        "# We have done the plotting for you. Just run this cell.\n",
        "result = compute_pca(XX, 2)\n",
        "result"
      ],
      "execution_count": 201,
      "outputs": [
        {
          "output_type": "stream",
          "text": [
            "[ 1.88209230e+00+0.00000000e+00j  1.27912943e+00+0.00000000e+00j\n",
            "  9.07874536e-01+0.00000000e+00j  4.86985005e-01+0.00000000e+00j\n",
            "  3.51318522e-01+0.00000000e+00j  3.31062612e-01+0.00000000e+00j\n",
            "  2.89881553e-01+0.00000000e+00j  2.03349311e-01+0.00000000e+00j\n",
            "  1.77232603e-01+0.00000000e+00j  1.19695375e-01+0.00000000e+00j\n",
            " -4.82857144e-17+5.94922097e-17j -4.82857144e-17-5.94922097e-17j\n",
            " -7.74245230e-17+5.84102223e-18j -7.74245230e-17-5.84102223e-18j\n",
            " -7.23929549e-17+2.58653671e-17j -7.23929549e-17-2.58653671e-17j\n",
            "  7.69277401e-18+7.60884166e-17j  7.69277401e-18-7.60884166e-17j\n",
            " -5.81498226e-17+3.33198471e-17j -5.81498226e-17-3.33198471e-17j\n",
            "  5.97017156e-17+3.84959366e-17j  5.97017156e-17-3.84959366e-17j\n",
            "  6.99661317e-17+1.64344492e-17j  6.99661317e-17-1.64344492e-17j\n",
            " -1.31291239e-17+6.25455327e-17j -1.31291239e-17-6.25455327e-17j\n",
            "  6.32998714e-17+2.53483695e-17j  6.32998714e-17-2.53483695e-17j\n",
            "  2.90646866e-17+4.82342515e-17j  2.90646866e-17-4.82342515e-17j\n",
            " -5.48852887e-17+7.64284544e-18j -5.48852887e-17-7.64284544e-18j\n",
            "  9.90715699e-18+5.14681606e-17j  9.90715699e-18-5.14681606e-17j\n",
            " -3.18819493e-17+3.83127004e-17j -3.18819493e-17-3.83127004e-17j\n",
            "  5.44109375e-17+0.00000000e+00j  4.78170644e-17+1.91037370e-17j\n",
            "  4.78170644e-17-1.91037370e-17j  4.64712107e-17+1.29895231e-17j\n",
            "  4.64712107e-17-1.29895231e-17j  4.72114172e-17+9.38735259e-18j\n",
            "  4.72114172e-17-9.38735259e-18j -4.39325191e-17+1.61750419e-17j\n",
            " -4.39325191e-17-1.61750419e-17j -4.55192765e-17+1.05529499e-18j\n",
            " -4.55192765e-17-1.05529499e-18j  3.04991252e-17+3.16980691e-17j\n",
            "  3.04991252e-17-3.16980691e-17j  3.45213818e-17+2.29873674e-17j\n",
            "  3.45213818e-17-2.29873674e-17j -2.17055992e-17+3.55990700e-17j\n",
            " -2.17055992e-17-3.55990700e-17j  4.16612783e-17+5.61211269e-19j\n",
            "  4.16612783e-17-5.61211269e-19j  3.94854677e-17+7.77082911e-18j\n",
            "  3.94854677e-17-7.77082911e-18j  3.54662813e-17+1.00885234e-17j\n",
            "  3.54662813e-17-1.00885234e-17j -3.95370325e-17+1.00827882e-17j\n",
            " -3.95370325e-17-1.00827882e-17j -4.01004789e-17+0.00000000e+00j\n",
            " -3.89287290e-17+4.43701318e-18j -3.89287290e-17-4.43701318e-18j\n",
            " -3.25213372e-17+1.92844033e-17j -3.25213372e-17-1.92844033e-17j\n",
            " -3.09854612e-17+1.83881419e-17j -3.09854612e-17-1.83881419e-17j\n",
            " -2.43462811e-17+2.48547035e-17j -2.43462811e-17-2.48547035e-17j\n",
            "  8.55481884e-18+3.15380075e-17j  8.55481884e-18-3.15380075e-17j\n",
            " -7.16568377e-18+2.88635687e-17j -7.16568377e-18-2.88635687e-17j\n",
            " -1.42776166e-17+2.56146644e-17j -1.42776166e-17-2.56146644e-17j\n",
            " -3.26216336e-17+0.00000000e+00j -2.90031032e-17+1.21069588e-17j\n",
            " -2.90031032e-17-1.21069588e-17j -2.61780772e-17+1.52917000e-17j\n",
            " -2.61780772e-17-1.52917000e-17j  1.68081648e-17+2.43540624e-17j\n",
            "  1.68081648e-17-2.43540624e-17j  3.39951920e-17+0.00000000e+00j\n",
            "  3.06077193e-17+6.75458202e-18j  3.06077193e-17-6.75458202e-18j\n",
            "  2.66009468e-17+1.57675161e-17j  2.66009468e-17-1.57675161e-17j\n",
            "  2.49470053e-17+1.64266858e-17j  2.49470053e-17-1.64266858e-17j\n",
            "  3.06024680e-17+0.00000000e+00j  1.83496790e-17+2.13842566e-17j\n",
            "  1.83496790e-17-2.13842566e-17j -2.23975263e-17+1.89236630e-17j\n",
            " -2.23975263e-17-1.89236630e-17j -1.34356509e-17+2.24858048e-17j\n",
            " -1.34356509e-17-2.24858048e-17j -3.06294860e-17+5.49841369e-18j\n",
            " -3.06294860e-17-5.49841369e-18j -2.78251538e-17+9.50048415e-18j\n",
            " -2.78251538e-17-9.50048415e-18j -2.82832699e-17+3.46510517e-18j\n",
            " -2.82832699e-17-3.46510517e-18j  2.55296252e-17+9.20934168e-18j\n",
            "  2.55296252e-17-9.20934168e-18j  2.67303546e-17+4.48396482e-18j\n",
            "  2.67303546e-17-4.48396482e-18j -3.22379280e-18+2.41981805e-17j\n",
            " -3.22379280e-18-2.41981805e-17j  2.73221536e-17+0.00000000e+00j\n",
            "  1.65653154e-17+1.84712955e-17j  1.65653154e-17-1.84712955e-17j\n",
            "  2.28986405e-17+1.04551675e-17j  2.28986405e-17-1.04551675e-17j\n",
            " -2.71602054e-17+5.36117833e-18j -2.71602054e-17-5.36117833e-18j\n",
            " -2.41170998e-17+1.04033130e-17j -2.41170998e-17-1.04033130e-17j\n",
            "  1.81935517e-17+1.53274669e-17j  1.81935517e-17-1.53274669e-17j\n",
            "  2.27395675e-17+6.13117067e-18j  2.27395675e-17-6.13117067e-18j\n",
            "  1.43625035e-17+1.69891025e-17j  1.43625035e-17-1.69891025e-17j\n",
            "  7.67102324e-18+2.05960239e-17j  7.67102324e-18-2.05960239e-17j\n",
            "  4.54995066e-18+2.06219887e-17j  4.54995066e-18-2.06219887e-17j\n",
            " -1.36191415e-17+1.75472925e-17j -1.36191415e-17-1.75472925e-17j\n",
            " -2.21799015e-17+8.64355976e-18j -2.21799015e-17-8.64355976e-18j\n",
            " -1.86713045e-17+1.29229343e-17j -1.86713045e-17-1.29229343e-17j\n",
            " -2.25021043e-17+3.48885078e-18j -2.25021043e-17-3.48885078e-18j\n",
            "  2.09678193e-17+4.24949368e-18j  2.09678193e-17-4.24949368e-18j\n",
            " -2.18313093e-17+0.00000000e+00j -1.06285368e-17+1.73060636e-17j\n",
            " -1.06285368e-17-1.73060636e-17j  9.39246310e-18+1.75274146e-17j\n",
            "  9.39246310e-18-1.75274146e-17j  2.07868378e-17+0.00000000e+00j\n",
            "  1.65470925e-17+1.12964190e-17j  1.65470925e-17-1.12964190e-17j\n",
            "  1.86658469e-17+6.79513457e-18j  1.86658469e-17-6.79513457e-18j\n",
            " -1.57363007e-18+1.86145856e-17j -1.57363007e-18-1.86145856e-17j\n",
            " -1.82933855e-17+8.60622702e-18j -1.82933855e-17-8.60622702e-18j\n",
            " -1.42111567e-17+1.28350215e-17j -1.42111567e-17-1.28350215e-17j\n",
            " -1.87093829e-17+1.41586088e-18j -1.87093829e-17-1.41586088e-18j\n",
            " -1.72410021e-17+6.28027784e-18j -1.72410021e-17-6.28027784e-18j\n",
            "  8.04562506e-18+1.48585399e-17j  8.04562506e-18-1.48585399e-17j\n",
            "  1.28190993e-17+1.23606756e-17j  1.28190993e-17-1.23606756e-17j\n",
            "  1.67418670e-17+8.09050684e-18j  1.67418670e-17-8.09050684e-18j\n",
            "  1.73813230e-17+3.47690294e-18j  1.73813230e-17-3.47690294e-18j\n",
            "  5.39501619e-18+1.45417503e-17j  5.39501619e-18-1.45417503e-17j\n",
            " -1.52757928e-17+6.79087365e-18j -1.52757928e-17-6.79087365e-18j\n",
            " -6.26693879e-18+1.42094602e-17j -6.26693879e-18-1.42094602e-17j\n",
            " -5.45636652e-19+1.48727694e-17j -5.45636652e-19-1.48727694e-17j\n",
            "  1.64060664e-17+1.33456915e-18j  1.64060664e-17-1.33456915e-18j\n",
            "  1.07614287e-17+9.65921309e-18j  1.07614287e-17-9.65921309e-18j\n",
            " -5.07774569e-18+1.31417335e-17j -5.07774569e-18-1.31417335e-17j\n",
            " -8.92296485e-18+1.14146386e-17j -8.92296485e-18-1.14146386e-17j\n",
            " -1.60447103e-17+3.27773277e-18j -1.60447103e-17-3.27773277e-18j\n",
            " -1.58541551e-17+2.07938658e-18j -1.58541551e-17-2.07938658e-18j\n",
            " -1.44480455e-17+4.45784451e-18j -1.44480455e-17-4.45784451e-18j\n",
            "  1.43126309e-17+5.01029761e-18j  1.43126309e-17-5.01029761e-18j\n",
            " -9.71431519e-18+9.37655037e-18j -9.71431519e-18-9.37655037e-18j\n",
            " -1.07759246e-17+8.17712894e-18j -1.07759246e-17-8.17712894e-18j\n",
            "  1.13845044e-17+7.08442620e-18j  1.13845044e-17-7.08442620e-18j\n",
            "  1.21471493e-17+5.56764531e-18j  1.21471493e-17-5.56764531e-18j\n",
            "  2.30418209e-18+1.19529275e-17j  2.30418209e-18-1.19529275e-17j\n",
            " -2.50484218e-18+1.20644200e-17j -2.50484218e-18-1.20644200e-17j\n",
            " -5.57712982e-18+1.08362015e-17j -5.57712982e-18-1.08362015e-17j\n",
            " -1.66010613e-19+1.16627435e-17j -1.66010613e-19-1.16627435e-17j\n",
            " -7.61986662e-18+9.29539809e-18j -7.61986662e-18-9.29539809e-18j\n",
            " -1.07234664e-17+4.58158608e-18j -1.07234664e-17-4.58158608e-18j\n",
            "  6.00603405e-18+9.21764439e-18j  6.00603405e-18-9.21764439e-18j\n",
            "  1.22379016e-17+5.32546486e-19j  1.22379016e-17-5.32546486e-19j\n",
            "  1.05901074e-17+4.98190874e-18j  1.05901074e-17-4.98190874e-18j\n",
            "  7.66248984e-18+7.16031106e-18j  7.66248984e-18-7.16031106e-18j\n",
            "  9.07220458e-18+4.87799982e-18j  9.07220458e-18-4.87799982e-18j\n",
            " -4.23098809e-18+9.17048133e-18j -4.23098809e-18-9.17048133e-18j\n",
            " -1.18601993e-17+0.00000000e+00j -1.07385180e-17+3.89827185e-18j\n",
            " -1.07385180e-17-3.89827185e-18j  2.59887533e-18+8.68371906e-18j\n",
            "  2.59887533e-18-8.68371906e-18j -1.09107916e-17+1.76583547e-18j\n",
            " -1.09107916e-17-1.76583547e-18j -1.07533698e-17+0.00000000e+00j\n",
            " -8.33261956e-18+5.32050000e-18j -8.33261956e-18-5.32050000e-18j\n",
            "  7.33154740e-18+5.88908744e-18j  7.33154740e-18-5.88908744e-18j\n",
            " -4.59472360e-18+7.23278159e-18j -4.59472360e-18-7.23278159e-18j\n",
            "  9.23492107e-18+0.00000000e+00j  3.50664783e-18+7.39579569e-18j\n",
            "  3.50664783e-18-7.39579569e-18j -7.05176601e-18+4.70361855e-18j\n",
            " -7.05176601e-18-4.70361855e-18j -8.76710814e-18+1.01924805e-18j\n",
            " -8.76710814e-18-1.01924805e-18j -3.79839448e-18+6.51292103e-18j\n",
            " -3.79839448e-18-6.51292103e-18j  3.80584077e-19+7.10603875e-18j\n",
            "  3.80584077e-19-7.10603875e-18j  8.74325245e-18+8.37806845e-19j\n",
            "  8.74325245e-18-8.37806845e-19j  7.76551141e-18+2.86359548e-18j\n",
            "  7.76551141e-18-2.86359548e-18j  7.25173401e-18+3.89029068e-18j\n",
            "  7.25173401e-18-3.89029068e-18j  3.70937345e-18+5.95447567e-18j\n",
            "  3.70937345e-18-5.95447567e-18j -1.98670255e-18+6.31056234e-18j\n",
            " -1.98670255e-18-6.31056234e-18j  3.96854450e-18+4.24301245e-18j\n",
            "  3.96854450e-18-4.24301245e-18j  5.69860720e-18+2.24933722e-18j\n",
            "  5.69860720e-18-2.24933722e-18j  5.42869456e-19+5.04850222e-18j\n",
            "  5.42869456e-19-5.04850222e-18j -5.84970459e-18+1.58076766e-18j\n",
            " -5.84970459e-18-1.58076766e-18j -4.61623931e-18+2.60977396e-18j\n",
            " -4.61623931e-18-2.60977396e-18j -6.41388773e-18+0.00000000e+00j\n",
            " -8.90452532e-19+4.35399572e-18j -8.90452532e-19-4.35399572e-18j\n",
            "  5.72210418e-18+0.00000000e+00j  6.79056186e-18+0.00000000e+00j\n",
            " -5.24486070e-18+0.00000000e+00j -3.32089270e-18+2.44792143e-18j\n",
            " -3.32089270e-18-2.44792143e-18j -1.69455955e-18+2.93029287e-18j\n",
            " -1.69455955e-18-2.93029287e-18j  5.18973940e-18+9.52062412e-19j\n",
            "  5.18973940e-18-9.52062412e-19j  3.16978745e-18+2.40110217e-18j\n",
            "  3.16978745e-18-2.40110217e-18j  3.63423962e-18+1.66076446e-18j\n",
            "  3.63423962e-18-1.66076446e-18j -3.86948791e-18+0.00000000e+00j\n",
            "  1.45940379e-18+2.84786751e-18j  1.45940379e-18-2.84786751e-18j\n",
            "  7.86617624e-19+2.29293919e-18j  7.86617624e-19-2.29293919e-18j\n",
            "  2.09107088e-18+0.00000000e+00j -2.44136130e-18+4.96699962e-19j\n",
            " -2.44136130e-18-4.96699962e-19j -4.45054406e-19+1.99409969e-18j\n",
            " -4.45054406e-19-1.99409969e-18j -4.76947053e-20+1.90204448e-18j\n",
            " -4.76947053e-20-1.90204448e-18j  1.14085704e-18+0.00000000e+00j\n",
            "  6.47533156e-19+8.67823467e-19j  6.47533156e-19-8.67823467e-19j\n",
            " -1.42539551e-18+0.00000000e+00j -8.43213314e-19+0.00000000e+00j]\n",
            "[ 13  12  15  14  19  18  31  30  11  10  46  45  44  43  61  60  59  63\n",
            "  62  76  65  64  35  34  67  66  98  97  78  77 102 101 100  99 115 114\n",
            "  80  79  69  68 117 116 135 134  94  93 131 130 138  52  51 155 154 133\n",
            " 132 151 150 157 156 183 182 185 184 169 168 187 186  75  74 153 152 129\n",
            " 128  96  95  25  24 222 228 227 193 192 229 224 223 209 208 140 139 191\n",
            " 190 181 180 242 241 231 230 207 206  73  72 240 239 267 171 170 264 263\n",
            " 203 202 272 179 178 266 265 235 234 221 220 283 244 243 274 273 108 107\n",
            " 201 200 290 289 256 255 276 275 149 148 298 269 268 299 173 172 292 291\n",
            " 205 204 294 293 246 245 262 261 297 296 287 286 295 285 284 288 199 198\n",
            " 226 225 280 279 238 237 282 281 254 253 258 257 127 126 278 277 167 166\n",
            " 260 259 270 211 210 271 252 251 233 232 217 216 125 124  17  16 250 249\n",
            " 159 158  71  70 248 247 219 218 236 142 141  33  32 215 214 177 176 195\n",
            " 194 197 196 213 212 161 160 189 188 123 122 175 174 145 144 111 110 163\n",
            " 162  82  81 165 164 119 118  92  91 147 146 143 137 136 121 120 113 112\n",
            "  89  88 104 103  87  86 106 105 109  29  28  48  47  90  85  84  83  50\n",
            "  49  58  57  56  55  54  53  40  39  42  41  38  37  36  21  20  27  26\n",
            "  23  22   9   8   7   6   5   4   3   2   1   0]\n"
          ],
          "name": "stdout"
        },
        {
          "output_type": "execute_result",
          "data": {
            "text/plain": [
              "array([[ 2.07403082+0.j, -0.22656516+0.j],\n",
              "       [ 1.84412359+0.j, -0.0385692 +0.j],\n",
              "       [-1.01973045+0.j, -1.26888135+0.j],\n",
              "       [-1.1757872 +0.j, -1.76076428+0.j],\n",
              "       [-0.6017798 +0.j,  1.09324112+0.j],\n",
              "       [-0.85581146+0.j,  1.29616203+0.j],\n",
              "       [-0.99052561+0.j,  1.6122219 +0.j],\n",
              "       [-0.31802038+0.j,  0.41533402+0.j],\n",
              "       [-0.21069346+0.j,  0.57592554+0.j],\n",
              "       [ 2.31358423+0.j, -0.29783528+0.j],\n",
              "       [-1.05939028+0.j, -1.40026933+0.j]])"
            ]
          },
          "metadata": {
            "tags": []
          },
          "execution_count": 201
        }
      ]
    },
    {
      "cell_type": "code",
      "metadata": {
        "colab": {
          "base_uri": "https://localhost:8080/",
          "height": 507
        },
        "id": "jY5i2wTUPEXc",
        "outputId": "2d566e17-1a83-41da-fa77-892273bfb773"
      },
      "source": [
        "plt.scatter(result[:, 0], result[:, 1])\n",
        "for i, word in enumerate(words):\n",
        "    plt.annotate(word, xy=(result[i, 0] - 0.05, result[i, 1] + 0.1))\n",
        "plt.show()"
      ],
      "execution_count": 202,
      "outputs": [
        {
          "output_type": "stream",
          "text": [
            "/usr/local/lib/python3.6/dist-packages/numpy/core/_asarray.py:136: ComplexWarning: Casting complex values to real discards the imaginary part\n",
            "  return array(a, dtype, copy=False, order=order, subok=True)\n",
            "/usr/local/lib/python3.6/dist-packages/matplotlib/text.py:1769: ComplexWarning: Casting complex values to real discards the imaginary part\n",
            "  x = float(self.convert_xunits(x))\n",
            "/usr/local/lib/python3.6/dist-packages/matplotlib/text.py:1771: ComplexWarning: Casting complex values to real discards the imaginary part\n",
            "  y = float(self.convert_yunits(y))\n",
            "/usr/local/lib/python3.6/dist-packages/matplotlib/text.py:828: ComplexWarning: Casting complex values to real discards the imaginary part\n",
            "  x = float(self.convert_xunits(self._x))\n",
            "/usr/local/lib/python3.6/dist-packages/matplotlib/text.py:829: ComplexWarning: Casting complex values to real discards the imaginary part\n",
            "  y = float(self.convert_yunits(self._y))\n",
            "/usr/local/lib/python3.6/dist-packages/matplotlib/text.py:690: ComplexWarning: Casting complex values to real discards the imaginary part\n",
            "  posx = float(textobj.convert_xunits(textobj._x))\n",
            "/usr/local/lib/python3.6/dist-packages/matplotlib/text.py:691: ComplexWarning: Casting complex values to real discards the imaginary part\n",
            "  posy = float(textobj.convert_yunits(textobj._y))\n"
          ],
          "name": "stderr"
        },
        {
          "output_type": "display_data",
          "data": {
            "image/png": "[encoded data removed]",
            "text/plain": [
              "<Figure size 432x288 with 1 Axes>"
            ]
          },
          "metadata": {
            "tags": [],
            "needs_background": "light"
          }
        }
      ]
    },
    {
      "cell_type": "code",
      "metadata": {
        "colab": {
          "base_uri": "https://localhost:8080/"
        },
        "id": "jNXSS-O6M4yn",
        "outputId": "e269f423-503f-4a74-b04e-bf7ba6671fc0"
      },
      "source": [
        "np.random.seed(125555)\n",
        "X = np.random.rand(11, 300)\n",
        "n_components=2\n",
        "\n",
        "X_demeaned = X - np.mean(X, axis=0)\n",
        "\n",
        "# calculate the covariance matrix\n",
        "covariance_matrix = np.cov(X_demeaned, rowvar=False)\n",
        "\n",
        "# calculate eigenvectors & eigenvalues of the covariance matrix\n",
        "eigen_vals, eigen_vecs = np.linalg.eigh(covariance_matrix)\n",
        "print(eigen_vals)\n",
        "# sort eigenvalue in increasing order (get the indices from the sort)\n",
        "idx_sorted = np.argsort(eigen_vals)\n",
        "print(idx_sorted)\n",
        "\n",
        "# reverse the order so that it's from highest to lowest.\n",
        "idx_sorted_decreasing = idx_sorted[::-1]\n",
        "print(idx_sorted_decreasing)\n",
        "\n",
        "# sort the eigen values by idx_sorted_decreasing\n",
        "eigen_vals_sorted = eigen_vals[idx_sorted_decreasing] \n",
        "print(eigen_vals_sorted)\n",
        "\n",
        "# sort eigenvectors using the idx_sorted_decreasing indices\n",
        "eigen_vecs_sorted = eigen_vecs[:,idx_sorted_decreasing] \n",
        "# print(eigen_vecs_sorted)\n",
        "\n",
        "# select the first n eigenvectors (n is desired dimension\n",
        "# of rescaled data array, or dims_rescaled_data)\n",
        "eigen_vecs_subset = eigen_vecs[:,:n_components] \n",
        "print(eigen_vecs_subset)\n",
        "\n",
        "# transform the data by multiplying the transpose of the eigenvectors \n",
        "# with the transpose of the de-meaned data\n",
        "# Then take the transpose of that product.\n",
        "X_reduced = np.dot(eigen_vecs_subset.T, X_demeaned.T).T\n",
        "X_reduced"
      ],
      "execution_count": 191,
      "outputs": [
        {
          "output_type": "stream",
          "text": [
            "[-1.70018151e-15 -1.40496086e-15 -1.15045052e-15 -1.06095175e-15\n",
            " -1.03254944e-15 -8.95636519e-16 -7.67803411e-16 -7.59489894e-16\n",
            " -6.58354566e-16 -5.93040148e-16 -5.79308372e-16 -5.15734577e-16\n",
            " -4.60922118e-16 -4.18864242e-16 -4.09312081e-16 -3.98507584e-16\n",
            " -3.71358314e-16 -3.43631792e-16 -3.30130404e-16 -3.17034551e-16\n",
            " -2.88447976e-16 -2.81320420e-16 -2.73302198e-16 -2.71816769e-16\n",
            " -2.53301519e-16 -2.44919813e-16 -2.18315764e-16 -2.12077583e-16\n",
            " -2.06384041e-16 -2.00382671e-16 -1.85303229e-16 -1.74889560e-16\n",
            " -1.72216993e-16 -1.70407159e-16 -1.64376804e-16 -1.55154366e-16\n",
            " -1.49801535e-16 -1.47530597e-16 -1.47342070e-16 -1.45171183e-16\n",
            " -1.44971497e-16 -1.43723581e-16 -1.42847858e-16 -1.38102392e-16\n",
            " -1.33146460e-16 -1.31841325e-16 -1.30480387e-16 -1.27551849e-16\n",
            " -1.26738183e-16 -1.25822948e-16 -1.20920606e-16 -1.20740696e-16\n",
            " -1.17374510e-16 -1.15716600e-16 -1.13769604e-16 -1.13738063e-16\n",
            " -1.11360059e-16 -1.11160834e-16 -1.09025411e-16 -1.08923016e-16\n",
            " -1.08170690e-16 -1.04934714e-16 -1.04060995e-16 -1.02214227e-16\n",
            " -9.91720005e-17 -9.90984976e-17 -9.71374568e-17 -9.32862601e-17\n",
            " -9.29219331e-17 -9.05647743e-17 -9.03368349e-17 -8.99670849e-17\n",
            " -8.81224039e-17 -8.64379594e-17 -8.45561433e-17 -8.35921886e-17\n",
            " -8.35676998e-17 -8.12895927e-17 -8.02125406e-17 -7.85891383e-17\n",
            " -7.81081227e-17 -7.80840928e-17 -7.73991042e-17 -7.59528961e-17\n",
            " -7.39379156e-17 -7.38579464e-17 -7.13250779e-17 -6.99859103e-17\n",
            " -6.87590079e-17 -6.72344969e-17 -6.63994938e-17 -6.59682595e-17\n",
            " -6.35882231e-17 -6.23007627e-17 -6.13794625e-17 -6.13457062e-17\n",
            " -6.04813609e-17 -5.80879146e-17 -5.56471080e-17 -5.53950962e-17\n",
            " -5.45492166e-17 -5.32320162e-17 -5.28103225e-17 -5.27808211e-17\n",
            " -4.97084792e-17 -4.91665203e-17 -4.85680243e-17 -4.65510981e-17\n",
            " -4.58467871e-17 -4.45290990e-17 -4.27187223e-17 -4.04483177e-17\n",
            " -3.98530579e-17 -3.92469987e-17 -3.81605383e-17 -3.64877535e-17\n",
            " -3.64567097e-17 -3.62285557e-17 -3.58002357e-17 -3.49202187e-17\n",
            " -3.42008272e-17 -3.28810284e-17 -3.23381664e-17 -3.22019106e-17\n",
            " -2.80431567e-17 -2.64551136e-17 -2.59934735e-17 -2.56460672e-17\n",
            " -2.56446639e-17 -2.52331867e-17 -2.25416311e-17 -2.07703778e-17\n",
            " -1.98310892e-17 -1.94720734e-17 -1.90298528e-17 -1.89701292e-17\n",
            " -1.70606976e-17 -1.50057506e-17 -1.42674540e-17 -1.40754809e-17\n",
            " -1.35410853e-17 -1.18813730e-17 -1.12310255e-17 -1.10675627e-17\n",
            " -1.03744490e-17 -9.93920256e-18 -8.86073520e-18 -7.37092985e-18\n",
            " -6.76421015e-18 -4.16784908e-18 -3.28060345e-18 -3.03654340e-18\n",
            " -1.60579623e-18  2.10674092e-18  2.12126623e-18  3.36918136e-18\n",
            "  3.78539680e-18  4.37554838e-18  6.24758417e-18  6.43039028e-18\n",
            "  7.11975260e-18  7.25243843e-18  7.44694493e-18  1.02521254e-17\n",
            "  1.04838639e-17  1.12103574e-17  1.33284342e-17  1.33675447e-17\n",
            "  1.49519643e-17  1.76640510e-17  1.88576517e-17  1.90516821e-17\n",
            "  1.97827634e-17  2.06490258e-17  2.20364453e-17  2.28768617e-17\n",
            "  2.33443244e-17  2.35772785e-17  2.38876177e-17  2.52409138e-17\n",
            "  2.57759785e-17  2.63932136e-17  2.72237022e-17  2.80254534e-17\n",
            "  2.93913251e-17  3.36057374e-17  3.45119570e-17  3.54481644e-17\n",
            "  3.59909379e-17  3.69608328e-17  3.85783155e-17  3.88519499e-17\n",
            "  4.02597644e-17  4.20705105e-17  4.21522208e-17  4.32341755e-17\n",
            "  4.55956336e-17  4.64079741e-17  4.65014016e-17  4.69479327e-17\n",
            "  4.81976987e-17  4.86056863e-17  4.98754735e-17  5.18250697e-17\n",
            "  5.57676634e-17  5.58480007e-17  5.76708662e-17  5.92451287e-17\n",
            "  5.95284302e-17  6.04968709e-17  6.18782387e-17  6.25002793e-17\n",
            "  6.29978498e-17  6.63476815e-17  6.76179325e-17  7.01293034e-17\n",
            "  7.15928968e-17  7.17331801e-17  7.23639257e-17  7.23711957e-17\n",
            "  7.26369103e-17  7.42469317e-17  7.78061081e-17  7.82620389e-17\n",
            "  7.95955568e-17  8.12898515e-17  8.14340793e-17  8.85506032e-17\n",
            "  8.89719726e-17  8.95046848e-17  8.99810930e-17  9.38452145e-17\n",
            "  9.50536146e-17  9.52434101e-17  9.60799444e-17  9.77382918e-17\n",
            "  9.87025950e-17  1.00378163e-16  1.01035190e-16  1.01175682e-16\n",
            "  1.02343593e-16  1.06199355e-16  1.06294860e-16  1.07590074e-16\n",
            "  1.13770587e-16  1.14163729e-16  1.14606810e-16  1.21704447e-16\n",
            "  1.25577990e-16  1.26980821e-16  1.27621851e-16  1.30551384e-16\n",
            "  1.34260325e-16  1.35516813e-16  1.35987593e-16  1.38001015e-16\n",
            "  1.39994945e-16  1.45635537e-16  1.49525639e-16  1.57051814e-16\n",
            "  1.66172160e-16  1.71708682e-16  1.78603898e-16  1.98180863e-16\n",
            "  1.99020325e-16  2.18344188e-16  2.36422621e-16  2.36447643e-16\n",
            "  2.62035438e-16  2.78674121e-16  2.86651094e-16  3.08848635e-16\n",
            "  3.32268217e-16  3.59287573e-16  3.75651909e-16  3.89019721e-16\n",
            "  4.08743632e-16  4.46656904e-16  5.07548337e-16  5.20000115e-16\n",
            "  5.24114950e-16  5.72109621e-16  6.80074205e-16  7.19886542e-16\n",
            "  8.29429562e-16  9.81924705e-16  1.05246541e-15  1.09096000e-15\n",
            "  1.19789039e-15  1.42286121e-15  1.70621915e+00  2.05052175e+00\n",
            "  2.11012442e+00  2.18015723e+00  2.40855521e+00  2.67933127e+00\n",
            "  2.70376557e+00  2.83458504e+00  3.12029453e+00  3.41996526e+00]\n",
            "[  0   1   2   3   4   5   6   7   8   9  10  11  12  13  14  15  16  17\n",
            "  18  19  20  21  22  23  24  25  26  27  28  29  30  31  32  33  34  35\n",
            "  36  37  38  39  40  41  42  43  44  45  46  47  48  49  50  51  52  53\n",
            "  54  55  56  57  58  59  60  61  62  63  64  65  66  67  68  69  70  71\n",
            "  72  73  74  75  76  77  78  79  80  81  82  83  84  85  86  87  88  89\n",
            "  90  91  92  93  94  95  96  97  98  99 100 101 102 103 104 105 106 107\n",
            " 108 109 110 111 112 113 114 115 116 117 118 119 120 121 122 123 124 125\n",
            " 126 127 128 129 130 131 132 133 134 135 136 137 138 139 140 141 142 143\n",
            " 144 145 146 147 148 149 150 151 152 153 154 155 156 157 158 159 160 161\n",
            " 162 163 164 165 166 167 168 169 170 171 172 173 174 175 176 177 178 179\n",
            " 180 181 182 183 184 185 186 187 188 189 190 191 192 193 194 195 196 197\n",
            " 198 199 200 201 202 203 204 205 206 207 208 209 210 211 212 213 214 215\n",
            " 216 217 218 219 220 221 222 223 224 225 226 227 228 229 230 231 232 233\n",
            " 234 235 236 237 238 239 240 241 242 243 244 245 246 247 248 249 250 251\n",
            " 252 253 254 255 256 257 258 259 260 261 262 263 264 265 266 267 268 269\n",
            " 270 271 272 273 274 275 276 277 278 279 280 281 282 283 284 285 286 287\n",
            " 288 289 290 291 292 293 294 295 296 297 298 299]\n",
            "[299 298 297 296 295 294 293 292 291 290 289 288 287 286 285 284 283 282\n",
            " 281 280 279 278 277 276 275 274 273 272 271 270 269 268 267 266 265 264\n",
            " 263 262 261 260 259 258 257 256 255 254 253 252 251 250 249 248 247 246\n",
            " 245 244 243 242 241 240 239 238 237 236 235 234 233 232 231 230 229 228\n",
            " 227 226 225 224 223 222 221 220 219 218 217 216 215 214 213 212 211 210\n",
            " 209 208 207 206 205 204 203 202 201 200 199 198 197 196 195 194 193 192\n",
            " 191 190 189 188 187 186 185 184 183 182 181 180 179 178 177 176 175 174\n",
            " 173 172 171 170 169 168 167 166 165 164 163 162 161 160 159 158 157 156\n",
            " 155 154 153 152 151 150 149 148 147 146 145 144 143 142 141 140 139 138\n",
            " 137 136 135 134 133 132 131 130 129 128 127 126 125 124 123 122 121 120\n",
            " 119 118 117 116 115 114 113 112 111 110 109 108 107 106 105 104 103 102\n",
            " 101 100  99  98  97  96  95  94  93  92  91  90  89  88  87  86  85  84\n",
            "  83  82  81  80  79  78  77  76  75  74  73  72  71  70  69  68  67  66\n",
            "  65  64  63  62  61  60  59  58  57  56  55  54  53  52  51  50  49  48\n",
            "  47  46  45  44  43  42  41  40  39  38  37  36  35  34  33  32  31  30\n",
            "  29  28  27  26  25  24  23  22  21  20  19  18  17  16  15  14  13  12\n",
            "  11  10   9   8   7   6   5   4   3   2   1   0]\n",
            "[ 3.41996526e+00  3.12029453e+00  2.83458504e+00  2.70376557e+00\n",
            "  2.67933127e+00  2.40855521e+00  2.18015723e+00  2.11012442e+00\n",
            "  2.05052175e+00  1.70621915e+00  1.42286121e-15  1.19789039e-15\n",
            "  1.09096000e-15  1.05246541e-15  9.81924705e-16  8.29429562e-16\n",
            "  7.19886542e-16  6.80074205e-16  5.72109621e-16  5.24114950e-16\n",
            "  5.20000115e-16  5.07548337e-16  4.46656904e-16  4.08743632e-16\n",
            "  3.89019721e-16  3.75651909e-16  3.59287573e-16  3.32268217e-16\n",
            "  3.08848635e-16  2.86651094e-16  2.78674121e-16  2.62035438e-16\n",
            "  2.36447643e-16  2.36422621e-16  2.18344188e-16  1.99020325e-16\n",
            "  1.98180863e-16  1.78603898e-16  1.71708682e-16  1.66172160e-16\n",
            "  1.57051814e-16  1.49525639e-16  1.45635537e-16  1.39994945e-16\n",
            "  1.38001015e-16  1.35987593e-16  1.35516813e-16  1.34260325e-16\n",
            "  1.30551384e-16  1.27621851e-16  1.26980821e-16  1.25577990e-16\n",
            "  1.21704447e-16  1.14606810e-16  1.14163729e-16  1.13770587e-16\n",
            "  1.07590074e-16  1.06294860e-16  1.06199355e-16  1.02343593e-16\n",
            "  1.01175682e-16  1.01035190e-16  1.00378163e-16  9.87025950e-17\n",
            "  9.77382918e-17  9.60799444e-17  9.52434101e-17  9.50536146e-17\n",
            "  9.38452145e-17  8.99810930e-17  8.95046848e-17  8.89719726e-17\n",
            "  8.85506032e-17  8.14340793e-17  8.12898515e-17  7.95955568e-17\n",
            "  7.82620389e-17  7.78061081e-17  7.42469317e-17  7.26369103e-17\n",
            "  7.23711957e-17  7.23639257e-17  7.17331801e-17  7.15928968e-17\n",
            "  7.01293034e-17  6.76179325e-17  6.63476815e-17  6.29978498e-17\n",
            "  6.25002793e-17  6.18782387e-17  6.04968709e-17  5.95284302e-17\n",
            "  5.92451287e-17  5.76708662e-17  5.58480007e-17  5.57676634e-17\n",
            "  5.18250697e-17  4.98754735e-17  4.86056863e-17  4.81976987e-17\n",
            "  4.69479327e-17  4.65014016e-17  4.64079741e-17  4.55956336e-17\n",
            "  4.32341755e-17  4.21522208e-17  4.20705105e-17  4.02597644e-17\n",
            "  3.88519499e-17  3.85783155e-17  3.69608328e-17  3.59909379e-17\n",
            "  3.54481644e-17  3.45119570e-17  3.36057374e-17  2.93913251e-17\n",
            "  2.80254534e-17  2.72237022e-17  2.63932136e-17  2.57759785e-17\n",
            "  2.52409138e-17  2.38876177e-17  2.35772785e-17  2.33443244e-17\n",
            "  2.28768617e-17  2.20364453e-17  2.06490258e-17  1.97827634e-17\n",
            "  1.90516821e-17  1.88576517e-17  1.76640510e-17  1.49519643e-17\n",
            "  1.33675447e-17  1.33284342e-17  1.12103574e-17  1.04838639e-17\n",
            "  1.02521254e-17  7.44694493e-18  7.25243843e-18  7.11975260e-18\n",
            "  6.43039028e-18  6.24758417e-18  4.37554838e-18  3.78539680e-18\n",
            "  3.36918136e-18  2.12126623e-18  2.10674092e-18 -1.60579623e-18\n",
            " -3.03654340e-18 -3.28060345e-18 -4.16784908e-18 -6.76421015e-18\n",
            " -7.37092985e-18 -8.86073520e-18 -9.93920256e-18 -1.03744490e-17\n",
            " -1.10675627e-17 -1.12310255e-17 -1.18813730e-17 -1.35410853e-17\n",
            " -1.40754809e-17 -1.42674540e-17 -1.50057506e-17 -1.70606976e-17\n",
            " -1.89701292e-17 -1.90298528e-17 -1.94720734e-17 -1.98310892e-17\n",
            " -2.07703778e-17 -2.25416311e-17 -2.52331867e-17 -2.56446639e-17\n",
            " -2.56460672e-17 -2.59934735e-17 -2.64551136e-17 -2.80431567e-17\n",
            " -3.22019106e-17 -3.23381664e-17 -3.28810284e-17 -3.42008272e-17\n",
            " -3.49202187e-17 -3.58002357e-17 -3.62285557e-17 -3.64567097e-17\n",
            " -3.64877535e-17 -3.81605383e-17 -3.92469987e-17 -3.98530579e-17\n",
            " -4.04483177e-17 -4.27187223e-17 -4.45290990e-17 -4.58467871e-17\n",
            " -4.65510981e-17 -4.85680243e-17 -4.91665203e-17 -4.97084792e-17\n",
            " -5.27808211e-17 -5.28103225e-17 -5.32320162e-17 -5.45492166e-17\n",
            " -5.53950962e-17 -5.56471080e-17 -5.80879146e-17 -6.04813609e-17\n",
            " -6.13457062e-17 -6.13794625e-17 -6.23007627e-17 -6.35882231e-17\n",
            " -6.59682595e-17 -6.63994938e-17 -6.72344969e-17 -6.87590079e-17\n",
            " -6.99859103e-17 -7.13250779e-17 -7.38579464e-17 -7.39379156e-17\n",
            " -7.59528961e-17 -7.73991042e-17 -7.80840928e-17 -7.81081227e-17\n",
            " -7.85891383e-17 -8.02125406e-17 -8.12895927e-17 -8.35676998e-17\n",
            " -8.35921886e-17 -8.45561433e-17 -8.64379594e-17 -8.81224039e-17\n",
            " -8.99670849e-17 -9.03368349e-17 -9.05647743e-17 -9.29219331e-17\n",
            " -9.32862601e-17 -9.71374568e-17 -9.90984976e-17 -9.91720005e-17\n",
            " -1.02214227e-16 -1.04060995e-16 -1.04934714e-16 -1.08170690e-16\n",
            " -1.08923016e-16 -1.09025411e-16 -1.11160834e-16 -1.11360059e-16\n",
            " -1.13738063e-16 -1.13769604e-16 -1.15716600e-16 -1.17374510e-16\n",
            " -1.20740696e-16 -1.20920606e-16 -1.25822948e-16 -1.26738183e-16\n",
            " -1.27551849e-16 -1.30480387e-16 -1.31841325e-16 -1.33146460e-16\n",
            " -1.38102392e-16 -1.42847858e-16 -1.43723581e-16 -1.44971497e-16\n",
            " -1.45171183e-16 -1.47342070e-16 -1.47530597e-16 -1.49801535e-16\n",
            " -1.55154366e-16 -1.64376804e-16 -1.70407159e-16 -1.72216993e-16\n",
            " -1.74889560e-16 -1.85303229e-16 -2.00382671e-16 -2.06384041e-16\n",
            " -2.12077583e-16 -2.18315764e-16 -2.44919813e-16 -2.53301519e-16\n",
            " -2.71816769e-16 -2.73302198e-16 -2.81320420e-16 -2.88447976e-16\n",
            " -3.17034551e-16 -3.30130404e-16 -3.43631792e-16 -3.71358314e-16\n",
            " -3.98507584e-16 -4.09312081e-16 -4.18864242e-16 -4.60922118e-16\n",
            " -5.15734577e-16 -5.79308372e-16 -5.93040148e-16 -6.58354566e-16\n",
            " -7.59489894e-16 -7.67803411e-16 -8.95636519e-16 -1.03254944e-15\n",
            " -1.06095175e-15 -1.15045052e-15 -1.40496086e-15 -1.70018151e-15]\n",
            "[[-2.26465564e-03  0.00000000e+00]\n",
            " [ 5.31052068e-02  7.57660996e-02]\n",
            " [ 3.42082313e-01 -1.67346677e-01]\n",
            " [ 5.76600782e-02 -5.15926247e-02]\n",
            " [ 4.72133401e-02  1.29630245e-01]\n",
            " [-2.27460012e-01  4.78128939e-03]\n",
            " [ 3.78209077e-01 -4.59370241e-02]\n",
            " [-1.78780633e-01  3.98790356e-01]\n",
            " [ 7.87403963e-03 -3.07271668e-02]\n",
            " [ 7.09360065e-02  1.73915486e-01]\n",
            " [-2.45671380e-01 -4.31880399e-01]\n",
            " [-1.64069746e-01 -3.18191939e-02]\n",
            " [ 1.93340674e-01  1.05213584e-01]\n",
            " [-1.60450931e-02 -1.30260590e-01]\n",
            " [-3.43962626e-01 -3.29686548e-02]\n",
            " [-2.57247454e-01  1.37316408e-01]\n",
            " [-5.58621140e-03 -1.87726083e-01]\n",
            " [-2.86567331e-02 -2.00820735e-01]\n",
            " [-1.24259955e-02  8.11837375e-02]\n",
            " [ 6.44296759e-02 -1.75534309e-01]\n",
            " [ 2.20601735e-02  2.28028079e-02]\n",
            " [-9.85586534e-03  3.42336552e-02]\n",
            " [ 1.54420654e-02  1.70751649e-02]\n",
            " [ 1.73892336e-02  2.77985026e-02]\n",
            " [ 3.36463639e-03  1.99901252e-02]\n",
            " [ 2.29904143e-03  4.08065776e-02]\n",
            " [-4.96599378e-03 -1.23552166e-01]\n",
            " [ 9.30867590e-03 -4.52844700e-02]\n",
            " [-3.70611922e-02  3.06089840e-02]\n",
            " [ 4.10767120e-03  3.56466331e-02]\n",
            " [-2.06755060e-03 -1.05534079e-02]\n",
            " [ 6.39251960e-03 -2.34076841e-02]\n",
            " [-3.25125537e-02  4.36304833e-02]\n",
            " [ 2.50321718e-02  1.70689563e-03]\n",
            " [-1.35434508e-02 -3.61408941e-03]\n",
            " [ 2.80822494e-03 -8.76419216e-02]\n",
            " [-4.16435435e-02  7.30583228e-03]\n",
            " [-6.77631967e-03 -1.15673934e-03]\n",
            " [ 1.12840371e-02 -9.71257596e-04]\n",
            " [ 1.25026001e-02  3.21595917e-02]\n",
            " [-4.04654823e-02  7.32636133e-03]\n",
            " [-3.35837161e-02  1.56547833e-02]\n",
            " [-1.32856561e-02 -6.09859779e-02]\n",
            " [ 3.18143926e-03 -1.91773552e-02]\n",
            " [-2.72756795e-02 -7.44646567e-02]\n",
            " [-1.12393948e-02 -1.10914309e-02]\n",
            " [ 2.38107561e-02  2.15753188e-03]\n",
            " [ 3.31547794e-02 -2.93818935e-02]\n",
            " [ 5.48554741e-04 -1.29036785e-02]\n",
            " [-8.57216361e-03  2.10737694e-02]\n",
            " [ 5.27470204e-03 -5.69350832e-03]\n",
            " [ 3.57371873e-02  6.21782172e-02]\n",
            " [-5.06176140e-02 -3.66620593e-02]\n",
            " [-4.58100528e-02 -7.99576397e-02]\n",
            " [ 4.32671821e-02 -1.75341093e-02]\n",
            " [ 1.39905199e-02  1.76944789e-02]\n",
            " [-1.39651497e-02 -3.52464662e-02]\n",
            " [ 1.97748755e-03  7.08245389e-05]\n",
            " [ 1.95317248e-03 -4.68861652e-02]\n",
            " [-1.31389719e-02 -3.40982754e-02]\n",
            " [-1.98342280e-02  7.55740477e-02]\n",
            " [ 3.58621110e-02 -2.25010151e-03]\n",
            " [ 9.80314869e-03  2.49171528e-02]\n",
            " [-7.79305994e-03 -1.01954255e-02]\n",
            " [-2.84352398e-02  1.33584783e-02]\n",
            " [ 4.83892280e-02  2.97938943e-03]\n",
            " [ 1.69161783e-02  1.89189893e-02]\n",
            " [-3.88114346e-02  2.61687374e-02]\n",
            " [-5.03614635e-02  9.41626334e-02]\n",
            " [ 1.97414972e-02  3.48853926e-02]\n",
            " [ 3.93747558e-02  1.36280055e-02]\n",
            " [-2.08331080e-02  7.12554680e-02]\n",
            " [-2.48817366e-03 -7.37331374e-03]\n",
            " [-3.69448383e-03  9.52871193e-03]\n",
            " [ 7.15740986e-03 -5.66265182e-03]\n",
            " [-6.13309840e-03  1.51880419e-02]\n",
            " [-5.76136467e-03 -2.56785754e-02]\n",
            " [ 1.64144310e-02  3.93180487e-02]\n",
            " [ 3.50282634e-03 -1.25739976e-02]\n",
            " [ 1.87263153e-02  3.98206319e-02]\n",
            " [-2.18186971e-02 -3.53517098e-02]\n",
            " [ 1.98978446e-02  2.25166785e-02]\n",
            " [ 2.68517949e-02 -3.79659505e-02]\n",
            " [-4.26847184e-03  3.49950894e-02]\n",
            " [-8.29388079e-03  3.65737674e-03]\n",
            " [ 2.11904577e-02  5.42119514e-03]\n",
            " [ 6.86093879e-03 -6.01333519e-02]\n",
            " [-3.87441096e-03 -2.33022862e-03]\n",
            " [-4.29088792e-02 -3.52998684e-02]\n",
            " [ 1.00239389e-02 -5.30760427e-02]\n",
            " [-1.25220123e-02 -9.77908740e-02]\n",
            " [ 1.35322522e-02  6.07824578e-02]\n",
            " [-5.06070022e-03 -4.15257084e-02]\n",
            " [-1.46395213e-02 -3.88954333e-02]\n",
            " [ 1.84772188e-02  1.62380804e-02]\n",
            " [ 2.24778511e-02  3.35463361e-02]\n",
            " [-4.03957235e-02  2.32468174e-03]\n",
            " [-5.07387158e-02 -5.41699247e-02]\n",
            " [ 3.27720388e-02  3.33294885e-02]\n",
            " [-7.71279144e-02 -5.28551748e-02]\n",
            " [-2.15323356e-02  6.88312088e-03]\n",
            " [-1.07197132e-04 -5.08436257e-02]\n",
            " [ 5.89387122e-03  5.92328789e-03]\n",
            " [-8.96871757e-02  1.66587466e-02]\n",
            " [-3.22464679e-02 -7.04220143e-02]\n",
            " [ 1.06030086e-02 -4.44183174e-02]\n",
            " [-3.00362007e-02 -2.79526645e-02]\n",
            " [ 1.86260913e-02  7.06297059e-02]\n",
            " [-4.34232190e-02  3.78998425e-02]\n",
            " [ 9.77740431e-03  3.50219072e-02]\n",
            " [ 6.13535332e-03 -1.77627773e-02]\n",
            " [-5.86286791e-03  2.44157336e-02]\n",
            " [-7.95676809e-02 -2.54873104e-02]\n",
            " [-4.55813841e-02 -1.39066671e-02]\n",
            " [-4.98115259e-02 -1.49131594e-02]\n",
            " [ 2.60405398e-02  4.52076262e-02]\n",
            " [-2.25718526e-02 -5.66305019e-02]\n",
            " [-4.24355689e-02 -6.69612586e-02]\n",
            " [-3.07955287e-02 -5.38210018e-02]\n",
            " [-4.07085027e-02  1.67555318e-03]\n",
            " [ 9.89350047e-03  4.83549501e-02]\n",
            " [ 8.83383148e-03  2.00900029e-02]\n",
            " [ 4.98213565e-02 -1.85944711e-02]\n",
            " [ 5.34410629e-03  5.78952565e-03]\n",
            " [ 3.84242665e-02 -1.28164630e-02]\n",
            " [ 2.76468686e-02  4.65444596e-02]\n",
            " [ 1.25563944e-02 -1.70297534e-02]\n",
            " [ 3.37733765e-03  5.45810296e-03]\n",
            " [ 3.41423563e-02  1.20148051e-02]\n",
            " [ 4.17648522e-02 -1.44827366e-02]\n",
            " [-2.55590020e-02 -2.62068054e-03]\n",
            " [-7.87189923e-02  4.10873422e-03]\n",
            " [ 6.18839448e-02 -1.16305590e-02]\n",
            " [ 2.73085869e-03  4.28322955e-02]\n",
            " [ 5.51775998e-02  7.97943020e-03]\n",
            " [ 3.44725437e-03  1.55987050e-02]\n",
            " [-2.75374959e-02  4.68283608e-03]\n",
            " [-3.58226755e-02 -1.10457052e-02]\n",
            " [-8.11347680e-03 -9.11506933e-03]\n",
            " [-2.88427671e-02  5.88979004e-02]\n",
            " [-5.51391028e-03 -1.88844183e-02]\n",
            " [-1.74760571e-02 -5.31144933e-03]\n",
            " [-6.63394563e-02  5.98461222e-02]\n",
            " [ 3.43820751e-02  4.96770683e-02]\n",
            " [-2.23052012e-02  1.06136701e-02]\n",
            " [-1.64703644e-03  3.07145508e-02]\n",
            " [-6.07786590e-02 -1.05260227e-02]\n",
            " [ 1.48438420e-02  1.00318964e-01]\n",
            " [-5.34693118e-03  7.25634035e-02]\n",
            " [ 2.00478844e-04 -1.06814755e-02]\n",
            " [ 1.57011144e-02 -3.26035503e-02]\n",
            " [ 1.31369847e-02 -5.61443773e-02]\n",
            " [-9.02421245e-04  1.37570965e-02]\n",
            " [ 3.43353430e-02 -2.96392570e-02]\n",
            " [-3.02280151e-02 -1.37476723e-02]\n",
            " [-1.87674138e-03 -2.56448606e-02]\n",
            " [-6.19620070e-03  4.69259016e-03]\n",
            " [-1.09070027e-01  7.41697940e-03]\n",
            " [ 2.10748230e-02 -5.26703134e-02]\n",
            " [-3.17981078e-03 -1.52394350e-02]\n",
            " [-9.79362453e-03 -3.07032234e-02]\n",
            " [-1.86443412e-02 -3.74524449e-02]\n",
            " [-7.62420329e-03  3.06592324e-02]\n",
            " [-3.82571706e-02 -4.12546030e-02]\n",
            " [ 1.58201968e-02  1.98004487e-02]\n",
            " [-2.50348229e-02 -1.20111882e-03]\n",
            " [ 2.64763602e-04  1.41660003e-02]\n",
            " [-9.40556899e-03 -2.01956573e-02]\n",
            " [-1.24078337e-02 -9.00298071e-03]\n",
            " [-5.28583423e-03  1.78016426e-02]\n",
            " [-6.26723728e-02  6.59008653e-02]\n",
            " [-1.35433928e-02 -2.58712161e-02]\n",
            " [ 2.73677811e-02 -4.89852955e-02]\n",
            " [-6.31814204e-03  7.71522319e-04]\n",
            " [-5.33894663e-02 -6.86628969e-02]\n",
            " [-5.84611553e-02  3.73276921e-02]\n",
            " [ 6.44879832e-02  3.65274036e-02]\n",
            " [-3.35366366e-02  4.72931174e-02]\n",
            " [ 2.32353702e-02 -3.53566919e-02]\n",
            " [ 2.62001053e-02 -5.53567132e-02]\n",
            " [-9.37730153e-04 -2.17132124e-02]\n",
            " [ 3.04134469e-02 -5.23505068e-02]\n",
            " [ 1.96077438e-02  7.57932810e-03]\n",
            " [ 1.61976100e-02 -9.44766915e-03]\n",
            " [-2.99666957e-02  2.28618841e-02]\n",
            " [ 1.20482064e-02  2.30494687e-03]\n",
            " [ 2.25260679e-02 -3.38305274e-02]\n",
            " [-4.95018722e-02  4.69924068e-02]\n",
            " [-2.28728401e-02 -3.21936113e-02]\n",
            " [-1.96281951e-02 -3.41169336e-02]\n",
            " [-1.46077305e-02 -3.26204737e-02]\n",
            " [-4.56647453e-02 -1.22801858e-02]\n",
            " [ 3.14718902e-02 -1.48777046e-02]\n",
            " [ 3.24798510e-02  8.09430064e-02]\n",
            " [ 5.95949022e-02  3.89568121e-02]\n",
            " [ 5.05900001e-02  3.25876111e-02]\n",
            " [-4.13566726e-02  5.14421502e-02]\n",
            " [ 3.95724801e-02 -6.35160641e-04]\n",
            " [-9.61347394e-03  5.46673623e-03]\n",
            " [ 2.93400807e-02 -3.88095193e-02]\n",
            " [-2.53190775e-02  3.40074494e-02]\n",
            " [-1.90414872e-02  4.22972556e-03]\n",
            " [-3.31048197e-02 -1.42129702e-02]\n",
            " [ 4.32952122e-02  3.38254666e-02]\n",
            " [-2.97842426e-02  6.70902691e-03]\n",
            " [-5.21845274e-03  3.18101982e-02]\n",
            " [ 3.12383335e-02  1.36717786e-03]\n",
            " [ 3.03385568e-02 -6.19726642e-02]\n",
            " [-5.02454385e-02  3.68695232e-02]\n",
            " [ 2.46829786e-02  7.98100182e-03]\n",
            " [-1.63078287e-02  7.25592954e-03]\n",
            " [-1.06834472e-02  3.03317845e-02]\n",
            " [-3.17508122e-02  6.55296812e-03]\n",
            " [-5.04066457e-02 -2.28026251e-02]\n",
            " [ 5.77268599e-02  9.61943714e-03]\n",
            " [-2.26443519e-02 -8.91230398e-02]\n",
            " [-1.39988024e-02 -3.40310925e-02]\n",
            " [ 2.57418956e-02 -2.18238923e-02]\n",
            " [ 3.23527874e-02  1.03346788e-02]\n",
            " [-1.02773948e-01 -2.74555729e-02]\n",
            " [ 1.10788401e-02 -1.02190747e-02]\n",
            " [ 1.48919587e-02 -3.03573951e-03]\n",
            " [ 1.43785503e-02 -3.24306386e-03]\n",
            " [ 1.15023748e-02  4.49488256e-02]\n",
            " [ 2.29937356e-02  1.36174766e-02]\n",
            " [-1.37950176e-02 -7.85934875e-02]\n",
            " [-8.67366442e-04 -3.43222189e-02]\n",
            " [ 7.35899854e-02  4.35828218e-02]\n",
            " [ 8.71663771e-03  6.22866291e-02]\n",
            " [ 1.84435348e-02 -2.24121661e-02]\n",
            " [-2.01993402e-02  5.09117667e-02]\n",
            " [-3.44728563e-02 -9.49642498e-03]\n",
            " [ 1.70888759e-05  5.03486077e-02]\n",
            " [ 3.60227824e-03 -1.45099584e-02]\n",
            " [-4.25115695e-02  1.55630975e-02]\n",
            " [ 8.41879838e-02  1.75623702e-02]\n",
            " [ 3.96054198e-02 -5.15197437e-02]\n",
            " [-2.96952023e-03  8.24386974e-03]\n",
            " [ 2.84344143e-02 -5.13280971e-02]\n",
            " [ 2.31028197e-03  2.46234610e-02]\n",
            " [ 4.40981731e-02 -6.12125812e-03]\n",
            " [ 1.05133779e-02  5.96401125e-03]\n",
            " [-4.51635980e-03  4.18993672e-02]\n",
            " [ 5.26221191e-02  1.13910696e-01]\n",
            " [-4.68579032e-03 -2.86855647e-02]\n",
            " [ 5.76615239e-02  9.67889829e-02]\n",
            " [ 8.42685963e-04 -3.57554014e-02]\n",
            " [ 3.11876243e-02  5.30140494e-02]\n",
            " [ 9.44504221e-03  2.14458967e-02]\n",
            " [-2.45776933e-02  3.11950367e-02]\n",
            " [-8.73095212e-02  2.70047645e-02]\n",
            " [-4.04659646e-02 -1.17730033e-02]\n",
            " [-3.16315783e-03 -3.76291238e-02]\n",
            " [-1.99232959e-02  2.29142536e-02]\n",
            " [ 7.22481398e-02  6.86551254e-03]\n",
            " [ 3.27818067e-02 -2.75483626e-03]\n",
            " [-2.10667130e-02 -1.64339788e-02]\n",
            " [-4.05261648e-02 -9.64281982e-02]\n",
            " [ 1.31488783e-02 -1.79606523e-02]\n",
            " [ 4.71121829e-02 -7.57178039e-02]\n",
            " [ 1.19927338e-02 -8.86498647e-03]\n",
            " [-3.49622163e-02  1.13950292e-02]\n",
            " [ 3.00403158e-02 -1.39566036e-02]\n",
            " [ 1.01343007e-02 -2.40190716e-03]\n",
            " [-2.00992447e-02  3.88502184e-02]\n",
            " [ 7.94104462e-02 -4.19646782e-02]\n",
            " [ 2.74538611e-02 -9.04103835e-03]\n",
            " [ 4.20039325e-02  7.99472513e-02]\n",
            " [ 2.90622860e-02  2.61504995e-02]\n",
            " [-4.90882314e-02 -7.85812249e-02]\n",
            " [-8.32471166e-03 -6.11082884e-02]\n",
            " [ 8.45297202e-03  2.69140199e-02]\n",
            " [ 4.80701579e-02 -2.91483643e-02]\n",
            " [-4.67994517e-02  3.58590821e-02]\n",
            " [ 1.14075111e-03  9.63140033e-03]\n",
            " [ 9.44721601e-03 -4.95594191e-02]\n",
            " [ 3.23635975e-02  5.95922550e-03]\n",
            " [ 4.39810325e-02  1.01476682e-02]\n",
            " [-5.14261677e-02 -4.34497608e-02]\n",
            " [-4.43679228e-02  3.31758824e-03]\n",
            " [ 1.84031221e-02 -4.04541689e-03]\n",
            " [ 2.81696893e-02 -5.68691377e-02]\n",
            " [ 1.54349151e-02  2.52943355e-02]\n",
            " [ 1.66596048e-02 -1.87798890e-02]\n",
            " [ 7.95404921e-02  2.01359843e-02]\n",
            " [ 1.66638333e-02  3.72692770e-02]\n",
            " [-1.88261127e-02  4.03848445e-03]\n",
            " [-5.03307203e-04 -1.66635822e-02]\n",
            " [-3.12775940e-02  6.05222044e-02]\n",
            " [-2.16346451e-02 -2.47183047e-03]\n",
            " [ 1.36321095e-01 -3.08748558e-02]\n",
            " [-2.65411731e-02  1.88407271e-02]\n",
            " [-5.02792008e-03 -3.50855575e-03]\n",
            " [-2.70826338e-02 -4.30611454e-02]\n",
            " [ 7.37186494e-03  3.62692712e-04]\n",
            " [-7.81561772e-02  2.48881113e-03]\n",
            " [-4.70830198e-02  4.49066002e-02]\n",
            " [-9.48801997e-02  4.50512614e-02]\n",
            " [ 1.70285805e-02  5.44345178e-02]\n",
            " [-3.77098412e-02  4.59976192e-02]]\n"
          ],
          "name": "stdout"
        },
        {
          "output_type": "execute_result",
          "data": {
            "text/plain": [
              "array([[ 1.11022302e-16, -2.91433544e-16],\n",
              "       [-1.42941214e-15, -1.02695630e-15],\n",
              "       [ 3.40005801e-16,  8.60422844e-16],\n",
              "       [ 2.84494650e-16,  6.93889390e-16],\n",
              "       [ 5.55111512e-17,  4.94396191e-17],\n",
              "       [ 1.66533454e-16,  4.96130914e-16],\n",
              "       [-9.36750677e-17, -9.71445147e-17],\n",
              "       [-6.93889390e-17, -3.74700271e-16],\n",
              "       [ 1.59594560e-16,  7.49400542e-16],\n",
              "       [-3.33066907e-16, -6.24500451e-16],\n",
              "       [ 3.01841885e-16,  2.77555756e-17]])"
            ]
          },
          "metadata": {
            "tags": []
          },
          "execution_count": 191
        }
      ]
    },
    {
      "cell_type": "code",
      "metadata": {
        "colab": {
          "base_uri": "https://localhost:8080/"
        },
        "id": "lOwhy63IORl4",
        "outputId": "301f801f-9385-4eb9-94f2-a5e551bcf351"
      },
      "source": [
        "eigen_vecs.shape\n",
        "print(eigen_vecs_subset.shape)"
      ],
      "execution_count": 192,
      "outputs": [
        {
          "output_type": "stream",
          "text": [
            "(300, 2)\n"
          ],
          "name": "stdout"
        }
      ]
    },
    {
      "cell_type": "code",
      "metadata": {
        "colab": {
          "base_uri": "https://localhost:8080/"
        },
        "id": "tyzDbK8TOSiK",
        "outputId": "b815b0c1-3188-4612-8cf4-734b85215e7f"
      },
      "source": [
        "X_reduced"
      ],
      "execution_count": 152,
      "outputs": [
        {
          "output_type": "execute_result",
          "data": {
            "text/plain": [
              "array([[-3.08780779e-16,  6.17561557e-16],\n",
              "       [ 1.14491749e-16,  0.00000000e+00],\n",
              "       [ 4.99600361e-16, -1.66533454e-16],\n",
              "       [ 4.92661467e-16, -9.71445147e-17],\n",
              "       [ 3.46944695e-16, -4.99600361e-16],\n",
              "       [ 2.77555756e-17, -2.22044605e-16],\n",
              "       [ 8.32667268e-17,  6.07153217e-17],\n",
              "       [-8.32667268e-17,  4.71844785e-16],\n",
              "       [-9.71445147e-17, -4.37150316e-16],\n",
              "       [ 9.02056208e-17,  4.44089210e-16],\n",
              "       [-9.71445147e-17,  2.77555756e-17]])"
            ]
          },
          "metadata": {
            "tags": []
          },
          "execution_count": 152
        }
      ]
    },
    {
      "cell_type": "code",
      "metadata": {
        "id": "XYSW13P7OpdF"
      },
      "source": [
        ""
      ],
      "execution_count": null,
      "outputs": []
    }
  ]
}