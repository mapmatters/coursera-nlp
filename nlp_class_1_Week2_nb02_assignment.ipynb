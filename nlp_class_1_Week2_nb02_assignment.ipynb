{
  "nbformat": 4,
  "nbformat_minor": 0,
  "metadata": {
    "colab": {
      "name": "nlp class 1 - Week2 - nb02 - assignment",
      "provenance": [],
      "authorship_tag": "ABX9TyN/bH4sq32COnM2XTeHT/qf",
      "include_colab_link": true
    },
    "kernelspec": {
      "name": "python3",
      "display_name": "Python 3"
    }
  },
  "cells": [
    {
      "cell_type": "markdown",
      "metadata": {
        "id": "view-in-github",
        "colab_type": "text"
      },
      "source": [
        "<a href=\"https://colab.research.google.com/github/mapmatters/coursera-nlp/blob/main/nlp_class_1_Week2_nb02_assignment.ipynb\" target=\"_parent\"><img src=\"https://colab.research.google.com/assets/colab-badge.svg\" alt=\"Open In Colab\"/></a>"
      ]
    },
    {
      "cell_type": "code",
      "metadata": {
        "colab": {
          "base_uri": "https://localhost:8080/"
        },
        "id": "SCPsPUnTWuLS",
        "outputId": "0712b6a3-61c2-4807-9877-8a10281f655a"
      },
      "source": [
        "from google.colab import drive\n",
        "drive.mount('/content/drive')\n",
        "import os\n",
        "os.chdir('/content/drive/MyDrive/coursera/nlp')\n",
        "!ls"
      ],
      "execution_count": 2,
      "outputs": [
        {
          "output_type": "stream",
          "text": [
            "Mounted at /content/drive\n",
            "'nlp class 1 - Week1 - nb01'\n",
            "'nlp class 1 - Week1 - nb02'\n",
            "'nlp class 1 - Week1 - nb03'\n",
            "'nlp class 1 - Week1 - nb04 - assignment'\n",
            "'nlp class 1 - Week2 - nb01'\n",
            "'nlp class 1 - Week2 - nb02 - assignment'\n",
            " py\n",
            " __pycache__\n"
          ],
          "name": "stdout"
        }
      ]
    },
    {
      "cell_type": "code",
      "metadata": {
        "id": "U_C1KQL9YXnD"
      },
      "source": [
        "# from utils import process_tweet, lookup\n",
        "import pdb\n",
        "from nltk.corpus import stopwords, twitter_samples\n",
        "import numpy as np\n",
        "import pandas as pd\n",
        "import nltk\n",
        "import string\n",
        "from nltk.tokenize import TweetTokenizer\n",
        "from os import getcwd"
      ],
      "execution_count": null,
      "outputs": []
    },
    {
      "cell_type": "code",
      "metadata": {
        "id": "XhzEL7j2Ylxv"
      },
      "source": [
        "import sys\n",
        "sys.path.append('py')\n",
        "from utils import process_tweet, lookup"
      ],
      "execution_count": null,
      "outputs": []
    },
    {
      "cell_type": "code",
      "metadata": {
        "colab": {
          "base_uri": "https://localhost:8080/"
        },
        "id": "oxJRZENBYwEb",
        "outputId": "d17b2ec9-e255-4d7a-ef34-5bb496322885"
      },
      "source": [
        "nltk.download('stopwords')\n",
        "nltk.download('twitter_samples')\n"
      ],
      "execution_count": 13,
      "outputs": [
        {
          "output_type": "stream",
          "text": [
            "[nltk_data] Downloading package stopwords to /root/nltk_data...\n",
            "[nltk_data]   Package stopwords is already up-to-date!\n",
            "[nltk_data] Downloading package twitter_samples to /root/nltk_data...\n",
            "[nltk_data]   Package twitter_samples is already up-to-date!\n"
          ],
          "name": "stdout"
        },
        {
          "output_type": "execute_result",
          "data": {
            "text/plain": [
              "True"
            ]
          },
          "metadata": {
            "tags": []
          },
          "execution_count": 13
        }
      ]
    },
    {
      "cell_type": "code",
      "metadata": {
        "id": "2dHQ76KyZI-2"
      },
      "source": [
        "# add folder, tmp2, from our local workspace containing pre-downloaded corpora files to nltk's data path\n",
        "filePath = f\"{getcwd()}/../tmp2/\"\n",
        "nltk.data.path.append(filePath)"
      ],
      "execution_count": 14,
      "outputs": []
    },
    {
      "cell_type": "code",
      "metadata": {
        "id": "G7XEQoTVZK1h"
      },
      "source": [
        "# get the sets of positive and negative tweets\n",
        "all_positive_tweets = twitter_samples.strings('positive_tweets.json')\n",
        "all_negative_tweets = twitter_samples.strings('negative_tweets.json')\n",
        "\n",
        "# split the data into two pieces, one for training and one for testing (validation set)\n",
        "test_pos = all_positive_tweets[4000:]\n",
        "train_pos = all_positive_tweets[:4000]\n",
        "test_neg = all_negative_tweets[4000:]\n",
        "train_neg = all_negative_tweets[:4000]\n",
        "\n",
        "train_x = train_pos + train_neg\n",
        "test_x = test_pos + test_neg\n",
        "\n",
        "# avoid assumptions about the length of all_positive_tweets\n",
        "train_y = np.append(np.ones(len(train_pos)), np.zeros(len(train_neg)))\n",
        "test_y = np.append(np.ones(len(test_pos)), np.zeros(len(test_neg)))"
      ],
      "execution_count": 15,
      "outputs": []
    },
    {
      "cell_type": "markdown",
      "metadata": {
        "id": "Po7C7ufDZPTW"
      },
      "source": [
        "## Part 1 - Process the Data"
      ]
    },
    {
      "cell_type": "code",
      "metadata": {
        "id": "fPi_hdLtZMtx"
      },
      "source": [
        "def count_tweets(result, tweets, ys):\n",
        "    '''\n",
        "    Input:\n",
        "        result: a dictionary that will be used to map each pair to its frequency\n",
        "        tweets: a list of tweets\n",
        "        ys: a list corresponding to the sentiment of each tweet (either 0 or 1)\n",
        "    Output:\n",
        "        result: a dictionary mapping each pair to its frequency\n",
        "    '''\n",
        "#     result = {}\n",
        "    ### START CODE HERE (REPLACE INSTANCES OF 'None' with your code) ###\n",
        "    for y, tweet in zip(ys, tweets):\n",
        "        for word in process_tweet(tweet):\n",
        "            # define the key, which is the word and label tuple\n",
        "            pair = (word, y)\n",
        "\n",
        "            # if the key exists in the dictionary, increment the count\n",
        "            if pair in result:\n",
        "                result[pair] += 1\n",
        "\n",
        "            # else, if the key is new, add it to the dictionary and set the count to 1\n",
        "            else:\n",
        "                result[pair] = 1\n",
        "    ### END CODE HERE ###\n",
        "\n",
        "    return result"
      ],
      "execution_count": 36,
      "outputs": []
    },
    {
      "cell_type": "code",
      "metadata": {
        "colab": {
          "base_uri": "https://localhost:8080/"
        },
        "id": "py9A0TAvaS7w",
        "outputId": "f35694f1-1871-41e6-e784-0262f27ec105"
      },
      "source": [
        "# test\n",
        "result = {}\n",
        "tweets = ['i am happy', 'i am tricked', 'i am sad', 'i am tired', 'i am tired']\n",
        "ys = [1, 0, 0, 0, 0]\n",
        "count_tweets(result, tweets, ys)"
      ],
      "execution_count": 37,
      "outputs": [
        {
          "output_type": "execute_result",
          "data": {
            "text/plain": [
              "{('happi', 1): 1, ('sad', 0): 1, ('tire', 0): 2, ('trick', 0): 1}"
            ]
          },
          "metadata": {
            "tags": []
          },
          "execution_count": 37
        }
      ]
    },
    {
      "cell_type": "markdown",
      "metadata": {
        "id": "Uup9cEggaZB4"
      },
      "source": [
        "## Part 2 - Train model"
      ]
    },
    {
      "cell_type": "code",
      "metadata": {
        "id": "D1bwW9JiaXm_"
      },
      "source": [
        "# build the freqs dictionary\n",
        "freqs = count_tweets({}, train_x, train_y)"
      ],
      "execution_count": 18,
      "outputs": []
    },
    {
      "cell_type": "code",
      "metadata": {
        "id": "zP4IIk1Gbsrt"
      },
      "source": [
        "# train_naive_bayes\n",
        "def train_naive_bayes(freqs, train_x, train_y):\n",
        "  \"\"\"\n",
        "  V\n",
        "  freq_pos, freq_neg\n",
        "  N_pos, N_neg\n",
        "  D_pos, D_neg\n",
        "  logprior\n",
        "  loglikelihood\n",
        "  \"\"\"\n",
        "  loglikelihood = {}\n",
        "  logprior = 0\n",
        "\n",
        "  freqs_keys = list(freqs.keys())\n",
        "  # V\n",
        "  words = []\n",
        "  for key in freqs_keys:\n",
        "    words.append(key[0])\n",
        "  words = set(words)\n",
        "  V = len(words)\n",
        "  \n",
        "  # freq_pos, freq_neg of each word\n",
        "  df = pd.DataFrame(columns = [\"word\",\"pos\",\"neg\"])\n",
        "  x = np.zeros((V, 3)) \n",
        "  for word in words:\n",
        "    # print(pair)\n",
        "    row = [word, freqs.get((word,1.0), 0), freqs.get((word,0.0), 0)]\n",
        "    df = df.append(pd.Series(row, index=df.columns), ignore_index=True)\n",
        "  \n",
        "  # N_pos, N_neg\n",
        "  N_pos = sum(df.pos)\n",
        "  N_neg = sum(df.neg)\n",
        "  \n",
        "  # D_pos, D_neg\n",
        "  D_pos = np.sum(np.where(train_y==1, 1, 0))\n",
        "  D_neg = np.sum(np.where(train_y==0, 1, 0))\n",
        "\n",
        "  # logprior\n",
        "  logprior = np.log(D_pos) - np.log(D_neg)\n",
        "\n",
        "  # loglikelihood\n",
        "  def f(x1, x2):\n",
        "    p1 = np.log((x1+1)/(N_pos+V))\n",
        "    p2 = np.log((x2+1)/(N_neg+V))\n",
        "    return p1 - p2\n",
        "  df['llhood'] = df.apply(lambda x: f(x.pos, x.neg), axis=1)\n",
        "  logliklihood = df[['word','llhood']].set_index(\"word\").to_dict()['llhood']\n",
        "\n",
        "  return logprior, logliklihood"
      ],
      "execution_count": 34,
      "outputs": []
    },
    {
      "cell_type": "code",
      "metadata": {
        "id": "mF83AXwKYvhU"
      },
      "source": [
        "# from template\n",
        "# def train_naive_bayes(freqs, train_x, train_y):\n",
        "#     '''\n",
        "#     Input:\n",
        "#         freqs: dictionary from (word, label) to how often the word appears\n",
        "#         train_x: a list of tweets\n",
        "#         train_y: a list of labels correponding to the tweets (0,1)\n",
        "#     Output:\n",
        "#         logprior: the log prior. (equation 3 above)\n",
        "#         loglikelihood: the log likelihood of you Naive bayes equation. (equation 6 above)\n",
        "#     '''\n",
        "#     loglikelihood = {}\n",
        "#     logprior = 0\n",
        "\n",
        "#     ### START CODE HERE (REPLACE INSTANCES OF 'None' with your code) ###\n",
        "\n",
        "#     # calculate V, the number of unique words in the vocabulary\n",
        "#     vocab = set([pair[0] for pair in freqs.keys()])\n",
        "#     V = len(vocab)\n",
        "\n",
        "#     # calculate N_pos and N_neg\n",
        "#     N_pos = N_neg = 0\n",
        "#     for pair in freqs.keys():\n",
        "#         # if the label is positive (greater than zero)\n",
        "#         if pair[1] > 0:\n",
        "\n",
        "#             # Increment the number of positive words by the count for this (word, label) pair\n",
        "#             N_pos += freqs[pair]\n",
        "\n",
        "#         # else, the label is negative\n",
        "#         else:\n",
        "\n",
        "#             # increment the number of negative words by the count for this (word,label) pair\n",
        "#             N_neg += freqs[pair]\n",
        "\n",
        "#     # Calculate D, the number of documents\n",
        "#     D = len(train_y)\n",
        "\n",
        "#     # Calculate D_pos, the number of positive documents (*hint: use sum(<np_array>))\n",
        "#     D_pos = np.sum(np.where(train_y==1, 1, 0))\n",
        "\n",
        "#     # Calculate D_neg, the number of negative documents (*hint: compute using D and D_pos)\n",
        "#     D_neg = np.sum(np.where(train_y==0, 1, 0))\n",
        "\n",
        "#     # Calculate logprior\n",
        "#     logprior = np.log(D_pos) - np.log(D_neg)\n",
        "\n",
        "#     # For each word in the vocabulary...\n",
        "#     for word in vocab:\n",
        "#         # get the positive and negative frequency of the word\n",
        "#         freq_pos = freqs.get((word,1.0), 0)\n",
        "#         freq_neg = freqs.get((word,0.0), 0)\n",
        "\n",
        "#         # calculate the probability that each word is positive, and negative\n",
        "#         p_w_pos = np.log((freq_pos+1)/(N_pos+V))\n",
        "#         p_w_neg = np.log((freq_neg+1)/(N_neg+V))\n",
        "\n",
        "#         # calculate the log likelihood of the word\n",
        "#         loglikelihood[word] = p_w_pos - p_w_neg\n",
        "\n",
        "#     ### END CODE HERE ###\n",
        "\n",
        "#     return logprior, loglikelihood"
      ],
      "execution_count": null,
      "outputs": []
    },
    {
      "cell_type": "code",
      "metadata": {
        "colab": {
          "base_uri": "https://localhost:8080/"
        },
        "id": "4lsfKcMxq2OF",
        "outputId": "d19b3c12-b10e-418b-f975-3e243fd692ce"
      },
      "source": [
        "logprior, loglikelihood = train_naive_bayes(freqs, train_x, train_y)\n",
        "print(logprior)\n",
        "print(len(loglikelihood))"
      ],
      "execution_count": 35,
      "outputs": [
        {
          "output_type": "stream",
          "text": [
            "0.0\n",
            "9089\n"
          ],
          "name": "stdout"
        }
      ]
    },
    {
      "cell_type": "markdown",
      "metadata": {
        "id": "uQzMbuGiY-38"
      },
      "source": [
        "## Part 3 - Test your naive bayes\n",
        "$$ p = logprior + \\sum_i^N (loglikelihood_i)$$"
      ]
    },
    {
      "cell_type": "code",
      "metadata": {
        "id": "WeNR4nAHpgc1"
      },
      "source": [
        "def naive_bayes_predict(tweet, logprior, loglikelihood):\n",
        "  \"\"\"\n",
        "  input: tweet(string), logprior, loglikelihood\n",
        "  output: p (sum of all the likelihood of each word in the tweet)\n",
        "  \"\"\"\n",
        "  word_1 = process_tweet(tweet)\n",
        "  p = 0\n",
        "  p += logprior\n",
        "  \n",
        "  for word in word_1:\n",
        "    if word in loglikelihood:\n",
        "      p += loglikelihood[word]\n",
        "\n",
        "  return p"
      ],
      "execution_count": 40,
      "outputs": []
    },
    {
      "cell_type": "code",
      "metadata": {
        "colab": {
          "base_uri": "https://localhost:8080/"
        },
        "id": "L0Gm5__SZ_2c",
        "outputId": "fa3aa695-5770-448c-cd79-a4ab4641d0c3"
      },
      "source": [
        "# Experiment with your own tweet.\n",
        "my_tweet = 'She smiled.'\n",
        "p = naive_bayes_predict(my_tweet, logprior, loglikelihood)\n",
        "print('The expected output is', p)"
      ],
      "execution_count": 41,
      "outputs": [
        {
          "output_type": "stream",
          "text": [
            "The expected output is 1.5740278623499178\n"
          ],
          "name": "stdout"
        }
      ]
    },
    {
      "cell_type": "code",
      "metadata": {
        "id": "uxT5DCAlagwu"
      },
      "source": [
        "# test model\n",
        "def test_naive_bayes(test_x, test_y, logprior, loglikelihood):\n",
        "  \"\"\"\n",
        "  input\n",
        "    test_x: A list of tweets\n",
        "    test_y: label\n",
        "    logprior\n",
        "    loglikelihood\n",
        "  output\n",
        "    accuracy\n",
        "  \"\"\"\n",
        "  accuracy = 0\n",
        "\n",
        "  y_hats = []\n",
        "  for tweet in test_x:\n",
        "    if naive_bayes_predict(tweet, logprior, loglikelihood) > 0:\n",
        "      y_hat_i = 1\n",
        "    else:\n",
        "      y_hat_i = 0\n",
        "    y_hats.append(y_hat_i)\n",
        "\n",
        "  # error is the average of the absolute values of the differences between y_hats and test_y\n",
        "  error = sum(np.asarray(y_hats) != test_y)/len(test_y)\n",
        "\n",
        "  # Accuracy is 1 minus the error\n",
        "  accuracy = 1 - error\n",
        "\n",
        "  ### END CODE HERE ###\n",
        "\n",
        "  return accuracy\n"
      ],
      "execution_count": 53,
      "outputs": []
    },
    {
      "cell_type": "code",
      "metadata": {
        "colab": {
          "base_uri": "https://localhost:8080/"
        },
        "id": "CNNGy05adJA8",
        "outputId": "74b68a4c-29f8-4b0b-8c8a-857a022b33cc"
      },
      "source": [
        "print(\"Naive Bayes accuracy = %0.4f\" %\n",
        "      (test_naive_bayes(test_x, test_y, logprior, loglikelihood)))"
      ],
      "execution_count": 54,
      "outputs": [
        {
          "output_type": "stream",
          "text": [
            "Naive Bayes accuracy = 0.9940\n"
          ],
          "name": "stdout"
        }
      ]
    },
    {
      "cell_type": "code",
      "metadata": {
        "colab": {
          "base_uri": "https://localhost:8080/"
        },
        "id": "qysuoD0PdXZV",
        "outputId": "b085eca2-3dc0-4fda-e982-563990490b4b"
      },
      "source": [
        "# Run this cell to test your function\n",
        "for tweet in ['I am happy', 'I am bad', 'this movie should have been great.', 'great', 'great great', 'great great great', 'great great great great']:\n",
        "    # print( '%s -> %f' % (tweet, naive_bayes_predict(tweet, logprior, loglikelihood)))\n",
        "    p = naive_bayes_predict(tweet, logprior, loglikelihood)\n",
        "#     print(f'{tweet} -> {p:.2f} ({p_category})')\n",
        "    print(f'{tweet} -> {p:.2f}')"
      ],
      "execution_count": 55,
      "outputs": [
        {
          "output_type": "stream",
          "text": [
            "I am happy -> 2.15\n",
            "I am bad -> -1.29\n",
            "this movie should have been great. -> 2.14\n",
            "great -> 2.14\n",
            "great great -> 4.28\n",
            "great great great -> 6.41\n",
            "great great great great -> 8.55\n"
          ],
          "name": "stdout"
        }
      ]
    },
    {
      "cell_type": "markdown",
      "metadata": {
        "id": "J4pufAqZdZa4"
      },
      "source": [
        "## Part 4 - Filter word by ratio of positive to negative counts"
      ]
    },
    {
      "cell_type": "code",
      "metadata": {
        "id": "yY6KcjG_cFlI"
      },
      "source": [
        "def get_ratio(freqs, word):\n",
        "    '''\n",
        "    Input:\n",
        "        freqs: dictionary containing the words\n",
        "        word: string to lookup\n",
        "\n",
        "    Output: a dictionary with keys 'positive', 'negative', and 'ratio'.\n",
        "        Example: {'positive': 10, 'negative': 20, 'ratio': 0.5}\n",
        "    '''\n",
        "    pos_neg_ratio = {'positive': 0, 'negative': 0, 'ratio': 0.0}\n",
        "    ### START CODE HERE (REPLACE INSTANCES OF 'None' with your code) ###\n",
        "    # use lookup() to find positive counts for the word (denoted by the integer 1)\n",
        "    pos_neg_ratio['positive'] = lookup(freqs, word, 1)\n",
        "\n",
        "    # use lookup() to find negative counts for the word (denoted by integer 0)\n",
        "    pos_neg_ratio['negative'] = lookup(freqs, word, 0)\n",
        "\n",
        "    # calculate the ratio of positive to negative counts for the word\n",
        "    pos_neg_ratio['ratio'] = (pos_neg_ratio['positive'] + 1)/ (pos_neg_ratio['negative'] + 1)\n",
        "    ### END CODE HERE ###\n",
        "    return pos_neg_ratio"
      ],
      "execution_count": 66,
      "outputs": []
    },
    {
      "cell_type": "code",
      "metadata": {
        "colab": {
          "base_uri": "https://localhost:8080/"
        },
        "id": "7Aph1Zy-cFnc",
        "outputId": "da0189d4-6cb7-447a-ec63-932dfcdbb688"
      },
      "source": [
        "get_ratio(freqs, 'happi')"
      ],
      "execution_count": 58,
      "outputs": [
        {
          "output_type": "execute_result",
          "data": {
            "text/plain": [
              "{'negative': 18, 'positive': 161, 'ratio': 8.944444444444445}"
            ]
          },
          "metadata": {
            "tags": []
          },
          "execution_count": 58
        }
      ]
    },
    {
      "cell_type": "code",
      "metadata": {
        "id": "THFQJ1kocFpL"
      },
      "source": [
        "def get_words_by_threshold(freqs, label, threshold):\n",
        "  \"\"\"\n",
        "  input\n",
        "    freqs: dictionary of words\n",
        "    label: 1 for positive, 0 for negative\n",
        "    threshold: cutoff\n",
        "  output\n",
        "    word_set: information of positive count, negative count, ratio of pos/neg (result of get_ratio())\n",
        "  \"\"\"\n",
        "  word_list = {}\n",
        "\n",
        "  for key in freqs.keys():\n",
        "    word, _ = key\n",
        "    pos_neg_ratio = get_ratio(freqs, word)\n",
        "\n",
        "    if label == 1 and pos_neg_ratio['ratio'] > threshold:\n",
        "      word_list[word] = pos_neg_ratio\n",
        "    elif label == 0 and pos_neg_ratio['ratio'] < threshold:\n",
        "      word_list[word] = pos_neg_ratio\n",
        "\n",
        "  return word_list"
      ],
      "execution_count": 81,
      "outputs": []
    },
    {
      "cell_type": "code",
      "metadata": {
        "colab": {
          "base_uri": "https://localhost:8080/"
        },
        "id": "YeL_a_1ccFrg",
        "outputId": "44af7edf-2a77-4dc3-978e-0a1eb315fbac"
      },
      "source": [
        "get_words_by_threshold(freqs, label=0, threshold=0.05)"
      ],
      "execution_count": 82,
      "outputs": [
        {
          "output_type": "execute_result",
          "data": {
            "text/plain": [
              "{'26': {'negative': 20, 'positive': 0, 'ratio': 0.047619047619047616},\n",
              " ':(': {'negative': 3663, 'positive': 1, 'ratio': 0.0005458515283842794},\n",
              " ':-(': {'negative': 378, 'positive': 0, 'ratio': 0.002638522427440633},\n",
              " '>:(': {'negative': 43, 'positive': 0, 'ratio': 0.022727272727272728},\n",
              " 'beli̇ev': {'negative': 35, 'positive': 0, 'ratio': 0.027777777777777776},\n",
              " 'justi̇n': {'negative': 35, 'positive': 0, 'ratio': 0.027777777777777776},\n",
              " 'wi̇ll': {'negative': 35, 'positive': 0, 'ratio': 0.027777777777777776},\n",
              " '♛': {'negative': 210, 'positive': 0, 'ratio': 0.004739336492890996},\n",
              " '》': {'negative': 210, 'positive': 0, 'ratio': 0.004739336492890996},\n",
              " 'ｍｅ': {'negative': 35, 'positive': 0, 'ratio': 0.027777777777777776},\n",
              " 'ｓｅｅ': {'negative': 35, 'positive': 0, 'ratio': 0.027777777777777776}}"
            ]
          },
          "metadata": {
            "tags": []
          },
          "execution_count": 82
        }
      ]
    },
    {
      "cell_type": "code",
      "metadata": {
        "colab": {
          "base_uri": "https://localhost:8080/"
        },
        "id": "q5u9D7hciMY7",
        "outputId": "2ff6d448-2f20-473f-b944-f315571b9f83"
      },
      "source": [
        "get_words_by_threshold(freqs, label=1, threshold=10)"
      ],
      "execution_count": 83,
      "outputs": [
        {
          "output_type": "execute_result",
          "data": {
            "text/plain": [
              "{':)': {'negative': 2, 'positive': 2847, 'ratio': 949.3333333333334},\n",
              " ':-)': {'negative': 0, 'positive': 543, 'ratio': 544.0},\n",
              " ':D': {'negative': 0, 'positive': 498, 'ratio': 499.0},\n",
              " ':p': {'negative': 0, 'positive': 103, 'ratio': 104.0},\n",
              " ';)': {'negative': 0, 'positive': 22, 'ratio': 23.0},\n",
              " 'arriv': {'negative': 4, 'positive': 57, 'ratio': 11.6},\n",
              " 'bam': {'negative': 0, 'positive': 44, 'ratio': 45.0},\n",
              " 'blog': {'negative': 0, 'positive': 27, 'ratio': 28.0},\n",
              " 'commun': {'negative': 1, 'positive': 27, 'ratio': 14.0},\n",
              " 'fav': {'negative': 0, 'positive': 11, 'ratio': 12.0},\n",
              " 'fback': {'negative': 0, 'positive': 26, 'ratio': 27.0},\n",
              " 'flipkartfashionfriday': {'negative': 0, 'positive': 16, 'ratio': 17.0},\n",
              " 'followfriday': {'negative': 0, 'positive': 23, 'ratio': 24.0},\n",
              " 'glad': {'negative': 2, 'positive': 41, 'ratio': 14.0},\n",
              " \"here'\": {'negative': 0, 'positive': 20, 'ratio': 21.0},\n",
              " 'influenc': {'negative': 0, 'positive': 16, 'ratio': 17.0},\n",
              " 'pleasur': {'negative': 0, 'positive': 10, 'ratio': 11.0},\n",
              " 'shout': {'negative': 0, 'positive': 11, 'ratio': 12.0},\n",
              " 'stat': {'negative': 0, 'positive': 51, 'ratio': 52.0},\n",
              " 'via': {'negative': 1, 'positive': 60, 'ratio': 30.5},\n",
              " 'warsaw': {'negative': 0, 'positive': 44, 'ratio': 45.0},\n",
              " 'youth': {'negative': 0, 'positive': 14, 'ratio': 15.0}}"
            ]
          },
          "metadata": {
            "tags": []
          },
          "execution_count": 83
        }
      ]
    },
    {
      "cell_type": "markdown",
      "metadata": {
        "id": "vjTXhD55jSsR"
      },
      "source": [
        "# Part 5 - Error analysis"
      ]
    },
    {
      "cell_type": "code",
      "metadata": {
        "colab": {
          "base_uri": "https://localhost:8080/"
        },
        "id": "NL5c8VwiiUDX",
        "outputId": "ae176eff-4d05-4ad2-ac47-202ff7b1e999"
      },
      "source": [
        "print(\"Truth predicted tweet\")\n",
        "for x, y in zip(test_x, test_y):\n",
        "  y_hat = naive_bayes_predict(x, logprior, loglikelihood)\n",
        "  if y != (np.sign(y_hat) > 0):\n",
        "    print('%d\\t%0.2f\\t%s' % (y, np.sign(y_hat) > 0, ' '.join(process_tweet(x)).encode('ascii', 'ignore')))"
      ],
      "execution_count": 84,
      "outputs": [
        {
          "output_type": "stream",
          "text": [
            "Truth predicted tweet\n",
            "1\t0.00\tb''\n",
            "1\t0.00\tb'truli later move know queen bee upward bound movingonup'\n",
            "1\t0.00\tb'new report talk burn calori cold work harder warm feel better weather :p'\n",
            "1\t0.00\tb'harri niall 94 harri born ik stupid wanna chang :D'\n",
            "1\t0.00\tb''\n",
            "1\t0.00\tb''\n",
            "1\t0.00\tb'park get sunlight'\n",
            "1\t0.00\tb'uff itna miss karhi thi ap :p'\n",
            "0\t1.00\tb'hello info possibl interest jonatha close join beti :( great'\n",
            "0\t1.00\tb'u prob fun david'\n",
            "0\t1.00\tb'pat jay'\n",
            "0\t1.00\tb'whatev stil l young >:-('\n"
          ],
          "name": "stdout"
        }
      ]
    },
    {
      "cell_type": "code",
      "metadata": {
        "colab": {
          "base_uri": "https://localhost:8080/"
        },
        "id": "3jIVv1c9jpKl",
        "outputId": "eb430bbf-b80c-4230-980e-b6c9da3c8047"
      },
      "source": [
        "np.sign(-0.01) > 0"
      ],
      "execution_count": 85,
      "outputs": [
        {
          "output_type": "execute_result",
          "data": {
            "text/plain": [
              "False"
            ]
          },
          "metadata": {
            "tags": []
          },
          "execution_count": 85
        }
      ]
    },
    {
      "cell_type": "code",
      "metadata": {
        "id": "ffj_xIPajycB"
      },
      "source": [
        ""
      ],
      "execution_count": null,
      "outputs": []
    }
  ]
}