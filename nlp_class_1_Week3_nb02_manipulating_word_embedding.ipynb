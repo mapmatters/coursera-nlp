{
  "nbformat": 4,
  "nbformat_minor": 0,
  "metadata": {
    "colab": {
      "name": "nlp class 1 - Week3 - nb02- manipulating word embedding",
      "provenance": [],
      "authorship_tag": "ABX9TyMbxt412T+3HVFYtCquF7Rh",
      "include_colab_link": true
    },
    "kernelspec": {
      "name": "python3",
      "display_name": "Python 3"
    }
  },
  "cells": [
    {
      "cell_type": "markdown",
      "metadata": {
        "id": "view-in-github",
        "colab_type": "text"
      },
      "source": [
        "<a href=\"https://colab.research.google.com/github/mapmatters/coursera-nlp/blob/main/nlp_class_1_Week3_nb02_manipulating_word_embedding.ipynb\" target=\"_parent\"><img src=\"https://colab.research.google.com/assets/colab-badge.svg\" alt=\"Open In Colab\"/></a>"
      ]
    },
    {
      "cell_type": "code",
      "metadata": {
        "colab": {
          "base_uri": "https://localhost:8080/"
        },
        "id": "7ZJfhP9BptMh",
        "outputId": "6fbcf1b5-d273-49df-ee49-6246038f6538"
      },
      "source": [
        "from google.colab import drive\n",
        "drive.mount('/content/drive')\n",
        "import os\n",
        "os.chdir('/content/drive/MyDrive/coursera/nlp')\n",
        "!ls"
      ],
      "execution_count": 1,
      "outputs": [
        {
          "output_type": "stream",
          "text": [
            "Mounted at /content/drive\n",
            " data\n",
            "'nlp class 1 - Week1 - nb01'\n",
            "'nlp class 1 - Week1 - nb02'\n",
            "'nlp class 1 - Week1 - nb03'\n",
            "'nlp class 1 - Week1 - nb04 - assignment'\n",
            "'nlp class 1 - Week2 - nb01'\n",
            "'nlp class 1 - Week2 - nb02 - assignment'\n",
            "'nlp class 1 - Week3 - nb01 - linear algebra'\n",
            "'nlp class 1 - Week3 - nb02- manipulating word embedding'\n",
            " py\n",
            " __pycache__\n"
          ],
          "name": "stdout"
        }
      ]
    },
    {
      "cell_type": "code",
      "metadata": {
        "colab": {
          "base_uri": "https://localhost:8080/"
        },
        "id": "A0UCeiS8qx1i",
        "outputId": "82588fa8-d445-4a83-d777-00ceaac0c549"
      },
      "source": [
        "import pandas as pd # Library for Dataframes \n",
        "import numpy as np # Library for math functions\n",
        "import pickle # Python object serialization library. Not secure\n",
        "\n",
        "word_embeddings = pickle.load( open( \"data/word_embeddings_subset.p\", \"rb\" ) )\n",
        "len(word_embeddings) # there should be 243 words that will be used in this assignment"
      ],
      "execution_count": 2,
      "outputs": [
        {
          "output_type": "execute_result",
          "data": {
            "text/plain": [
              "243"
            ]
          },
          "metadata": {
            "tags": []
          },
          "execution_count": 2
        }
      ]
    },
    {
      "cell_type": "code",
      "metadata": {
        "colab": {
          "base_uri": "https://localhost:8080/"
        },
        "id": "oV0TmA2Kq5uu",
        "outputId": "6c21aa85-07c8-4509-bde1-7fcdd7947494"
      },
      "source": [
        "countryVector = word_embeddings['country'] # Get the vector representation for the word 'country'\n",
        "print(type(countryVector)) # Print the type of the vector. Note it is a numpy array\n",
        "print(f'length of vector {len(countryVector)}')\n",
        "print(countryVector) # Print the values of the vector.  "
      ],
      "execution_count": 5,
      "outputs": [
        {
          "output_type": "stream",
          "text": [
            "<class 'numpy.ndarray'>\n",
            "length of vector 300\n",
            "[-0.08007812  0.13378906  0.14355469  0.09472656 -0.04736328 -0.02355957\n",
            " -0.00854492 -0.18652344  0.04589844 -0.08154297 -0.03442383 -0.11621094\n",
            "  0.21777344 -0.10351562 -0.06689453  0.15332031 -0.19335938  0.26367188\n",
            " -0.13671875 -0.05566406  0.07470703 -0.00070953  0.09375    -0.14453125\n",
            "  0.04296875 -0.01916504 -0.22558594 -0.12695312 -0.0168457   0.05224609\n",
            "  0.0625     -0.1484375  -0.01965332  0.17578125  0.10644531 -0.04760742\n",
            " -0.10253906 -0.28515625  0.10351562  0.20800781 -0.07617188 -0.04345703\n",
            "  0.08642578  0.08740234  0.11767578  0.20996094 -0.07275391  0.1640625\n",
            " -0.01135254  0.0025177   0.05810547 -0.03222656  0.06884766  0.046875\n",
            "  0.10107422  0.02148438 -0.16210938  0.07128906 -0.16210938  0.05981445\n",
            "  0.05102539 -0.05566406  0.06787109 -0.03759766  0.04345703 -0.03173828\n",
            " -0.03417969 -0.01116943  0.06201172 -0.08007812 -0.14941406  0.11914062\n",
            "  0.02575684  0.00302124  0.04711914 -0.17773438  0.04101562  0.05541992\n",
            "  0.00598145  0.03027344 -0.07666016 -0.109375    0.02832031 -0.10498047\n",
            "  0.0100708  -0.03149414 -0.22363281 -0.03125    -0.01147461  0.17285156\n",
            "  0.08056641 -0.10888672 -0.09570312 -0.21777344 -0.07910156 -0.10009766\n",
            "  0.06396484 -0.11962891  0.18652344 -0.02062988 -0.02172852  0.29296875\n",
            " -0.00793457  0.0324707  -0.15136719  0.00227356 -0.03540039 -0.13378906\n",
            "  0.0546875  -0.03271484 -0.01855469 -0.10302734 -0.13378906  0.11425781\n",
            "  0.16699219  0.01361084 -0.02722168 -0.2109375   0.07177734  0.08691406\n",
            " -0.09960938  0.01422119 -0.18261719  0.00741577  0.01965332  0.00738525\n",
            " -0.03271484 -0.15234375 -0.26367188 -0.14746094  0.03320312 -0.03344727\n",
            " -0.01000977  0.01855469  0.00183868 -0.10498047  0.09667969  0.07910156\n",
            "  0.11181641  0.13085938 -0.08740234 -0.1328125   0.05004883  0.19824219\n",
            "  0.0612793   0.16210938  0.06933594  0.01281738  0.01550293  0.01531982\n",
            "  0.11474609  0.02758789  0.13769531 -0.08349609  0.01123047 -0.20507812\n",
            " -0.12988281 -0.16699219  0.20410156 -0.03588867 -0.10888672  0.0534668\n",
            "  0.15820312 -0.20410156  0.14648438 -0.11572266  0.01855469 -0.13574219\n",
            "  0.24121094  0.12304688 -0.14550781  0.17578125  0.11816406 -0.30859375\n",
            "  0.10888672 -0.22363281  0.19335938 -0.15722656 -0.07666016 -0.09082031\n",
            " -0.19628906 -0.23144531 -0.09130859 -0.14160156  0.06347656  0.03344727\n",
            " -0.03369141  0.06591797  0.06201172  0.3046875   0.16796875 -0.11035156\n",
            " -0.03833008 -0.02563477 -0.09765625  0.04467773 -0.0534668   0.11621094\n",
            " -0.15039062 -0.16308594 -0.15527344  0.04638672  0.11572266 -0.06640625\n",
            " -0.04516602  0.02331543 -0.08105469 -0.0255127  -0.07714844  0.0016861\n",
            "  0.15820312  0.00994873 -0.06445312  0.15722656 -0.03112793  0.10644531\n",
            " -0.140625    0.23535156 -0.11279297  0.16015625  0.00061798 -0.1484375\n",
            "  0.02307129 -0.109375    0.05444336 -0.14160156  0.11621094  0.03710938\n",
            "  0.14746094 -0.04199219 -0.01391602 -0.03881836  0.02783203  0.10205078\n",
            "  0.07470703  0.20898438 -0.04223633 -0.04150391 -0.00588989 -0.14941406\n",
            " -0.04296875 -0.10107422 -0.06176758  0.09472656  0.22265625 -0.02307129\n",
            "  0.04858398 -0.15527344 -0.02282715 -0.04174805  0.16699219 -0.09423828\n",
            "  0.14453125  0.11132812  0.04223633 -0.16699219  0.10253906  0.16796875\n",
            "  0.12597656 -0.11865234 -0.0213623  -0.08056641  0.24316406  0.15527344\n",
            "  0.16503906  0.00854492 -0.12255859  0.08691406 -0.11914062 -0.02941895\n",
            "  0.08349609 -0.03100586  0.13964844 -0.05151367  0.00765991 -0.04443359\n",
            " -0.04980469 -0.03222656 -0.00952148 -0.10888672 -0.10302734 -0.15722656\n",
            "  0.19335938  0.04858398  0.015625   -0.08105469 -0.11621094 -0.01989746\n",
            "  0.05737305  0.06103516 -0.14550781  0.06738281 -0.24414062 -0.07714844\n",
            "  0.04760742 -0.07519531 -0.14941406 -0.04418945  0.09716797  0.06738281]\n"
          ],
          "name": "stdout"
        }
      ]
    },
    {
      "cell_type": "code",
      "metadata": {
        "id": "Y_hmRgq7q801"
      },
      "source": [
        "#Get the vector for a given word:\n",
        "def vec(w):\n",
        "    return word_embeddings[w]"
      ],
      "execution_count": 6,
      "outputs": []
    },
    {
      "cell_type": "markdown",
      "metadata": {
        "id": "jq_PXW3Nrl3D"
      },
      "source": [
        "# Operating on word embeddings"
      ]
    },
    {
      "cell_type": "code",
      "metadata": {
        "colab": {
          "base_uri": "https://localhost:8080/"
        },
        "id": "gvrBK2HLrJsO",
        "outputId": "fb93f945-a325-4943-f8d6-6ea1dba49717"
      },
      "source": [
        "import matplotlib.pyplot as plt\n",
        "\n",
        "words = ['oil', 'gas', 'happy', 'sad', 'city', 'town', 'village', 'country', 'continent', 'petroleum', 'joyful']\n",
        "\n",
        "bag2d = np.array([vec(word) for word in words])\n",
        "print(bag2d[:,:])\n",
        "print(bag2d[:, 0])"
      ],
      "execution_count": 26,
      "outputs": [
        {
          "output_type": "stream",
          "text": [
            "[[-0.13964844  0.06225586 -0.27929688 ...  0.20410156  0.23535156\n",
            "  -0.05102539]\n",
            " [-0.16113281  0.10546875 -0.13867188 ...  0.25585938  0.20214844\n",
            "  -0.01928711]\n",
            " [-0.0005188   0.16015625  0.0016098  ... -0.03540039  0.08886719\n",
            "  -0.30273438]\n",
            " ...\n",
            " [ 0.02978516  0.25585938  0.23925781 ... -0.06030273  0.19726562\n",
            "  -0.2734375 ]\n",
            " [-0.11865234  0.19921875 -0.22265625 ...  0.09960938  0.20605469\n",
            "  -0.09912109]\n",
            " [ 0.18066406 -0.0090332   0.12988281 ... -0.33984375  0.2734375\n",
            "   0.04492188]]\n",
            "[-0.13964844 -0.16113281 -0.0005188   0.18945312 -0.0100708   0.12353516\n",
            "  0.14746094 -0.08007812  0.02978516 -0.11865234  0.18066406]\n"
          ],
          "name": "stdout"
        }
      ]
    },
    {
      "cell_type": "code",
      "metadata": {
        "colab": {
          "base_uri": "https://localhost:8080/",
          "height": 592
        },
        "id": "-kKNDuuzrLD9",
        "outputId": "c3a5630a-1342-4086-d07a-bf9b0b7ca915"
      },
      "source": [
        "fig, ax = plt.subplots(figsize = (10, 10))\n",
        "\n",
        "col1 = 2\n",
        "col2 = 3\n",
        "\n",
        "# print an arrow for each word\n",
        "for word in bag2d:\n",
        "  ax.arrow(0,0, word[col1], word[col2], head_width=0.005, head_length=0.005, fc='r', ec='r', width=1e-5)\n",
        "\n",
        "ax.scatter(bag2d[:, col1], bag2d[:, col2]) # plot a dot for each word\n",
        "\n",
        "for i in range(0, len(words)):\n",
        "  ax.annotate(words[i], (bag2d[i, col1], bag2d[i, col2]))\n",
        "\n",
        "plt.show()"
      ],
      "execution_count": 27,
      "outputs": [
        {
          "output_type": "display_data",
          "data": {
            "image/png": "[encoded data removed]",
            "text/plain": [
              "<Figure size 720x720 with 1 Axes>"
            ]
          },
          "metadata": {
            "tags": [],
            "needs_background": "light"
          }
        }
      ]
    },
    {
      "cell_type": "markdown",
      "metadata": {
        "id": "OUWksmHUtVCa"
      },
      "source": [
        "# Word distance"
      ]
    },
    {
      "cell_type": "code",
      "metadata": {
        "colab": {
          "base_uri": "https://localhost:8080/",
          "height": 592
        },
        "id": "WkuPLvDRsanr",
        "outputId": "ac2961e9-21f6-4e27-efa2-3e5159dc4996"
      },
      "source": [
        "words = ['sad', 'happy', 'town', 'village']\n",
        "\n",
        "bag2d = np.array([vec(word) for word in words])\n",
        "\n",
        "fig, ax = plt.subplots(figsize = (10,10))\n",
        "\n",
        "col1 = 8\n",
        "col2 = 2\n",
        "\n",
        "for word in bag2d:\n",
        "  ax.arrow(0,0, word[col1], word[col2], head_width=0.0005, head_length=0.0005, fc='r', ec='r', width=1e-5)\n",
        "\n",
        "# print the vector difference between village and town\n",
        "village = vec('village')\n",
        "town = vec('town')\n",
        "diff = town - village\n",
        "ax.arrow(village[col1], village[col2], diff[col1], diff[col2], fc='b', ec='b', width=1e-5)\n",
        "\n",
        "# print the vector difference sad and happy\n",
        "happy = vec('happy')\n",
        "sad = vec('sad')\n",
        "diff = happy - sad\n",
        "ax.arrow(sad[col1], sad[col2], diff[col1], diff[col2], fc='b', ec='b', width=1e-5)\n",
        "\n",
        "ax.scatter(bag2d[:, col1], bag2d[:, col2])\n",
        "\n",
        "# add the word label\n",
        "for i in range(0, len(words)):\n",
        "  ax.annotate(words[i], (bag2d[i,col1], bag2d[i, col2]))\n",
        "\n",
        "plt.show()\n"
      ],
      "execution_count": 30,
      "outputs": [
        {
          "output_type": "display_data",
          "data": {
            "image/png": "[encoded data removed]",
            "text/plain": [
              "<Figure size 720x720 with 1 Axes>"
            ]
          },
          "metadata": {
            "tags": [],
            "needs_background": "light"
          }
        }
      ]
    },
    {
      "cell_type": "markdown",
      "metadata": {
        "id": "cGxBCZ4LPu-y"
      },
      "source": [
        "# Linear algebra on word embedding"
      ]
    },
    {
      "cell_type": "code",
      "metadata": {
        "colab": {
          "base_uri": "https://localhost:8080/"
        },
        "id": "pOHpKSh8PhCI",
        "outputId": "606cbc3b-367d-47fd-852f-40c0e5a1431d"
      },
      "source": [
        "# norm\n",
        "print(np.linalg.norm(vec('town')))\n",
        "print(np.linalg.norm(vec('sad')))"
      ],
      "execution_count": 31,
      "outputs": [
        {
          "output_type": "stream",
          "text": [
            "2.3858097\n",
            "2.9004838\n"
          ],
          "name": "stdout"
        }
      ]
    },
    {
      "cell_type": "markdown",
      "metadata": {
        "id": "PsI_x8UJQAjV"
      },
      "source": [
        "# Predicting capitals"
      ]
    },
    {
      "cell_type": "code",
      "metadata": {
        "colab": {
          "base_uri": "https://localhost:8080/"
        },
        "id": "JnxHA_72P_MH",
        "outputId": "37705266-fe8d-4c1e-e5f2-8d8a21e14141"
      },
      "source": [
        "capital = vec('France') - vec('Paris')\n",
        "country = vec('Madrid') + capital\n",
        "\n",
        "print(country[0:5])"
      ],
      "execution_count": 32,
      "outputs": [
        {
          "output_type": "stream",
          "text": [
            "[-0.02905273 -0.2475586   0.53952026  0.20581055 -0.14862823]\n"
          ],
          "name": "stdout"
        }
      ]
    },
    {
      "cell_type": "code",
      "metadata": {
        "colab": {
          "base_uri": "https://localhost:8080/"
        },
        "id": "CuXA1L-ZQNNs",
        "outputId": "621f945b-97c4-4ad4-f9df-d88c8a1e5054"
      },
      "source": [
        "# country로 저장한 값과 'Spain' 사이의 벡터 차이 보기\n",
        "diff = country - vec('Spain')\n",
        "print(diff[0:10])"
      ],
      "execution_count": 33,
      "outputs": [
        {
          "output_type": "stream",
          "text": [
            "[-0.06054688 -0.06494141  0.37643433  0.08129883 -0.13007355 -0.00952148\n",
            " -0.03417969 -0.00708008  0.09790039 -0.01867676]\n"
          ],
          "name": "stdout"
        }
      ]
    },
    {
      "cell_type": "code",
      "metadata": {
        "id": "hdDalU0AQf45"
      },
      "source": [
        "# closest word\n",
        "keys = word_embeddings.keys()\n",
        "data = []\n",
        "for key in keys:\n",
        "  data.append(word_embeddings[key])\n",
        "# print(keys)\n",
        "# print(data[:2])\n",
        "\n",
        "embedding = pd.DataFrame(data=data, index=keys)\n",
        "\n",
        "def find_closest_word(v, k = 1):\n",
        "  diff = v - data # data == embedding.values\n",
        "  eu_dist = np.linalg.norm(diff, axis = 1)\n",
        "  i = np.argmin(eu_dist)\n",
        "  result = list(keys)[np.argmin(eu_dist)]\n",
        "  return result, i\n"
      ],
      "execution_count": 91,
      "outputs": []
    },
    {
      "cell_type": "code",
      "metadata": {
        "colab": {
          "base_uri": "https://localhost:8080/"
        },
        "id": "WxNz7cu2Qv1B",
        "outputId": "2f3e7d64-e948-417a-fcb0-d1d553e3fbd4"
      },
      "source": [
        "from_country_to_capital = vec('France') - vec('Paris')\n",
        "from_capital_to_country = vec('Madrid') + from_country_to_capital\n",
        "find_closest_word(from_capital_to_country)"
      ],
      "execution_count": 104,
      "outputs": [
        {
          "output_type": "execute_result",
          "data": {
            "text/plain": [
              "('Spain', 22)"
            ]
          },
          "metadata": {
            "tags": []
          },
          "execution_count": 104
        }
      ]
    },
    {
      "cell_type": "markdown",
      "metadata": {
        "id": "_DIe58aNb1Ra"
      },
      "source": [
        "# Predicting Other Countries"
      ]
    },
    {
      "cell_type": "code",
      "metadata": {
        "colab": {
          "base_uri": "https://localhost:8080/"
        },
        "id": "1gCg-mvGdm9j",
        "outputId": "155217c9-908f-4258-87f0-afb85600152b"
      },
      "source": [
        "keys"
      ],
      "execution_count": 112,
      "outputs": [
        {
          "output_type": "execute_result",
          "data": {
            "text/plain": [
              "dict_keys(['country', 'city', 'China', 'Iraq', 'oil', 'town', 'Canada', 'London', 'England', 'Australia', 'Japan', 'Pakistan', 'Iran', 'gas', 'happy', 'Russia', 'Afghanistan', 'France', 'Germany', 'Georgia', 'Baghdad', 'village', 'Spain', 'Italy', 'Beijing', 'Jordan', 'Paris', 'Ireland', 'Turkey', 'Egypt', 'Lebanon', 'Taiwan', 'Tokyo', 'Nigeria', 'Vietnam', 'Moscow', 'Greece', 'Indonesia', 'sad', 'Syria', 'Thailand', 'Libya', 'Zimbabwe', 'Cuba', 'Ottawa', 'Tehran', 'Sudan', 'Kenya', 'Philippines', 'Sweden', 'Poland', 'Ukraine', 'Rome', 'Venezuela', 'Switzerland', 'Berlin', 'Bangladesh', 'Portugal', 'Ghana', 'Athens', 'king', 'Madrid', 'Somalia', 'Dublin', 'Qatar', 'Chile', 'Islamabad', 'Bahrain', 'Nepal', 'Norway', 'Serbia', 'Kabul', 'continent', 'Brussels', 'Belgium', 'Uganda', 'petroleum', 'Cairo', 'Denmark', 'Austria', 'Jamaica', 'Georgetown', 'Bangkok', 'Finland', 'Peru', 'Romania', 'Bulgaria', 'Hungary', 'Vienna', 'Kingston', 'Manila', 'Cyprus', 'Azerbaijan', 'Copenhagen', 'Fiji', 'Tunisia', 'Kazakhstan', 'queen', 'Beirut', 'Jakarta', 'Croatia', 'Belarus', 'Algeria', 'Malta', 'Morocco', 'Rwanda', 'Bahamas', 'Damascus', 'Ecuador', 'Angola', 'Canberra', 'Liberia', 'Honduras', 'Tripoli', 'Slovakia', 'Doha', 'Armenia', 'Taipei', 'Oman', 'Nairobi', 'Santiago', 'Guinea', 'Uruguay', 'Stockholm', 'Slovenia', 'Zambia', 'Havana', 'Uzbekistan', 'Belgrade', 'Mogadishu', 'Khartoum', 'Botswana', 'Kyrgyzstan', 'Dhaka', 'Namibia', 'Ankara', 'Abuja', 'Lima', 'Harare', 'Warsaw', 'Malawi', 'Lisbon', 'Latvia', 'Niger', 'Lithuania', 'Estonia', 'Samoa', 'Oslo', 'Nicaragua', 'Hanoi', 'Sofia', 'Macedonia', 'Senegal', 'Mozambique', 'Guyana', 'Mali', 'Accra', 'Kathmandu', 'Tbilisi', 'Helsinki', 'Montenegro', 'Caracas', 'Laos', 'Budapest', 'Kiev', 'Turkmenistan', 'Eritrea', 'Albania', 'Madagascar', 'Nassau', 'Kampala', 'Amman', 'Greenland', 'Belize', 'Moldova', 'Burundi', 'Tajikistan', 'Baku', 'Astana', 'Gambia', 'Bucharest', 'joyful', 'Monrovia', 'Mauritania', 'Algiers', 'Muscat', 'Bern', 'Luanda', 'Dakar', 'Tunis', 'Gabon', 'Minsk', 'Liechtenstein', 'Suva', 'Yerevan', 'Zagreb', 'Bishkek', 'Manama', 'Kigali', 'Riga', 'Lusaka', 'Tashkent', 'Nicosia', 'Valletta', 'Windhoek', 'Dominica', 'Quito', 'Tallinn', 'Bratislava', 'Tegucigalpa', 'Skopje', 'Gaborone', 'Rabat', 'Maputo', 'Suriname', 'Vilnius', 'Montevideo', 'Ljubljana', 'Tirana', 'Dushanbe', 'Ashgabat', 'Asmara', 'Tuvalu', 'Managua', 'Conakry', 'Banjul', 'Bamako', 'Lilongwe', 'Vientiane', 'Chisinau', 'Roseau', 'Nouakchott', 'Podgorica', 'Niamey', 'Bujumbura', 'Apia', 'Antananarivo', 'Libreville', 'Belmopan', 'Vaduz', 'Paramaribo', 'Nuuk', 'Funafuti'])"
            ]
          },
          "metadata": {
            "tags": []
          },
          "execution_count": 112
        }
      ]
    },
    {
      "cell_type": "code",
      "metadata": {
        "colab": {
          "base_uri": "https://localhost:8080/"
        },
        "id": "xEjhwvpOSyu3",
        "outputId": "33280618-143e-4073-9550-0c67d33b5eb8"
      },
      "source": [
        "find_closest_word(vec('Italy') - vec('Rome') + vec('Madrid'))"
      ],
      "execution_count": 105,
      "outputs": [
        {
          "output_type": "execute_result",
          "data": {
            "text/plain": [
              "('Spain', 22)"
            ]
          },
          "metadata": {
            "tags": []
          },
          "execution_count": 105
        }
      ]
    },
    {
      "cell_type": "code",
      "metadata": {
        "colab": {
          "base_uri": "https://localhost:8080/"
        },
        "id": "aXML0hKedOWv",
        "outputId": "1ed32f77-412a-47cc-ff92-2f527f684586"
      },
      "source": [
        "find_closest_word(vec('Tokyo') + from_country_to_capital)"
      ],
      "execution_count": 116,
      "outputs": [
        {
          "output_type": "execute_result",
          "data": {
            "text/plain": [
              "('Japan', 10)"
            ]
          },
          "metadata": {
            "tags": []
          },
          "execution_count": 116
        }
      ]
    },
    {
      "cell_type": "code",
      "metadata": {
        "colab": {
          "base_uri": "https://localhost:8080/"
        },
        "id": "wX4cSBAkSzCB",
        "outputId": "f9d0bd3c-8992-46f6-a6f2-2f5964cb7bcd"
      },
      "source": [
        "print(find_closest_word(vec('Berlin') + capital))\n",
        "print(find_closest_word(vec('Beijing') + capital))"
      ],
      "execution_count": 96,
      "outputs": [
        {
          "output_type": "stream",
          "text": [
            "('Germany', 18)\n",
            "('China', 2)\n"
          ],
          "name": "stdout"
        }
      ]
    },
    {
      "cell_type": "markdown",
      "metadata": {
        "id": "0pV2reuud5QU"
      },
      "source": [
        "# Represent a sentence as a vector"
      ]
    },
    {
      "cell_type": "code",
      "metadata": {
        "id": "Y2DnzzyyTY3i"
      },
      "source": [
        "doc = \"Spain petroleum city king\"\n",
        "vdoc = [vec(x) for x in doc.split(\" \")]\n",
        "doc2vec = np.sum(vdoc, axis=0)\n",
        "print(vdoc)\n",
        "print(doc2vec)"
      ],
      "execution_count": null,
      "outputs": []
    },
    {
      "cell_type": "code",
      "metadata": {
        "colab": {
          "base_uri": "https://localhost:8080/"
        },
        "id": "ITU672QTeJY5",
        "outputId": "ae9e69f7-f88e-4d4c-e0cf-c14d1121eb18"
      },
      "source": [
        "find_closest_word(doc2vec)"
      ],
      "execution_count": 118,
      "outputs": [
        {
          "output_type": "execute_result",
          "data": {
            "text/plain": [
              "('petroleum', 76)"
            ]
          },
          "metadata": {
            "tags": []
          },
          "execution_count": 118
        }
      ]
    },
    {
      "cell_type": "code",
      "metadata": {
        "colab": {
          "base_uri": "https://localhost:8080/"
        },
        "id": "TNQeJzuAeRV_",
        "outputId": "f18ed180-704d-46bd-abf8-430dc5af7aab"
      },
      "source": [
        "len(doc2vec)"
      ],
      "execution_count": 119,
      "outputs": [
        {
          "output_type": "execute_result",
          "data": {
            "text/plain": [
              "300"
            ]
          },
          "metadata": {
            "tags": []
          },
          "execution_count": 119
        }
      ]
    },
    {
      "cell_type": "code",
      "metadata": {
        "colab": {
          "base_uri": "https://localhost:8080/"
        },
        "id": "lRvVYjqbeWkV",
        "outputId": "3a5ddb24-7eed-49d7-f0fc-218a920c6fd8"
      },
      "source": [
        "len(vdoc)"
      ],
      "execution_count": 122,
      "outputs": [
        {
          "output_type": "execute_result",
          "data": {
            "text/plain": [
              "4"
            ]
          },
          "metadata": {
            "tags": []
          },
          "execution_count": 122
        }
      ]
    },
    {
      "cell_type": "code",
      "metadata": {
        "colab": {
          "base_uri": "https://localhost:8080/"
        },
        "id": "jtzWCAmweaUH",
        "outputId": "794d758d-4a66-4045-d760-81121bf171f5"
      },
      "source": [
        "type(vdoc)"
      ],
      "execution_count": 123,
      "outputs": [
        {
          "output_type": "execute_result",
          "data": {
            "text/plain": [
              "list"
            ]
          },
          "metadata": {
            "tags": []
          },
          "execution_count": 123
        }
      ]
    },
    {
      "cell_type": "code",
      "metadata": {
        "id": "GiOF5F8nehKu"
      },
      "source": [
        ""
      ],
      "execution_count": null,
      "outputs": []
    }
  ]
}