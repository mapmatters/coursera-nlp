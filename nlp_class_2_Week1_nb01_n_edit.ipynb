{
  "nbformat": 4,
  "nbformat_minor": 0,
  "metadata": {
    "colab": {
      "name": "nlp class 2 - Week1 - nb01 - n edit",
      "provenance": [],
      "authorship_tag": "ABX9TyN2MA3MYuTSHnmwmCtJfXm1",
      "include_colab_link": true
    },
    "kernelspec": {
      "name": "python3",
      "display_name": "Python 3"
    }
  },
  "cells": [
    {
      "cell_type": "markdown",
      "metadata": {
        "id": "view-in-github",
        "colab_type": "text"
      },
      "source": [
        "<a href=\"https://colab.research.google.com/github/mapmatters/coursera-nlp/blob/main/nlp_class_2_Week1_nb01_n_edit.ipynb\" target=\"_parent\"><img src=\"https://colab.research.google.com/assets/colab-badge.svg\" alt=\"Open In Colab\"/></a>"
      ]
    },
    {
      "cell_type": "markdown",
      "metadata": {
        "id": "GmCAWL6yn7V6"
      },
      "source": [
        "# NLP Course 2 Week 1 Lesson : Building The Model - Lecture Exercise 01\n",
        "Estimated Time: 10 minutes\n",
        "<br>\n",
        "# Vocabulary Creation \n",
        "Create a tiny vocabulary from a tiny corpus\n",
        "<br>\n",
        "It's time to start small !\n",
        "<br>\n",
        "### Imports and Data"
      ]
    },
    {
      "cell_type": "code",
      "metadata": {
        "id": "XK1t2d09n1Vh"
      },
      "source": [
        "import re \n",
        "from collections import Counter\n",
        "import matplotlib.pyplot as plt"
      ],
      "execution_count": 34,
      "outputs": []
    },
    {
      "cell_type": "code",
      "metadata": {
        "colab": {
          "base_uri": "https://localhost:8080/"
        },
        "id": "oEn3WtDZn_Z6",
        "outputId": "bd4430f6-edf5-4b4d-9940-07f11cdf8f79"
      },
      "source": [
        "# the tiny corpus of text ! \n",
        "text = 'red pink pink blue blue yellow ORANGE BLUE BLUE PINK' # 🌈\n",
        "print(text)\n",
        "print('string length : ',len(text))"
      ],
      "execution_count": 35,
      "outputs": [
        {
          "output_type": "stream",
          "text": [
            "red pink pink blue blue yellow ORANGE BLUE BLUE PINK\n",
            "string length :  52\n"
          ],
          "name": "stdout"
        }
      ]
    },
    {
      "cell_type": "markdown",
      "metadata": {
        "id": "HgkrmirhoDCJ"
      },
      "source": [
        "### Preprocessing"
      ]
    },
    {
      "cell_type": "code",
      "metadata": {
        "colab": {
          "base_uri": "https://localhost:8080/"
        },
        "id": "v0YNnJ-QoBZh",
        "outputId": "248f876f-b02f-468f-f8df-168cd3d28905"
      },
      "source": [
        "text_lowercase = text.lower()\n",
        "print(text_lowercase)\n",
        "print('string length: ', len(text_lowercase))"
      ],
      "execution_count": 36,
      "outputs": [
        {
          "output_type": "stream",
          "text": [
            "red pink pink blue blue yellow orange blue blue pink\n",
            "string length:  52\n"
          ],
          "name": "stdout"
        }
      ]
    },
    {
      "cell_type": "code",
      "metadata": {
        "colab": {
          "base_uri": "https://localhost:8080/"
        },
        "id": "Q_GstTTboQjV",
        "outputId": "e4a4feb4-37e5-41a3-c711-d3ed5f4866d6"
      },
      "source": [
        "words = re.findall(r'\\w+', text_lowercase)\n",
        "print(words)\n",
        "print('count: ', len(words))"
      ],
      "execution_count": 37,
      "outputs": [
        {
          "output_type": "stream",
          "text": [
            "['red', 'pink', 'pink', 'blue', 'blue', 'yellow', 'orange', 'blue', 'blue', 'pink']\n",
            "count:  10\n"
          ],
          "name": "stdout"
        }
      ]
    },
    {
      "cell_type": "markdown",
      "metadata": {
        "id": "aGSN-Ip_ohdR"
      },
      "source": [
        "### Create vocabulary"
      ]
    },
    {
      "cell_type": "code",
      "metadata": {
        "colab": {
          "base_uri": "https://localhost:8080/"
        },
        "id": "ZzUTLhWvoYdP",
        "outputId": "e9a1a6ad-18a8-4d61-e6d5-18cbf07535da"
      },
      "source": [
        "vocab = set(words)\n",
        "print(vocab)\n",
        "print('count : ', len(vocab))"
      ],
      "execution_count": 38,
      "outputs": [
        {
          "output_type": "stream",
          "text": [
            "{'blue', 'pink', 'red', 'yellow', 'orange'}\n",
            "count :  5\n"
          ],
          "name": "stdout"
        }
      ]
    },
    {
      "cell_type": "markdown",
      "metadata": {
        "id": "hBI1hz3Hopyc"
      },
      "source": [
        "### Add information with word counts"
      ]
    },
    {
      "cell_type": "code",
      "metadata": {
        "colab": {
          "base_uri": "https://localhost:8080/"
        },
        "id": "V6giMUhhoog2",
        "outputId": "79ee54b6-b1a0-4b95-afd2-34d07cd22af9"
      },
      "source": [
        "counts_a = dict()\n",
        "for w in words:\n",
        "  counts_a[w] = counts_a.get(w, 0)+1\n",
        "print(counts_a)\n",
        "print('count : ', len(counts_a))"
      ],
      "execution_count": 39,
      "outputs": [
        {
          "output_type": "stream",
          "text": [
            "{'red': 1, 'pink': 3, 'blue': 4, 'yellow': 1, 'orange': 1}\n",
            "count :  5\n"
          ],
          "name": "stdout"
        }
      ]
    },
    {
      "cell_type": "code",
      "metadata": {
        "colab": {
          "base_uri": "https://localhost:8080/"
        },
        "id": "GCkOfWeko-FS",
        "outputId": "4ac02f8b-bec8-4ef9-8ef3-970c43b7a803"
      },
      "source": [
        "counts_b = dict()\n",
        "counts_b = Counter(words)\n",
        "print(counts_b)\n",
        "print('count : ', len(counts_b))"
      ],
      "execution_count": 40,
      "outputs": [
        {
          "output_type": "stream",
          "text": [
            "Counter({'blue': 4, 'pink': 3, 'red': 1, 'yellow': 1, 'orange': 1})\n",
            "count :  5\n"
          ],
          "name": "stdout"
        }
      ]
    },
    {
      "cell_type": "code",
      "metadata": {
        "colab": {
          "base_uri": "https://localhost:8080/",
          "height": 265
        },
        "id": "MDXhGsw2pFW7",
        "outputId": "1b803a7d-486f-4ec5-89b8-35868b95b836"
      },
      "source": [
        "# barchart\n",
        "d = {'blue': counts_b['blue'], 'pink': counts_b['pink'], 'red': counts_b['red'], 'yellow':counts_b['yellow'], 'orange':counts_b['orange']}\n",
        "plt.bar(range(len(d)), list(d.values()), align='center', color=d.keys())\n",
        "_ = plt.xticks(range(len(d)), list(d.keys()))"
      ],
      "execution_count": 41,
      "outputs": [
        {
          "output_type": "display_data",
          "data": {
            "image/png": "[encoded data removed]",
            "text/plain": [
              "<Figure size 432x288 with 1 Axes>"
            ]
          },
          "metadata": {
            "tags": [],
            "needs_background": "light"
          }
        }
      ]
    },
    {
      "cell_type": "markdown",
      "metadata": {
        "id": "ZOl-kMBpqlNz"
      },
      "source": [
        "### Ungraded Exercise\n",
        "Note that `counts_b`, above, returned by `collections.Counter` is sorted by word count\n",
        "\n",
        "Can you modify the tiny corpus of ***text*** so that a new color appears \n",
        "between ***pink*** and ***red*** in `counts_b` ?\n",
        "\n",
        "Do you need to run all the cells again, or just specific ones ? "
      ]
    },
    {
      "cell_type": "code",
      "metadata": {
        "colab": {
          "base_uri": "https://localhost:8080/"
        },
        "id": "FgfxywtHpmje",
        "outputId": "f8ee4f8c-500f-4fab-9d98-e0cb790798e8"
      },
      "source": [
        "text2 = text + ' green green'\n",
        "words = re.findall(r'\\w+', text2.lower())\n",
        "counts_b = Counter(words)\n",
        "print('counts_b: ', counts_b)\n",
        "print('count :', len(counts_b))"
      ],
      "execution_count": 42,
      "outputs": [
        {
          "output_type": "stream",
          "text": [
            "counts_b:  Counter({'blue': 4, 'pink': 3, 'green': 2, 'red': 1, 'yellow': 1, 'orange': 1})\n",
            "count : 6\n"
          ],
          "name": "stdout"
        }
      ]
    },
    {
      "cell_type": "code",
      "metadata": {
        "id": "QOtryWq7qgCm"
      },
      "source": [
        ""
      ],
      "execution_count": 42,
      "outputs": []
    }
  ]
}