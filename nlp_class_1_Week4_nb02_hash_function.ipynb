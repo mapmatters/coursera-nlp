{
  "nbformat": 4,
  "nbformat_minor": 0,
  "metadata": {
    "colab": {
      "name": "nlp class 1 - Week4 - nb02 - hash function",
      "provenance": [],
      "authorship_tag": "ABX9TyNs9kTzu+ZcwF/WNEDjqNig",
      "include_colab_link": true
    },
    "kernelspec": {
      "name": "python3",
      "display_name": "Python 3"
    }
  },
  "cells": [
    {
      "cell_type": "markdown",
      "metadata": {
        "id": "view-in-github",
        "colab_type": "text"
      },
      "source": [
        "<a href=\"https://colab.research.google.com/github/mapmatters/coursera-nlp/blob/main/nlp_class_1_Week4_nb02_hash_function.ipynb\" target=\"_parent\"><img src=\"https://colab.research.google.com/assets/colab-badge.svg\" alt=\"Open In Colab\"/></a>"
      ]
    },
    {
      "cell_type": "markdown",
      "metadata": {
        "id": "iTK8lFLfZ7TF"
      },
      "source": [
        "# Basic hash function"
      ]
    },
    {
      "cell_type": "code",
      "metadata": {
        "id": "ai4MZCazZ1Og"
      },
      "source": [
        "import numpy as np\n",
        "import pprint\n",
        "import matplotlib.pyplot as plt\n",
        "\n",
        "pp = pprint.PrettyPrinter(indent=4)"
      ],
      "execution_count": 1,
      "outputs": []
    },
    {
      "cell_type": "code",
      "metadata": {
        "id": "cy-9AiDXaHU0"
      },
      "source": [
        "def plot_vectors(vectors, colors=['k', 'b', 'r', 'm', 'c'], axes=None, fname='image.svg', ax=None):\n",
        "    scale = 1\n",
        "    scale_units = 'x'\n",
        "    x_dir = []\n",
        "    y_dir = []\n",
        "    \n",
        "    for i, vec in enumerate(vectors):\n",
        "        x_dir.append(vec[0][0])\n",
        "        y_dir.append(vec[0][1])\n",
        "    \n",
        "    if ax == None:\n",
        "        fig, ax2 = plt.subplots()\n",
        "    else:\n",
        "        ax2 = ax\n",
        "      \n",
        "    if axes == None:\n",
        "        x_axis = 2 + np.max(np.abs(x_dir))\n",
        "        y_axis = 2 + np.max(np.abs(y_dir))\n",
        "    else:\n",
        "        x_axis = axes[0]\n",
        "        y_axis = axes[1]\n",
        "        \n",
        "    ax2.axis([-x_axis, x_axis, -y_axis, y_axis])\n",
        "        \n",
        "    for i, vec in enumerate(vectors):\n",
        "        ax2.arrow(0, 0, vec[0][0], vec[0][1], head_width=0.05 * x_axis, head_length=0.05 * y_axis, fc=colors[i], ec=colors[i])\n",
        "    \n",
        "    if ax == None:\n",
        "        plt.show()\n",
        "        fig.savefig(fname)"
      ],
      "execution_count": 2,
      "outputs": []
    },
    {
      "cell_type": "code",
      "metadata": {
        "id": "GMmGMqbEaHrf"
      },
      "source": [
        "def basic_hash_table(value_1, n_buckets):\n",
        "  def hash_function(value, n_buckets):\n",
        "    return int(value) % n_buckets\n",
        "  hash_table = {i:[] for i in range(n_buckets)}\n",
        "\n",
        "  for value in value_1:\n",
        "    hash_value = hash_function(value, n_buckets) # get the hash key for the given value\n",
        "    hash_table[hash_value].append(value)\n",
        "\n",
        "  return hash_table"
      ],
      "execution_count": 3,
      "outputs": []
    },
    {
      "cell_type": "code",
      "metadata": {
        "colab": {
          "base_uri": "https://localhost:8080/"
        },
        "id": "MdMeY2Asa2H1",
        "outputId": "ee1796ec-85cc-41de-dd5f-39b291852a36"
      },
      "source": [
        "value_1 = [100, 10, 14, 17, 97]\n",
        "hash_table_example = basic_hash_table(value_1, n_buckets=10)\n",
        "pp.pprint(hash_table_example)"
      ],
      "execution_count": 4,
      "outputs": [
        {
          "output_type": "stream",
          "text": [
            "{   0: [100, 10],\n",
            "    1: [],\n",
            "    2: [],\n",
            "    3: [],\n",
            "    4: [14],\n",
            "    5: [],\n",
            "    6: [],\n",
            "    7: [17, 97],\n",
            "    8: [],\n",
            "    9: []}\n"
          ],
          "name": "stdout"
        }
      ]
    },
    {
      "cell_type": "markdown",
      "metadata": {
        "id": "mUlxq233bl31"
      },
      "source": [
        "# Planes"
      ]
    },
    {
      "cell_type": "code",
      "metadata": {
        "colab": {
          "base_uri": "https://localhost:8080/",
          "height": 504
        },
        "id": "qbApG707bAZo",
        "outputId": "e126a5f7-de9f-4391-b0c2-bcf1b0d8cbc2"
      },
      "source": [
        "P = np.array([[1,1]])\n",
        "fig, ax1 = plt.subplots(figsize=(8,8))\n",
        "\n",
        "plot_vectors([P], axes=[2,2], ax=ax1)\n",
        "\n",
        "for i in range(0, 10):\n",
        "  v1 = np.array(np.random.uniform(-2,2,2))\n",
        "  side_of_plane = np.sign(np.dot(P, v1.T))\n",
        "\n",
        "  if side_of_plane == 1:\n",
        "    ax1.plot([v1[0]], [v1[1]], 'bo')\n",
        "  else:\n",
        "    ax1.plot([v1[0]], [v1[1]], 'ro')\n",
        "\n",
        "print(v1)\n",
        "plt.show()"
      ],
      "execution_count": 5,
      "outputs": [
        {
          "output_type": "stream",
          "text": [
            "[0.26190032 0.48803002]\n"
          ],
          "name": "stdout"
        },
        {
          "output_type": "display_data",
          "data": {
            "image/png": "[encoded data removed]",
            "text/plain": [
              "<Figure size 576x576 with 1 Axes>"
            ]
          },
          "metadata": {
            "tags": [],
            "needs_background": "light"
          }
        }
      ]
    },
    {
      "cell_type": "code",
      "metadata": {
        "id": "84tUcyA4cIeJ",
        "colab": {
          "base_uri": "https://localhost:8080/",
          "height": 487
        },
        "outputId": "ed78da39-5bee-4db8-f460-f0c655090335"
      },
      "source": [
        "P = np.array([[1,2]])\n",
        "\n",
        "PT = np.dot([[0,1], [-1,0]], P.T).T\n",
        "\n",
        "fig, ax1 = plt.subplots(figsize=(8,8))\n",
        "\n",
        "plot_vectors([P], colors=['b'], axes=[2,2], ax=ax1)\n",
        "\n",
        "plot_vectors([PT * 4, PT * -4], colors = ['k', 'k'], axes=[4,4], ax=ax1)\n",
        "\n",
        "for i in range(0,20):\n",
        "  v1 = np.array(np.random.uniform(-4,4,2))\n",
        "  side_of_plane = np.sign(np.dot(P, v1.T))\n",
        "  if side_of_plane ==1:\n",
        "    ax1.plot([v1[0]], [v1[1]], 'bo')\n",
        "  else:\n",
        "    ax1.plot([v1[0]], [v1[1]], 'ro')\n",
        "\n",
        "plt.show()"
      ],
      "execution_count": 8,
      "outputs": [
        {
          "output_type": "display_data",
          "data": {
            "image/png": "[encoded data removed]",
            "text/plain": [
              "<Figure size 576x576 with 1 Axes>"
            ]
          },
          "metadata": {
            "tags": [],
            "needs_background": "light"
          }
        }
      ]
    },
    {
      "cell_type": "code",
      "metadata": {
        "id": "knvyl8-Tlins"
      },
      "source": [
        "P = np.array([[1,1]])\n",
        "v1 = np.array([[1,2]])\n",
        "v2 = np.array([[-1,1]])\n",
        "v3 = np.array([[-2, -1]])"
      ],
      "execution_count": 9,
      "outputs": []
    },
    {
      "cell_type": "code",
      "metadata": {
        "colab": {
          "base_uri": "https://localhost:8080/"
        },
        "id": "rRbULIl_lviZ",
        "outputId": "d46b85d6-983d-4f95-cc5b-2e01261b2fe6"
      },
      "source": [
        "np.dot(P, v1.T)"
      ],
      "execution_count": 10,
      "outputs": [
        {
          "output_type": "execute_result",
          "data": {
            "text/plain": [
              "array([[3]])"
            ]
          },
          "metadata": {
            "tags": []
          },
          "execution_count": 10
        }
      ]
    },
    {
      "cell_type": "code",
      "metadata": {
        "colab": {
          "base_uri": "https://localhost:8080/"
        },
        "id": "xPDAtv-Glw7W",
        "outputId": "a9a8e3a7-63e8-4b1c-8424-3d2eeb0628ab"
      },
      "source": [
        "np.dot(P, v2.T)"
      ],
      "execution_count": 11,
      "outputs": [
        {
          "output_type": "execute_result",
          "data": {
            "text/plain": [
              "array([[0]])"
            ]
          },
          "metadata": {
            "tags": []
          },
          "execution_count": 11
        }
      ]
    },
    {
      "cell_type": "code",
      "metadata": {
        "colab": {
          "base_uri": "https://localhost:8080/"
        },
        "id": "gzhUXDGIlywm",
        "outputId": "02f6f7b6-5cef-4c62-954a-7bc3f515d112"
      },
      "source": [
        "np.dot(P, v3.T)"
      ],
      "execution_count": 12,
      "outputs": [
        {
          "output_type": "execute_result",
          "data": {
            "text/plain": [
              "array([[-3]])"
            ]
          },
          "metadata": {
            "tags": []
          },
          "execution_count": 12
        }
      ]
    },
    {
      "cell_type": "code",
      "metadata": {
        "id": "Bpg2CzT_l1wC"
      },
      "source": [
        "def side_of_plane(P, v):\n",
        "  dotproduct = np.dot(P, v.T)\n",
        "  sign_of_dot_product = np.sign(dotproduct)\n",
        "  sign_of_dot_product_scalar = sign_of_dot_product.item() # the value of the first item\n",
        "  return sign_of_dot_product_scalar"
      ],
      "execution_count": 13,
      "outputs": []
    },
    {
      "cell_type": "code",
      "metadata": {
        "colab": {
          "base_uri": "https://localhost:8080/"
        },
        "id": "o2DrQSW5ndOI",
        "outputId": "49df137b-d95e-4530-fd70-15d52dd3e155"
      },
      "source": [
        "side_of_plane(P, v1)"
      ],
      "execution_count": 14,
      "outputs": [
        {
          "output_type": "execute_result",
          "data": {
            "text/plain": [
              "1"
            ]
          },
          "metadata": {
            "tags": []
          },
          "execution_count": 14
        }
      ]
    },
    {
      "cell_type": "code",
      "metadata": {
        "colab": {
          "base_uri": "https://localhost:8080/"
        },
        "id": "vJYUtVKHness",
        "outputId": "c9b27cc1-3afa-45ce-b0aa-2305332a1fd9"
      },
      "source": [
        "side_of_plane(P, v2)"
      ],
      "execution_count": 15,
      "outputs": [
        {
          "output_type": "execute_result",
          "data": {
            "text/plain": [
              "0"
            ]
          },
          "metadata": {
            "tags": []
          },
          "execution_count": 15
        }
      ]
    },
    {
      "cell_type": "code",
      "metadata": {
        "colab": {
          "base_uri": "https://localhost:8080/"
        },
        "id": "ZmjbJteDnjuN",
        "outputId": "375b8f92-40ff-4c80-fcf8-5c7e9cc78851"
      },
      "source": [
        "side_of_plane(P, v3)"
      ],
      "execution_count": 16,
      "outputs": [
        {
          "output_type": "execute_result",
          "data": {
            "text/plain": [
              "-1"
            ]
          },
          "metadata": {
            "tags": []
          },
          "execution_count": 16
        }
      ]
    },
    {
      "cell_type": "markdown",
      "metadata": {
        "id": "-iNiOBXAnm9H"
      },
      "source": [
        "# Hash function with multiple planes"
      ]
    },
    {
      "cell_type": "code",
      "metadata": {
        "id": "YbNFUxo2nlNq"
      },
      "source": [
        "P1 = np.array([[1,1]])\n",
        "P2 = np.array([[-1,1]])\n",
        "P3 = np.array([[-1, -1]])\n",
        "P_1 = [P1, P2, P3]\n",
        "\n",
        "v = np.array([[2,2]])"
      ],
      "execution_count": 17,
      "outputs": []
    },
    {
      "cell_type": "code",
      "metadata": {
        "id": "Y4AO2E13oLze"
      },
      "source": [
        "def hash_multi_plane(P_1, v):\n",
        "  hash_value = 0\n",
        "  for i, P in enumerate(P_1):\n",
        "    sign = side_of_plane(P, v)\n",
        "    hash_i = 1 if sign>=0 else 0\n",
        "    hash_value += 2**i * hash_i\n",
        "  return hash_value"
      ],
      "execution_count": 18,
      "outputs": []
    },
    {
      "cell_type": "code",
      "metadata": {
        "colab": {
          "base_uri": "https://localhost:8080/"
        },
        "id": "bnSsTwiJpi2g",
        "outputId": "7421d1f0-b35d-4c8b-f545-c687d7ebc8d1"
      },
      "source": [
        "hash_multi_plane(P_1, v)"
      ],
      "execution_count": 19,
      "outputs": [
        {
          "output_type": "execute_result",
          "data": {
            "text/plain": [
              "3"
            ]
          },
          "metadata": {
            "tags": []
          },
          "execution_count": 19
        }
      ]
    },
    {
      "cell_type": "markdown",
      "metadata": {
        "id": "W61AIokCpqVj"
      },
      "source": [
        "# Random Plane"
      ]
    },
    {
      "cell_type": "code",
      "metadata": {
        "colab": {
          "base_uri": "https://localhost:8080/"
        },
        "id": "cK6IROowplp_",
        "outputId": "5aca0b24-c169-49fa-ad3d-9662733f8d35"
      },
      "source": [
        "np.random.seed(0)\n",
        "num_dimensions = 2\n",
        "num_planes = 3\n",
        "random_planes_matrix = np.random.normal(\n",
        "    size = (num_planes, num_dimensions))\n",
        "print(random_planes_matrix)"
      ],
      "execution_count": 22,
      "outputs": [
        {
          "output_type": "stream",
          "text": [
            "[[ 1.76405235  0.40015721]\n",
            " [ 0.97873798  2.2408932 ]\n",
            " [ 1.86755799 -0.97727788]]\n"
          ],
          "name": "stdout"
        }
      ]
    },
    {
      "cell_type": "code",
      "metadata": {
        "id": "xcOOiWvjp3eJ"
      },
      "source": [
        "v = np.array([[2,2]])"
      ],
      "execution_count": 23,
      "outputs": []
    },
    {
      "cell_type": "code",
      "metadata": {
        "id": "r0Txv6_yp9QA"
      },
      "source": [
        "def side_of_plane_matrix(P, v):\n",
        "  dotproduct = np.dot(P, v.T)\n",
        "  sign_of_dot_product = np.sign(dotproduct)\n",
        "  return sign_of_dot_product"
      ],
      "execution_count": 24,
      "outputs": []
    },
    {
      "cell_type": "code",
      "metadata": {
        "colab": {
          "base_uri": "https://localhost:8080/"
        },
        "id": "TigPgc4_qIQv",
        "outputId": "63951fd7-2621-4096-8af2-3dfe02461daf"
      },
      "source": [
        "sides_1 = side_of_plane_matrix(\n",
        "    random_planes_matrix,v\n",
        ")\n",
        "sides_1"
      ],
      "execution_count": 26,
      "outputs": [
        {
          "output_type": "execute_result",
          "data": {
            "text/plain": [
              "array([[1.],\n",
              "       [1.],\n",
              "       [1.]])"
            ]
          },
          "metadata": {
            "tags": []
          },
          "execution_count": 26
        }
      ]
    },
    {
      "cell_type": "code",
      "metadata": {
        "id": "HJc3LgQfqu5E"
      },
      "source": [
        "def hash_multi_plane_matrix(P, v, num_planes):\n",
        "  sides_matrix = side_of_plane_matrix(P, v)\n",
        "  hash_value = 0\n",
        "  for i in range(num_planes):\n",
        "    sign = sides_matrix[i].item()\n",
        "    hash_i = 1 if sign >=0 else 0 \n",
        "    hash_value += 2**i * hash_i \n",
        "  return hash_value"
      ],
      "execution_count": 29,
      "outputs": []
    },
    {
      "cell_type": "code",
      "metadata": {
        "colab": {
          "base_uri": "https://localhost:8080/"
        },
        "id": "4eAGnePyrNgt",
        "outputId": "415b0e1f-a143-41fc-d9c8-dcf61d265c93"
      },
      "source": [
        "hash_multi_plane_matrix(random_planes_matrix, v, num_planes)"
      ],
      "execution_count": 30,
      "outputs": [
        {
          "output_type": "execute_result",
          "data": {
            "text/plain": [
              "7"
            ]
          },
          "metadata": {
            "tags": []
          },
          "execution_count": 30
        }
      ]
    },
    {
      "cell_type": "markdown",
      "metadata": {
        "id": "fo85_QMVrYRe"
      },
      "source": [
        "# Document vectors"
      ]
    },
    {
      "cell_type": "code",
      "metadata": {
        "colab": {
          "base_uri": "https://localhost:8080/"
        },
        "id": "nxQ9KuZprQ7v",
        "outputId": "bb337263-9a3b-46f5-db93-1bd7663f850b"
      },
      "source": [
        "word_embedding = {\"I\": np.array([1,0,1]),\n",
        "                   \"love\": np.array([-1,0,1]),\n",
        "                   \"learning\": np.array([1,0,1])\n",
        "                  }\n",
        "words_in_document = ['I', 'love', 'learning', 'not_a_word']\n",
        "document_embedding = np.array([0,0,0])\n",
        "\n",
        "for word in words_in_document:\n",
        "  k = word_embedding.get(word,0)\n",
        "  document_embedding += k\n",
        "  print(word, k, document_embedding)\n",
        "\n",
        "print(document_embedding)"
      ],
      "execution_count": 34,
      "outputs": [
        {
          "output_type": "stream",
          "text": [
            "I [1 0 1] [1 0 1]\n",
            "love [-1  0  1] [0 0 2]\n",
            "learning [1 0 1] [1 0 3]\n",
            "not_a_word 0 [1 0 3]\n",
            "[1 0 3]\n"
          ],
          "name": "stdout"
        }
      ]
    },
    {
      "cell_type": "code",
      "metadata": {
        "id": "FCCJWNMxrr_H"
      },
      "source": [
        ""
      ],
      "execution_count": null,
      "outputs": []
    }
  ]
}