{
  "nbformat": 4,
  "nbformat_minor": 0,
  "metadata": {
    "colab": {
      "name": "nlp class 1 - Week1 - nb02",
      "provenance": [],
      "authorship_tag": "ABX9TyPkH0c/HQrIOfcg00Rd2sju",
      "include_colab_link": true
    },
    "kernelspec": {
      "name": "python3",
      "display_name": "Python 3"
    }
  },
  "cells": [
    {
      "cell_type": "markdown",
      "metadata": {
        "id": "view-in-github",
        "colab_type": "text"
      },
      "source": [
        "<a href=\"https://colab.research.google.com/github/mapmatters/coursera-nlp/blob/main/nlp_class_1_Week1_nb03.ipynb\" target=\"_parent\"><img src=\"https://colab.research.google.com/assets/colab-badge.svg\" alt=\"Open In Colab\"/></a>"
      ]
    },
    {
      "cell_type": "code",
      "metadata": {
        "colab": {
          "base_uri": "https://localhost:8080/"
        },
        "id": "QB2LlCHLRTk5",
        "outputId": "625cf011-19d5-4bc6-c520-d76c816b6fdb"
      },
      "source": [
        "from google.colab import drive\n",
        "drive.mount('/content/drive')\n",
        "import os\n",
        "os.chdir('/content/drive/MyDrive/coursera/nlp')\n",
        "!ls"
      ],
      "execution_count": 1,
      "outputs": [
        {
          "output_type": "stream",
          "text": [
            "Mounted at /content/drive\n",
            "'nlp class 1 - Week1 - nb01'  'nlp class 1 - Week1 - nb02 (1)'\t __pycache__\n",
            "'nlp class 1 - Week1 - nb02'   py\n"
          ],
          "name": "stdout"
        }
      ]
    },
    {
      "cell_type": "code",
      "metadata": {
        "id": "tBAeTM_BR3Rz"
      },
      "source": [
        "import nltk                         # NLP toolbox\n",
        "from os import getcwd\n",
        "import pandas as pd                 # Library for Dataframes \n",
        "from nltk.corpus import twitter_samples \n",
        "import matplotlib.pyplot as plt     # Library for visualization\n",
        "import numpy as np                  # Library for math functions"
      ],
      "execution_count": 2,
      "outputs": []
    },
    {
      "cell_type": "code",
      "metadata": {
        "id": "AQjxSD2FRVxk"
      },
      "source": [
        "# import my functions\n",
        "import sys\n",
        "sys.path.append('py')\n",
        "import my_utils as my"
      ],
      "execution_count": 3,
      "outputs": []
    },
    {
      "cell_type": "code",
      "metadata": {
        "colab": {
          "base_uri": "https://localhost:8080/"
        },
        "id": "OigGm7MrR9cc",
        "outputId": "a464d0a4-36ff-4c6e-a615-f0d96dd2c1e2"
      },
      "source": [
        "nltk.download('stopwords')\n",
        "nltk.download('twitter_samples')"
      ],
      "execution_count": 4,
      "outputs": [
        {
          "output_type": "stream",
          "text": [
            "[nltk_data] Downloading package stopwords to /root/nltk_data...\n",
            "[nltk_data]   Unzipping corpora/stopwords.zip.\n",
            "[nltk_data] Downloading package twitter_samples to /root/nltk_data...\n",
            "[nltk_data]   Unzipping corpora/twitter_samples.zip.\n"
          ],
          "name": "stdout"
        },
        {
          "output_type": "execute_result",
          "data": {
            "text/plain": [
              "True"
            ]
          },
          "metadata": {
            "tags": []
          },
          "execution_count": 4
        }
      ]
    },
    {
      "cell_type": "code",
      "metadata": {
        "colab": {
          "base_uri": "https://localhost:8080/"
        },
        "id": "x3Qm0WsdRi4C",
        "outputId": "a1154030-92dc-45dc-914c-67528eca3ae3"
      },
      "source": [
        "# Load the NLTK sample dataset\n",
        "# select the set of positive and negative tweets\n",
        "all_positive_tweets = twitter_samples.strings('positive_tweets.json')\n",
        "all_negative_tweets = twitter_samples.strings('negative_tweets.json')\n",
        "\n",
        "tweets = all_positive_tweets + all_negative_tweets ## Concatenate the lists. \n",
        "labels = np.append(np.ones((len(all_positive_tweets),1)), np.zeros((len(all_negative_tweets),1)), axis = 0)\n",
        "\n",
        "# split the data into two pieces, one for training and one for testing (validation set) \n",
        "train_pos  = all_positive_tweets[:4000]\n",
        "train_neg  = all_negative_tweets[:4000]\n",
        "\n",
        "train_x = train_pos + train_neg \n",
        "\n",
        "print(\"Number of tweets: \", len(train_x))"
      ],
      "execution_count": 5,
      "outputs": [
        {
          "output_type": "stream",
          "text": [
            "Number of tweets:  8000\n"
          ],
          "name": "stdout"
        }
      ]
    },
    {
      "cell_type": "markdown",
      "metadata": {
        "id": "RiGqWUvPSIch"
      },
      "source": [
        "### Load the extracted features"
      ]
    },
    {
      "cell_type": "code",
      "metadata": {
        "id": "Uq6SjxGcUna-"
      },
      "source": [
        "m = len(labels)\n",
        "aX = np.zeros((m,4))\n",
        "freqs = my.build_freqs(tweets, labels)"
      ],
      "execution_count": 6,
      "outputs": []
    },
    {
      "cell_type": "code",
      "metadata": {
        "colab": {
          "base_uri": "https://localhost:8080/"
        },
        "id": "2AbCXYXSRyTC",
        "outputId": "f5b16d8b-b250-462a-99ae-e126c4b2b924"
      },
      "source": [
        "for i in range(m):\n",
        "  p_tweet = my.process_tweet(tweets[i])\n",
        "  a = list(my.extract_features(p_tweet, freqs))\n",
        "  b = labels[i]\n",
        "  # X[i,:] = np.append(np.ones((len(all_positive_tweets),1)), np.zeros((len(all_negative_tweets),1)), axis = 0)\n",
        "  aX[i,:] = np.append(a, b, axis=0)\n",
        "aX"
      ],
      "execution_count": 8,
      "outputs": [
        {
          "output_type": "execute_result",
          "data": {
            "text/plain": [
              "array([[1.000e+00, 3.764e+03, 7.200e+01, 1.000e+00],\n",
              "       [1.000e+00, 4.464e+03, 5.170e+02, 1.000e+00],\n",
              "       [1.000e+00, 3.759e+03, 1.600e+02, 1.000e+00],\n",
              "       ...,\n",
              "       [1.000e+00, 3.400e+01, 4.640e+03, 0.000e+00],\n",
              "       [1.000e+00, 1.000e+01, 4.585e+03, 0.000e+00],\n",
              "       [1.000e+00, 1.160e+02, 5.820e+02, 0.000e+00]])"
            ]
          },
          "metadata": {
            "tags": []
          },
          "execution_count": 8
        }
      ]
    },
    {
      "cell_type": "code",
      "metadata": {
        "colab": {
          "base_uri": "https://localhost:8080/",
          "height": 419
        },
        "id": "nAdF_Tp1WcH6",
        "outputId": "8a4be350-12d8-4889-8ee9-d74edacc79ef"
      },
      "source": [
        "nam = ['bias', 'positive', 'negative', 'sentiment']\n",
        "data_all = pd.DataFrame(aX, columns=nam)\n",
        "data_all"
      ],
      "execution_count": 9,
      "outputs": [
        {
          "output_type": "execute_result",
          "data": {
            "text/html": [
              "<div>\n",
              "<style scoped>\n",
              "    .dataframe tbody tr th:only-of-type {\n",
              "        vertical-align: middle;\n",
              "    }\n",
              "\n",
              "    .dataframe tbody tr th {\n",
              "        vertical-align: top;\n",
              "    }\n",
              "\n",
              "    .dataframe thead th {\n",
              "        text-align: right;\n",
              "    }\n",
              "</style>\n",
              "<table border=\"1\" class=\"dataframe\">\n",
              "  <thead>\n",
              "    <tr style=\"text-align: right;\">\n",
              "      <th></th>\n",
              "      <th>bias</th>\n",
              "      <th>positive</th>\n",
              "      <th>negative</th>\n",
              "      <th>sentiment</th>\n",
              "    </tr>\n",
              "  </thead>\n",
              "  <tbody>\n",
              "    <tr>\n",
              "      <th>0</th>\n",
              "      <td>1.0</td>\n",
              "      <td>3764.0</td>\n",
              "      <td>72.0</td>\n",
              "      <td>1.0</td>\n",
              "    </tr>\n",
              "    <tr>\n",
              "      <th>1</th>\n",
              "      <td>1.0</td>\n",
              "      <td>4464.0</td>\n",
              "      <td>517.0</td>\n",
              "      <td>1.0</td>\n",
              "    </tr>\n",
              "    <tr>\n",
              "      <th>2</th>\n",
              "      <td>1.0</td>\n",
              "      <td>3759.0</td>\n",
              "      <td>160.0</td>\n",
              "      <td>1.0</td>\n",
              "    </tr>\n",
              "    <tr>\n",
              "      <th>3</th>\n",
              "      <td>1.0</td>\n",
              "      <td>3589.0</td>\n",
              "      <td>4.0</td>\n",
              "      <td>1.0</td>\n",
              "    </tr>\n",
              "    <tr>\n",
              "      <th>4</th>\n",
              "      <td>1.0</td>\n",
              "      <td>3915.0</td>\n",
              "      <td>280.0</td>\n",
              "      <td>1.0</td>\n",
              "    </tr>\n",
              "    <tr>\n",
              "      <th>...</th>\n",
              "      <td>...</td>\n",
              "      <td>...</td>\n",
              "      <td>...</td>\n",
              "      <td>...</td>\n",
              "    </tr>\n",
              "    <tr>\n",
              "      <th>9995</th>\n",
              "      <td>1.0</td>\n",
              "      <td>56.0</td>\n",
              "      <td>4698.0</td>\n",
              "      <td>0.0</td>\n",
              "    </tr>\n",
              "    <tr>\n",
              "      <th>9996</th>\n",
              "      <td>1.0</td>\n",
              "      <td>3.0</td>\n",
              "      <td>4588.0</td>\n",
              "      <td>0.0</td>\n",
              "    </tr>\n",
              "    <tr>\n",
              "      <th>9997</th>\n",
              "      <td>1.0</td>\n",
              "      <td>34.0</td>\n",
              "      <td>4640.0</td>\n",
              "      <td>0.0</td>\n",
              "    </tr>\n",
              "    <tr>\n",
              "      <th>9998</th>\n",
              "      <td>1.0</td>\n",
              "      <td>10.0</td>\n",
              "      <td>4585.0</td>\n",
              "      <td>0.0</td>\n",
              "    </tr>\n",
              "    <tr>\n",
              "      <th>9999</th>\n",
              "      <td>1.0</td>\n",
              "      <td>116.0</td>\n",
              "      <td>582.0</td>\n",
              "      <td>0.0</td>\n",
              "    </tr>\n",
              "  </tbody>\n",
              "</table>\n",
              "<p>10000 rows × 4 columns</p>\n",
              "</div>"
            ],
            "text/plain": [
              "      bias  positive  negative  sentiment\n",
              "0      1.0    3764.0      72.0        1.0\n",
              "1      1.0    4464.0     517.0        1.0\n",
              "2      1.0    3759.0     160.0        1.0\n",
              "3      1.0    3589.0       4.0        1.0\n",
              "4      1.0    3915.0     280.0        1.0\n",
              "...    ...       ...       ...        ...\n",
              "9995   1.0      56.0    4698.0        0.0\n",
              "9996   1.0       3.0    4588.0        0.0\n",
              "9997   1.0      34.0    4640.0        0.0\n",
              "9998   1.0      10.0    4585.0        0.0\n",
              "9999   1.0     116.0     582.0        0.0\n",
              "\n",
              "[10000 rows x 4 columns]"
            ]
          },
          "metadata": {
            "tags": []
          },
          "execution_count": 9
        }
      ]
    },
    {
      "cell_type": "code",
      "metadata": {
        "colab": {
          "base_uri": "https://localhost:8080/",
          "height": 419
        },
        "id": "xI2OayrHSjOO",
        "outputId": "dbf6e3e3-190c-4761-dd33-8cf927a0b37b"
      },
      "source": [
        "labels_train = np.append(np.ones((len(train_pos),1)), np.zeros((len(train_neg),1)), axis = 0)\n",
        "l = len(labels_train)\n",
        "tX = np.zeros((l,4))\n",
        "freqs_train = my.build_freqs(train_x, labels_train)\n",
        "for i in range(l):\n",
        "  p_tweet = my.process_tweet(train_x[i])\n",
        "  a = list(my.extract_features(p_tweet, freqs_train))\n",
        "  b = labels_train[i]\n",
        "  # X[i,:] = np.append(np.ones((len(all_positive_tweets),1)), np.zeros((len(all_negative_tweets),1)), axis = 0)\n",
        "  tX[i,:] = np.append(a, b, axis=0)\n",
        "\n",
        "data = pd.DataFrame(tX, columns=nam)\n",
        "data"
      ],
      "execution_count": 10,
      "outputs": [
        {
          "output_type": "execute_result",
          "data": {
            "text/html": [
              "<div>\n",
              "<style scoped>\n",
              "    .dataframe tbody tr th:only-of-type {\n",
              "        vertical-align: middle;\n",
              "    }\n",
              "\n",
              "    .dataframe tbody tr th {\n",
              "        vertical-align: top;\n",
              "    }\n",
              "\n",
              "    .dataframe thead th {\n",
              "        text-align: right;\n",
              "    }\n",
              "</style>\n",
              "<table border=\"1\" class=\"dataframe\">\n",
              "  <thead>\n",
              "    <tr style=\"text-align: right;\">\n",
              "      <th></th>\n",
              "      <th>bias</th>\n",
              "      <th>positive</th>\n",
              "      <th>negative</th>\n",
              "      <th>sentiment</th>\n",
              "    </tr>\n",
              "  </thead>\n",
              "  <tbody>\n",
              "    <tr>\n",
              "      <th>0</th>\n",
              "      <td>1.0</td>\n",
              "      <td>3020.0</td>\n",
              "      <td>61.0</td>\n",
              "      <td>1.0</td>\n",
              "    </tr>\n",
              "    <tr>\n",
              "      <th>1</th>\n",
              "      <td>1.0</td>\n",
              "      <td>3573.0</td>\n",
              "      <td>444.0</td>\n",
              "      <td>1.0</td>\n",
              "    </tr>\n",
              "    <tr>\n",
              "      <th>2</th>\n",
              "      <td>1.0</td>\n",
              "      <td>3005.0</td>\n",
              "      <td>115.0</td>\n",
              "      <td>1.0</td>\n",
              "    </tr>\n",
              "    <tr>\n",
              "      <th>3</th>\n",
              "      <td>1.0</td>\n",
              "      <td>2862.0</td>\n",
              "      <td>4.0</td>\n",
              "      <td>1.0</td>\n",
              "    </tr>\n",
              "    <tr>\n",
              "      <th>4</th>\n",
              "      <td>1.0</td>\n",
              "      <td>3119.0</td>\n",
              "      <td>225.0</td>\n",
              "      <td>1.0</td>\n",
              "    </tr>\n",
              "    <tr>\n",
              "      <th>...</th>\n",
              "      <td>...</td>\n",
              "      <td>...</td>\n",
              "      <td>...</td>\n",
              "      <td>...</td>\n",
              "    </tr>\n",
              "    <tr>\n",
              "      <th>7995</th>\n",
              "      <td>1.0</td>\n",
              "      <td>29.0</td>\n",
              "      <td>3706.0</td>\n",
              "      <td>0.0</td>\n",
              "    </tr>\n",
              "    <tr>\n",
              "      <th>7996</th>\n",
              "      <td>1.0</td>\n",
              "      <td>62.0</td>\n",
              "      <td>323.0</td>\n",
              "      <td>0.0</td>\n",
              "    </tr>\n",
              "    <tr>\n",
              "      <th>7997</th>\n",
              "      <td>1.0</td>\n",
              "      <td>144.0</td>\n",
              "      <td>783.0</td>\n",
              "      <td>0.0</td>\n",
              "    </tr>\n",
              "    <tr>\n",
              "      <th>7998</th>\n",
              "      <td>1.0</td>\n",
              "      <td>205.0</td>\n",
              "      <td>3890.0</td>\n",
              "      <td>0.0</td>\n",
              "    </tr>\n",
              "    <tr>\n",
              "      <th>7999</th>\n",
              "      <td>1.0</td>\n",
              "      <td>189.0</td>\n",
              "      <td>3974.0</td>\n",
              "      <td>0.0</td>\n",
              "    </tr>\n",
              "  </tbody>\n",
              "</table>\n",
              "<p>8000 rows × 4 columns</p>\n",
              "</div>"
            ],
            "text/plain": [
              "      bias  positive  negative  sentiment\n",
              "0      1.0    3020.0      61.0        1.0\n",
              "1      1.0    3573.0     444.0        1.0\n",
              "2      1.0    3005.0     115.0        1.0\n",
              "3      1.0    2862.0       4.0        1.0\n",
              "4      1.0    3119.0     225.0        1.0\n",
              "...    ...       ...       ...        ...\n",
              "7995   1.0      29.0    3706.0        0.0\n",
              "7996   1.0      62.0     323.0        0.0\n",
              "7997   1.0     144.0     783.0        0.0\n",
              "7998   1.0     205.0    3890.0        0.0\n",
              "7999   1.0     189.0    3974.0        0.0\n",
              "\n",
              "[8000 rows x 4 columns]"
            ]
          },
          "metadata": {
            "tags": []
          },
          "execution_count": 10
        }
      ]
    },
    {
      "cell_type": "code",
      "metadata": {
        "colab": {
          "base_uri": "https://localhost:8080/"
        },
        "id": "70085PNXXe1K",
        "outputId": "4b747f6e-1e32-4840-c0d4-c2d4e256d57c"
      },
      "source": [
        "data.shape"
      ],
      "execution_count": 11,
      "outputs": [
        {
          "output_type": "execute_result",
          "data": {
            "text/plain": [
              "(8000, 4)"
            ]
          },
          "metadata": {
            "tags": []
          },
          "execution_count": 11
        }
      ]
    },
    {
      "cell_type": "code",
      "metadata": {
        "colab": {
          "base_uri": "https://localhost:8080/"
        },
        "id": "fY1im2qzXlq0",
        "outputId": "d9db6d16-5566-49d6-d820-8f388715a3bf"
      },
      "source": [
        "X = data[['bias','positive','negative']].values\n",
        "Y = data['sentiment'].values\n",
        "\n",
        "print(X.shape)\n",
        "print(X)"
      ],
      "execution_count": 12,
      "outputs": [
        {
          "output_type": "stream",
          "text": [
            "(8000, 3)\n",
            "[[1.000e+00 3.020e+03 6.100e+01]\n",
            " [1.000e+00 3.573e+03 4.440e+02]\n",
            " [1.000e+00 3.005e+03 1.150e+02]\n",
            " ...\n",
            " [1.000e+00 1.440e+02 7.830e+02]\n",
            " [1.000e+00 2.050e+02 3.890e+03]\n",
            " [1.000e+00 1.890e+02 3.974e+03]]\n"
          ],
          "name": "stdout"
        }
      ]
    },
    {
      "cell_type": "markdown",
      "metadata": {
        "id": "RwBLgHMva_L1"
      },
      "source": [
        "### Load pretrained logistic regression model"
      ]
    },
    {
      "cell_type": "code",
      "metadata": {
        "id": "4-F3tjE4arR1"
      },
      "source": [
        "theta = [7e-08, 0.0005239, -0.00055517]"
      ],
      "execution_count": 13,
      "outputs": []
    },
    {
      "cell_type": "markdown",
      "metadata": {
        "id": "9aWvH38bbJcN"
      },
      "source": [
        "### Plot the samples in a scatter plot"
      ]
    },
    {
      "cell_type": "code",
      "metadata": {
        "colab": {
          "base_uri": "https://localhost:8080/",
          "height": 623
        },
        "id": "oBGsPOMpbHlj",
        "outputId": "34a9b3e8-21bb-4c5b-aedb-5caa67fa34f2"
      },
      "source": [
        "plt.style.use('dark_background')\n",
        "fig, ax = plt.subplots(figsize = (10,10))\n",
        "colors = ['red','green']\n",
        "\n",
        "ax.scatter(X[:,1], X[:,2], c=[colors[int(k)] for k in Y], s=5, alpha=0.3)\n",
        "plt.xlabel(\"Positive\")\n",
        "plt.ylabel(\"Negative\")"
      ],
      "execution_count": 14,
      "outputs": [
        {
          "output_type": "execute_result",
          "data": {
            "text/plain": [
              "Text(0, 0.5, 'Negative')"
            ]
          },
          "metadata": {
            "tags": []
          },
          "execution_count": 14
        },
        {
          "output_type": "display_data",
          "data": {
            "image/png": "[encoded data removed]",
            "text/plain": [
              "<Figure size 720x720 with 1 Axes>"
            ]
          },
          "metadata": {
            "tags": []
          }
        }
      ]
    },
    {
      "cell_type": "code",
      "metadata": {
        "id": "7aLQ5ScybzwX"
      },
      "source": [
        "# equation for the sepraration plane\n",
        "# f(pos, neg, W) = w0 + w1*pos + w2*neg = 0\n",
        "# s(pos, W) = (w0 - w1*pos) / w2\n",
        "def neg(theta, pos):\n",
        "  return (-theta[0] - pos*theta[1])/theta[2]\n",
        "\n",
        "# direction of the sentiminets change\n",
        "# perpendicular to the separation plane\n",
        "def direction(theta, pos):\n",
        "  return pos * theta[2]/theta[1]"
      ],
      "execution_count": 16,
      "outputs": []
    },
    {
      "cell_type": "code",
      "metadata": {
        "colab": {
          "base_uri": "https://localhost:8080/",
          "height": 497
        },
        "id": "Z8ukyC6f70K7",
        "outputId": "8c6987cf-1e0a-4914-cf4c-a05104b6de6a"
      },
      "source": [
        "fig, ax = plt.subplots(figsize =(8,8))\n",
        "\n",
        "color = ['red', 'green']\n",
        "\n",
        "ax.scatter(X[:,1], X[:,2], c=[colors[int(k)] for k in Y], s = 0.4)\n",
        "plt.xlabel(\"Positive\")\n",
        "plt.ylabel(\"Negative\")\n",
        "\n",
        "# represent the logistic regression model\n",
        "maxpos = np.max(X[:,1])\n",
        "offset = 5000 # the pos value for the direction vectors origin\n",
        "\n",
        "# plot a gray line that divides the 2 areas\n",
        "ax.plot([0, maxpos], [neg(theta,0), neg(theta, maxpos)], color = 'gray')\n",
        "\n",
        "ax.arrow(offset, neg(theta, offset), offset, direction(theta, offset), head_width=500, head_length=500, fc='g', ec='g')\n",
        "ax.arrow(offset, neg(theta, offset), -offset, -direction(theta, offset), head_width=500, head_length=500, fc='r', ec='r')\n",
        "\n",
        "plt.show()"
      ],
      "execution_count": 17,
      "outputs": [
        {
          "output_type": "display_data",
          "data": {
            "image/png": "[encoded data removed]",
            "text/plain": [
              "<Figure size 576x576 with 1 Axes>"
            ]
          },
          "metadata": {
            "tags": []
          }
        }
      ]
    },
    {
      "cell_type": "code",
      "metadata": {
        "id": "7Vzp297N_CtD"
      },
      "source": [
        ""
      ],
      "execution_count": null,
      "outputs": []
    }
  ]
}